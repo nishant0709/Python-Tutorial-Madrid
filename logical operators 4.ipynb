{
 "cells": [
  {
   "cell_type": "code",
   "execution_count": 2,
   "id": "ec79a5e4-2376-4a23-985e-827b11df5870",
   "metadata": {},
   "outputs": [
    {
     "name": "stdin",
     "output_type": "stream",
     "text": [
      "enter the number 76\n",
      "enter the number 176\n",
      "enter the number 54\n"
     ]
    },
    {
     "name": "stdout",
     "output_type": "stream",
     "text": [
      "B is greatest\n"
     ]
    }
   ],
   "source": [
    "#greatest among three numbers\n",
    "a=int(input(\"enter the number\"))\n",
    "b=int(input(\"enter the number\"))\n",
    "c=int(input(\"enter the number\"))\n",
    "if a>b and a>c:\n",
    "    print(\"A is greatest\")\n",
    "elif b>a and b>c:\n",
    "    print(\"B is greatest\")\n",
    "else:\n",
    "    print(\"C is greatest\") "
   ]
  },
  {
   "cell_type": "code",
   "execution_count": 4,
   "id": "080c6a4d-a5fe-409d-936f-91644956eb9b",
   "metadata": {},
   "outputs": [
    {
     "name": "stdin",
     "output_type": "stream",
     "text": [
      "enter an alphabet without space h \n"
     ]
    },
    {
     "name": "stdout",
     "output_type": "stream",
     "text": [
      "consonent\n"
     ]
    }
   ],
   "source": [
    "#check vowel or consonant\n",
    "ch=input(\"enter an alphabet without space\")\n",
    "if ch=='a' or ch=='e' or ch=='i' or ch=='o' or ch=='u':\n",
    "     print(\"vowel\")\n",
    "elif ch=='A' or ch=='E' or ch=='I' or ch=='O' or ch=='U':\n",
    "    print(\"vowel\")\n",
    "else:\n",
    "    print(\"consonent\")"
   ]
  },
  {
   "cell_type": "code",
   "execution_count": 1,
   "id": "14249035-1894-4b32-bb6e-9ce09e48cc5d",
   "metadata": {},
   "outputs": [
    {
     "name": "stdin",
     "output_type": "stream",
     "text": [
      "enter an alphabet without sapce \n",
      " r for red \n",
      " y for yellow \n",
      " g for green Z\n"
     ]
    },
    {
     "name": "stdout",
     "output_type": "stream",
     "text": [
      "pay chalaan\n"
     ]
    }
   ],
   "source": [
    "#trafic light\n",
    "ch=input(\"enter an alphabet without sapce \\n r for red \\n y for yellow \\n g for green\")\n",
    "if ch=='r' or ch=='R':\n",
    "    print(\"stop\")\n",
    "elif ch=='y' or ch=='Y':\n",
    "    print(\"get ready\")\n",
    "elif ch=='g' or ch=='G':\n",
    "    print(\"move forward\")\n",
    "else:\n",
    "    print(\"pay chalaan\")\n",
    "    "
   ]
  },
  {
   "cell_type": "code",
   "execution_count": 7,
   "id": "4ca12ac5-8ec0-4e6e-bc48-a61b2d4c5cc2",
   "metadata": {},
   "outputs": [
    {
     "name": "stdin",
     "output_type": "stream",
     "text": [
      "enter the number 87\n",
      "enter the number 98\n"
     ]
    },
    {
     "name": "stdout",
     "output_type": "stream",
     "text": [
      "1.ADD\n",
      "2.SUB\n",
      "3.MUL\n",
      "4.DIV\n"
     ]
    },
    {
     "name": "stdin",
     "output_type": "stream",
     "text": [
      "enter the choice from 1\n"
     ]
    },
    {
     "name": "stdout",
     "output_type": "stream",
     "text": [
      "sum 185\n"
     ]
    }
   ],
   "source": [
    "#mini calculator\n",
    "a=int(input(\"enter the number\"))\n",
    "b=int(input(\"enter the number\"))\n",
    "print(\"1.ADD\")\n",
    "print(\"2.SUB\")\n",
    "print(\"3.MUL\")\n",
    "print(\"4.DIV\")\n",
    "choice=int(input(\"enter the choice from\"))\n",
    "if choice==1:\n",
    "    print(\"sum\",a+b)\n",
    "elif choice==2:\n",
    "    print(\"sub\",a-b)\n",
    "elif choice==3:\n",
    "    print(\"mul\",a*b)\n",
    "elif choice==4:\n",
    "    print(\"div\",a/b)\n",
    "else:\n",
    "    print(\"invalid choice\")\n",
    "    "
   ]
  },
  {
   "cell_type": "code",
   "execution_count": null,
   "id": "55ac67c3-f0d7-49a6-8f74-08888aec4953",
   "metadata": {},
   "outputs": [],
   "source": []
  },
  {
   "cell_type": "code",
   "execution_count": null,
   "id": "32d1d638-fc46-4fdc-a855-a143b36cd64c",
   "metadata": {},
   "outputs": [],
   "source": []
  },
  {
   "cell_type": "code",
   "execution_count": null,
   "id": "c95b9fdc-42ea-409b-8833-4ed8fa0bc5a0",
   "metadata": {},
   "outputs": [],
   "source": []
  }
 ],
 "metadata": {
  "kernelspec": {
   "display_name": "Python 3 (ipykernel)",
   "language": "python",
   "name": "python3"
  },
  "language_info": {
   "codemirror_mode": {
    "name": "ipython",
    "version": 3
   },
   "file_extension": ".py",
   "mimetype": "text/x-python",
   "name": "python",
   "nbconvert_exporter": "python",
   "pygments_lexer": "ipython3",
   "version": "3.11.7"
  }
 },
 "nbformat": 4,
 "nbformat_minor": 5
}
