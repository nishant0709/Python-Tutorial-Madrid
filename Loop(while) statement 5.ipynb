{
 "cells": [
  {
   "cell_type": "code",
   "execution_count": 2,
   "id": "8170fa6d-03b6-4626-81de-b40dfcce32ff",
   "metadata": {},
   "outputs": [
    {
     "name": "stdout",
     "output_type": "stream",
     "text": [
      "Nishant Nishant Nishant Nishant Nishant Nishant Nishant Nishant Nishant Nishant "
     ]
    }
   ],
   "source": [
    "#print your name 10 times\n",
    "i=1\n",
    "while i<=10:\n",
    "    print(\"Nishant\",end=\" \")\n",
    "    i=i+1"
   ]
  },
  {
   "cell_type": "code",
   "execution_count": 2,
   "id": "c07eca18-5a07-468d-9113-0b6948d7cc28",
   "metadata": {
    "scrolled": true
   },
   "outputs": [
    {
     "name": "stdout",
     "output_type": "stream",
     "text": [
      "1 2 3 4 5 6 7 8 9 10 "
     ]
    }
   ],
   "source": [
    "#print first 10 natural numbers\n",
    "i=1\n",
    "while i<=10:\n",
    "    print(i,end=\" \")\n",
    "    i=i+1"
   ]
  },
  {
   "cell_type": "code",
   "execution_count": 18,
   "id": "15a96c85-a302-4ede-bb8f-de4e86596fd8",
   "metadata": {},
   "outputs": [
    {
     "name": "stdout",
     "output_type": "stream",
     "text": [
      "sum is 55\n"
     ]
    }
   ],
   "source": [
    "#SUM OF FIRST 10 NATURAL NUMBER\n",
    "i=1\n",
    "s=0\n",
    "while i<=10:\n",
    "    s=s+i\n",
    "    i=i+1\n",
    "print(\"sum is\",s) \n",
    "\n",
    "\n",
    "#s=s+i\n",
    "#s=0+1=1\n",
    "#s=1+2=3\n",
    "#s=3+3=6\n",
    "#s=6+4=10\n",
    "#.\n",
    "#.\n",
    "#s=45+10=55"
   ]
  },
  {
   "cell_type": "code",
   "execution_count": 5,
   "id": "82e57e5d-8e7d-4a6a-a427-25f3002f60d9",
   "metadata": {},
   "outputs": [
    {
     "name": "stdin",
     "output_type": "stream",
     "text": [
      "enter the stop value 50\n"
     ]
    },
    {
     "name": "stdout",
     "output_type": "stream",
     "text": [
      "2 4 6 8 10 12 14 16 18 20 22 24 26 28 30 32 34 36 38 40 42 44 46 48 50 "
     ]
    }
   ],
   "source": [
    "#print first n even numbers\n",
    "n=int(input(\"enter the stop value\"))\n",
    "i=1\n",
    "while i<=n:\n",
    "     if i%2==0:\n",
    "        print(i,end=\" \")\n",
    "     i=i+1"
   ]
  },
  {
   "cell_type": "code",
   "execution_count": 2,
   "id": "98cbdb8a-51ad-445c-968d-70a474c18424",
   "metadata": {},
   "outputs": [
    {
     "name": "stdin",
     "output_type": "stream",
     "text": [
      "enter the stop value 80\n"
     ]
    },
    {
     "name": "stdout",
     "output_type": "stream",
     "text": [
      "sum of even number is 1640\n",
      "sum of odd number is 1600\n"
     ]
    }
   ],
   "source": [
    "#sum of enen/odd numbers\n",
    "n=int(input(\"enter the stop value\"))\n",
    "i=1\n",
    "se=0\n",
    "so=0\n",
    "while i<=n:\n",
    "    if i%2==0:\n",
    "        se=se+i\n",
    "    else:\n",
    "        so=so+i\n",
    "    i=i+1\n",
    "print(\"sum of even number is\",se)\n",
    "print(\"sum of odd number is\",so)\n",
    "       \n"
   ]
  },
  {
   "cell_type": "code",
   "execution_count": 4,
   "id": "6e68731b-285e-4094-b9d7-46acdc918199",
   "metadata": {},
   "outputs": [
    {
     "name": "stdin",
     "output_type": "stream",
     "text": [
      "enter the number 5\n"
     ]
    },
    {
     "name": "stdout",
     "output_type": "stream",
     "text": [
      "the factorial is 120\n"
     ]
    }
   ],
   "source": [
    "#factorial of a given number\n",
    "n=int(input(\"enter the number\"))\n",
    "f=1\n",
    "while n>0:\n",
    "    f=f*n\n",
    "    n=n-1\n",
    "print(\"the factorial is\",f)\n",
    "\n",
    "#n=5\n",
    "#f=f*n\n",
    "#f=1*5=5\n",
    "#f=5*4=20\n",
    "#f=20*3=60\n",
    "#f=60*2=120\n",
    "#f=120*1=120\n",
    "\n",
    "\n"
   ]
  },
  {
   "cell_type": "code",
   "execution_count": 18,
   "id": "8dc3df4f-bb18-4c8f-8567-75379dcb0a2a",
   "metadata": {},
   "outputs": [
    {
     "name": "stdin",
     "output_type": "stream",
     "text": [
      "enter the number 24\n"
     ]
    },
    {
     "name": "stdout",
     "output_type": "stream",
     "text": [
      "1 2 3 4 6 8 12 24 "
     ]
    }
   ],
   "source": [
    "#factor or divisior of given number\n",
    "#24--1 2 3 4 6 8 12 24\n",
    "\n",
    "i=1\n",
    "n=int(input(\"enter the number\"))\n",
    "while i<=n:\n",
    "    if n%i==0:\n",
    "        print(i,end=\" \")\n",
    "    i=i+1"
   ]
  },
  {
   "cell_type": "code",
   "execution_count": 9,
   "id": "7c174bcc-7f92-423b-8c85-4ca2afc9249f",
   "metadata": {},
   "outputs": [
    {
     "name": "stdin",
     "output_type": "stream",
     "text": [
      "enter the number 89\n"
     ]
    },
    {
     "name": "stdout",
     "output_type": "stream",
     "text": [
      "prime number\n"
     ]
    }
   ],
   "source": [
    "#prime number\n",
    "i=1\n",
    "n=int(input(\"enter the number\"))\n",
    "co=0\n",
    "while i<=n:\n",
    "    if n%i==0:\n",
    "        co=co+1\n",
    "    i=i+1\n",
    "if co==2:\n",
    "    print(\"prime number\")\n",
    "else:\n",
    "    print(\"not a prime number\")"
   ]
  },
  {
   "cell_type": "code",
   "execution_count": 11,
   "id": "3ee20dbd-282f-4ad0-b043-4df8ddb8dbcd",
   "metadata": {},
   "outputs": [
    {
     "name": "stdin",
     "output_type": "stream",
     "text": [
      "enter the number 19\n"
     ]
    },
    {
     "name": "stdout",
     "output_type": "stream",
     "text": [
      "19 38 57 76 95 114 133 152 171 190 "
     ]
    }
   ],
   "source": [
    "#table of given number\n",
    "i=1\n",
    "n=int(input(\"enter the number\"))\n",
    "while i<=10:\n",
    "    print(n*i,end=\" \")\n",
    "    i=i+1"
   ]
  },
  {
   "cell_type": "code",
   "execution_count": 14,
   "id": "53679987-3c57-43c2-a404-ee623c99a3c3",
   "metadata": {},
   "outputs": [
    {
     "name": "stdin",
     "output_type": "stream",
     "text": [
      "enter the number 6\n"
     ]
    },
    {
     "name": "stdout",
     "output_type": "stream",
     "text": [
      "6 * 1 = 6 6 * 2 = 12 6 * 3 = 18 6 * 4 = 24 6 * 5 = 30 6 * 6 = 36 6 * 7 = 42 6 * 8 = 48 6 * 9 = 54 6 * 10 = 60 "
     ]
    }
   ],
   "source": [
    "i=1\n",
    "n=int(input(\"enter the number\"))\n",
    "while i<=10:\n",
    "   print(n,\"*\",i,\"=\",n*i,end=\" \")\n",
    "   i=i+1\n"
   ]
  },
  {
   "cell_type": "code",
   "execution_count": 16,
   "id": "9f503b7a-00d7-4267-92de-c078fef91921",
   "metadata": {},
   "outputs": [
    {
     "name": "stdin",
     "output_type": "stream",
     "text": [
      "enter the number 7654\n"
     ]
    },
    {
     "name": "stdout",
     "output_type": "stream",
     "text": [
      "the sum of digits is 22\n"
     ]
    }
   ],
   "source": [
    "#sum of digits of a number\n",
    "#765--7+6+5\n",
    "\n",
    "n=int(input(\"enter the number\"))\n",
    "s=0\n",
    "while n>0:\n",
    "    rem=n%10\n",
    "    s=s+rem\n",
    "    n=n//10\n",
    "print(\"the sum of digits is\",s)\n",
    "\n",
    "#n=7895\n",
    "#rem=n%10\n",
    "#s=s+rem\n",
    "#n=n//10\n",
    "\n",
    "#rem=5\n",
    "#s=0+5=5\n",
    "#n=789\n",
    "\n",
    "#rem=9\n",
    "#s=5+9=14\n",
    "#n=78\n",
    "\n",
    "#rem=8\n",
    "#s=14+8=22\n",
    "#n=7\n",
    "\n",
    "#rem=7\n",
    "#s=22+7=29\n",
    "#n=0\n",
    "\n",
    "\n",
    "\n",
    "    "
   ]
  },
  {
   "cell_type": "code",
   "execution_count": 19,
   "id": "fd4e3520-2bc7-45cc-8fbf-4af8b1730ba9",
   "metadata": {},
   "outputs": [
    {
     "name": "stdin",
     "output_type": "stream",
     "text": [
      "enter the number 726\n"
     ]
    },
    {
     "name": "stdout",
     "output_type": "stream",
     "text": [
      "the reverse is 627\n"
     ]
    }
   ],
   "source": [
    "#reverse of the number\n",
    "n=int(input(\"enter the number\"))\n",
    "rev=0\n",
    "while n>0:\n",
    "    rem=n%10\n",
    "    rev=rev*10+rem\n",
    "    n=n//10\n",
    "print(\"the reverse is\",rev)\n",
    "\n",
    "#n=726\n",
    "#rem=n%10\n",
    "#rev=rev*10+rem\n",
    "#n=n//10\n",
    "\n",
    "#rem=6\n",
    "#rev=0*10+6=6\n",
    "#n=72\n",
    "\n",
    "#rem=2\n",
    "#rev=6*10+2=62\n",
    "#n=7\n",
    "\n",
    "#rem=7\n",
    "#rev=62*10+7=627\n",
    "#n=0\n",
    "\n",
    "\n",
    "\n",
    "\n"
   ]
  },
  {
   "cell_type": "code",
   "execution_count": 1,
   "id": "ac3836c3-6098-4344-beef-3f7c0dfc1cb9",
   "metadata": {},
   "outputs": [
    {
     "name": "stdin",
     "output_type": "stream",
     "text": [
      "enter the value 525\n"
     ]
    },
    {
     "name": "stdout",
     "output_type": "stream",
     "text": [
      "pallendrome number\n"
     ]
    }
   ],
   "source": [
    "#pallendrome number\n",
    "n=int(input(\"enter the value\"))\n",
    "rev=0\n",
    "n1=n\n",
    "while n>0:\n",
    "    rem=n%10\n",
    "    rev=rev*10+rem\n",
    "    n=n//10\n",
    "if n1==rev:\n",
    "    print(\"pallendrome number\")\n",
    "else:\n",
    "    print(\"not a pallendrome number\")"
   ]
  },
  {
   "cell_type": "code",
   "execution_count": null,
   "id": "facd43b3-2e54-4d8e-9450-4973999b74cf",
   "metadata": {},
   "outputs": [],
   "source": []
  },
  {
   "cell_type": "code",
   "execution_count": null,
   "id": "07e2e9ba-2b01-4c58-92ac-2a30488d142b",
   "metadata": {},
   "outputs": [],
   "source": []
  },
  {
   "cell_type": "code",
   "execution_count": null,
   "id": "5f1a2a06-3c40-49b3-84da-76c85dcd78d2",
   "metadata": {},
   "outputs": [],
   "source": []
  },
  {
   "cell_type": "code",
   "execution_count": null,
   "id": "c1fa257a-4d3f-45d0-b5cb-f7ac98e092aa",
   "metadata": {},
   "outputs": [],
   "source": []
  },
  {
   "cell_type": "code",
   "execution_count": null,
   "id": "909540b8-b371-4931-bfdb-b50b57581b6e",
   "metadata": {},
   "outputs": [],
   "source": []
  }
 ],
 "metadata": {
  "kernelspec": {
   "display_name": "Python 3 (ipykernel)",
   "language": "python",
   "name": "python3"
  },
  "language_info": {
   "codemirror_mode": {
    "name": "ipython",
    "version": 3
   },
   "file_extension": ".py",
   "mimetype": "text/x-python",
   "name": "python",
   "nbconvert_exporter": "python",
   "pygments_lexer": "ipython3",
   "version": "3.11.7"
  }
 },
 "nbformat": 4,
 "nbformat_minor": 5
}
