{
 "cells": [
  {
   "cell_type": "code",
   "execution_count": 6,
   "id": "4483ddd5-41c0-4d5f-bfc3-c1509f223203",
   "metadata": {},
   "outputs": [
    {
     "data": {
      "text/plain": [
       "int"
      ]
     },
     "execution_count": 6,
     "metadata": {},
     "output_type": "execute_result"
    }
   ],
   "source": [
    "_a_1=30\n",
    "type(_a_1)"
   ]
  },
  {
   "cell_type": "code",
   "execution_count": 3,
   "id": "029738a7-54b0-42f1-b6c0-e501820d588a",
   "metadata": {},
   "outputs": [
    {
     "data": {
      "text/plain": [
       "100"
      ]
     },
     "execution_count": 3,
     "metadata": {},
     "output_type": "execute_result"
    }
   ],
   "source": [
    "a1=100\n",
    "a1"
   ]
  },
  {
   "cell_type": "code",
   "execution_count": 6,
   "id": "96b4041d-1ce6-4e06-945b-b255d7acfaea",
   "metadata": {},
   "outputs": [
    {
     "data": {
      "text/plain": [
       "100"
      ]
     },
     "execution_count": 6,
     "metadata": {},
     "output_type": "execute_result"
    }
   ],
   "source": [
    "_a=100\n",
    "_a"
   ]
  },
  {
   "cell_type": "code",
   "execution_count": 7,
   "id": "94b3dc7b-4329-4182-8327-2376a3971bd0",
   "metadata": {},
   "outputs": [
    {
     "data": {
      "text/plain": [
       "100"
      ]
     },
     "execution_count": 7,
     "metadata": {},
     "output_type": "execute_result"
    }
   ],
   "source": [
    "a123=100\n",
    "a123"
   ]
  },
  {
   "cell_type": "code",
   "execution_count": 8,
   "id": "7ef15775-6c51-404c-a9de-75ab461c99fd",
   "metadata": {},
   "outputs": [
    {
     "data": {
      "text/plain": [
       "int"
      ]
     },
     "execution_count": 8,
     "metadata": {},
     "output_type": "execute_result"
    }
   ],
   "source": [
    "a=34\n",
    "type(a)"
   ]
  },
  {
   "cell_type": "code",
   "execution_count": 9,
   "id": "cc0b9d88-6115-41d5-82ae-83285429cffe",
   "metadata": {},
   "outputs": [
    {
     "data": {
      "text/plain": [
       "float"
      ]
     },
     "execution_count": 9,
     "metadata": {},
     "output_type": "execute_result"
    }
   ],
   "source": [
    "b=23.50\n",
    "type(b)"
   ]
  },
  {
   "cell_type": "code",
   "execution_count": 10,
   "id": "554b25e5-e9e7-469e-9414-35fa1b77d649",
   "metadata": {},
   "outputs": [
    {
     "data": {
      "text/plain": [
       "str"
      ]
     },
     "execution_count": 10,
     "metadata": {},
     "output_type": "execute_result"
    }
   ],
   "source": [
    "st=\"hello\"\n",
    "type(st)"
   ]
  },
  {
   "cell_type": "code",
   "execution_count": 11,
   "id": "ae041c41-a559-4354-bc5d-2738f883a638",
   "metadata": {},
   "outputs": [
    {
     "data": {
      "text/plain": [
       "complex"
      ]
     },
     "execution_count": 11,
     "metadata": {},
     "output_type": "execute_result"
    }
   ],
   "source": [
    "x=1+2j\n",
    "type(x)"
   ]
  },
  {
   "cell_type": "code",
   "execution_count": 12,
   "id": "32846e15-cb52-4b47-a1c8-19510c058fd1",
   "metadata": {},
   "outputs": [
    {
     "data": {
      "text/plain": [
       "list"
      ]
     },
     "execution_count": 12,
     "metadata": {},
     "output_type": "execute_result"
    }
   ],
   "source": [
    "y=[12,23,34,45,45,45]\n",
    "type(y)"
   ]
  },
  {
   "cell_type": "code",
   "execution_count": 13,
   "id": "1b8fd4a3-78da-42e1-aafa-4d1b183314db",
   "metadata": {},
   "outputs": [
    {
     "data": {
      "text/plain": [
       "tuple"
      ]
     },
     "execution_count": 13,
     "metadata": {},
     "output_type": "execute_result"
    }
   ],
   "source": [
    "z=(12,23,34)\n",
    "type(z)"
   ]
  },
  {
   "cell_type": "code",
   "execution_count": 9,
   "id": "6f733ccd-b7a9-4fb6-8a2c-7372e98ab2ff",
   "metadata": {},
   "outputs": [
    {
     "name": "stdout",
     "output_type": "stream",
     "text": [
      "<class 'set'>\n"
     ]
    }
   ],
   "source": [
    "p={12,23,34,45,56}\n",
    "print(type(p))"
   ]
  },
  {
   "cell_type": "code",
   "execution_count": 15,
   "id": "e233aaba-71f5-466d-bb62-d2124bfe56fb",
   "metadata": {},
   "outputs": [
    {
     "data": {
      "text/plain": [
       "set"
      ]
     },
     "execution_count": 15,
     "metadata": {},
     "output_type": "execute_result"
    }
   ],
   "source": [
    "p={12,23,34,45,45}\n",
    "type(p)"
   ]
  },
  {
   "cell_type": "code",
   "execution_count": 17,
   "id": "628be591-c631-48ce-980a-a91a2c779ba7",
   "metadata": {},
   "outputs": [
    {
     "data": {
      "text/plain": [
       "dict"
      ]
     },
     "execution_count": 17,
     "metadata": {},
     "output_type": "execute_result"
    }
   ],
   "source": [
    "p={1:1,2:4,3:9}  # key:value\n",
    "type(p)"
   ]
  },
  {
   "cell_type": "code",
   "execution_count": 18,
   "id": "87516ed0-b6fa-4603-bddd-4af062027197",
   "metadata": {},
   "outputs": [
    {
     "name": "stdout",
     "output_type": "stream",
     "text": [
      "hello\n"
     ]
    }
   ],
   "source": [
    "print(\"hello\")"
   ]
  },
  {
   "cell_type": "code",
   "execution_count": 19,
   "id": "8e621dc2-7434-48df-9ec1-fcca28e183b8",
   "metadata": {},
   "outputs": [
    {
     "name": "stdout",
     "output_type": "stream",
     "text": [
      "10\n"
     ]
    }
   ],
   "source": [
    "a=10\n",
    "print(a)"
   ]
  },
  {
   "cell_type": "code",
   "execution_count": 21,
   "id": "f86813fe-dc0a-420f-bb40-77180c768a3b",
   "metadata": {},
   "outputs": [
    {
     "name": "stdout",
     "output_type": "stream",
     "text": [
      "the value of a is= 10\n"
     ]
    }
   ],
   "source": [
    "print(\"the value of a is=\",a)"
   ]
  },
  {
   "cell_type": "code",
   "execution_count": 2,
   "id": "295c9803-667d-46cd-a09c-b692b04049a6",
   "metadata": {},
   "outputs": [
    {
     "name": "stdout",
     "output_type": "stream",
     "text": [
      "the value of x is 12\n",
      "the value of y is 23\n",
      "the value of z is 34\n"
     ]
    }
   ],
   "source": [
    "x,y,z=12,23,34\n",
    "print(\"the value of x is\",x)\n",
    "print(\"the value of y is\",y)\n",
    "print(\"the value of z is\",z)"
   ]
  },
  {
   "cell_type": "code",
   "execution_count": 11,
   "id": "532fcc57-059e-4ec0-af83-65edd52f1d55",
   "metadata": {},
   "outputs": [
    {
     "name": "stdout",
     "output_type": "stream",
     "text": [
      "sum: 9\n"
     ]
    }
   ],
   "source": [
    "#addition\n",
    "a=7\n",
    "b=2\n",
    "print('sum:',a+b)"
   ]
  },
  {
   "cell_type": "code",
   "execution_count": 25,
   "id": "f5d2dc94-546b-4a00-978b-6ffb3fbadb3a",
   "metadata": {},
   "outputs": [
    {
     "name": "stdout",
     "output_type": "stream",
     "text": [
      "subtraction: 5\n"
     ]
    }
   ],
   "source": [
    "#subtraction\n",
    "print('subtraction:',a-b)"
   ]
  },
  {
   "cell_type": "code",
   "execution_count": 26,
   "id": "7f038366-3d14-4e4c-a5b8-092abeb67dbb",
   "metadata": {},
   "outputs": [
    {
     "name": "stdout",
     "output_type": "stream",
     "text": [
      "multiplication: 14\n"
     ]
    }
   ],
   "source": [
    "#multiplication\n",
    "print('multiplication:',a*b)"
   ]
  },
  {
   "cell_type": "code",
   "execution_count": 29,
   "id": "a1027112-594d-4fe9-a9ae-4f91f18c6018",
   "metadata": {},
   "outputs": [
    {
     "name": "stdout",
     "output_type": "stream",
     "text": [
      "division: 3.5\n"
     ]
    }
   ],
   "source": [
    "#division\n",
    "print('division:',a/b)"
   ]
  },
  {
   "cell_type": "code",
   "execution_count": 31,
   "id": "9f8d8f72-c5a7-4c72-bffa-c2e7f47325cd",
   "metadata": {},
   "outputs": [
    {
     "name": "stdout",
     "output_type": "stream",
     "text": [
      "floor division: 3\n"
     ]
    }
   ],
   "source": [
    "#floor division\n",
    "print('floor division:',a//b)"
   ]
  },
  {
   "cell_type": "code",
   "execution_count": 32,
   "id": "e82cc222-0e0b-4486-9882-b7089de46026",
   "metadata": {},
   "outputs": [
    {
     "name": "stdout",
     "output_type": "stream",
     "text": [
      "modulo: 1\n"
     ]
    }
   ],
   "source": [
    "#modulo\n",
    "print('modulo:',a%b)"
   ]
  },
  {
   "cell_type": "code",
   "execution_count": 33,
   "id": "0b65188c-fc71-40cf-a940-f585b2c7cdf4",
   "metadata": {},
   "outputs": [
    {
     "data": {
      "text/plain": [
       "625"
      ]
     },
     "execution_count": 33,
     "metadata": {},
     "output_type": "execute_result"
    }
   ],
   "source": [
    "25**2 #A TO THE POWER B"
   ]
  },
  {
   "cell_type": "code",
   "execution_count": 17,
   "id": "c1abd2b0-d7af-4af4-a46c-c848694e4ecd",
   "metadata": {},
   "outputs": [
    {
     "data": {
      "text/plain": [
       "10"
      ]
     },
     "execution_count": 17,
     "metadata": {},
     "output_type": "execute_result"
    }
   ],
   "source": [
    "b=10\n",
    "b"
   ]
  },
  {
   "cell_type": "code",
   "execution_count": 36,
   "id": "7eb288b9-4117-4841-b21c-5492170d359c",
   "metadata": {},
   "outputs": [
    {
     "data": {
      "text/plain": [
       "15"
      ]
     },
     "execution_count": 36,
     "metadata": {},
     "output_type": "execute_result"
    }
   ],
   "source": [
    "a+=5 #a=a+5\n",
    "a"
   ]
  },
  {
   "cell_type": "code",
   "execution_count": 39,
   "id": "561f106a-57c4-46b8-91aa-780b6e144264",
   "metadata": {},
   "outputs": [],
   "source": [
    "a=2\n",
    "b=6"
   ]
  },
  {
   "cell_type": "code",
   "execution_count": 23,
   "id": "0f741687-bf35-47bf-a46f-1ae2d8e02d04",
   "metadata": {},
   "outputs": [
    {
     "name": "stdout",
     "output_type": "stream",
     "text": [
      "a==b= False\n"
     ]
    }
   ],
   "source": [
    "#equal to operator\n",
    "print('a==b=',a==b)  #==and ==="
   ]
  },
  {
   "cell_type": "code",
   "execution_count": 22,
   "id": "ef228237-8a22-4b03-942e-37e486d899d9",
   "metadata": {},
   "outputs": [
    {
     "name": "stdout",
     "output_type": "stream",
     "text": [
      "a!=b= True\n"
     ]
    }
   ],
   "source": [
    "#not equal to operator\n",
    "print('a!=b=',a!=b)"
   ]
  },
  {
   "cell_type": "code",
   "execution_count": 42,
   "id": "2db183e8-b816-47ec-ba73-6a5dc18bfafd",
   "metadata": {},
   "outputs": [
    {
     "name": "stdout",
     "output_type": "stream",
     "text": [
      "a>b= False\n"
     ]
    }
   ],
   "source": [
    "#greater than operator\n",
    "print('a>b=',a>b)"
   ]
  },
  {
   "cell_type": "code",
   "execution_count": 24,
   "id": "1d90c7ac-2cab-436b-8033-455cf5c5e94c",
   "metadata": {},
   "outputs": [
    {
     "name": "stdout",
     "output_type": "stream",
     "text": [
      "a<b= True\n"
     ]
    }
   ],
   "source": [
    "#less than operator\n",
    "print('a<b=',a<b)"
   ]
  },
  {
   "cell_type": "code",
   "execution_count": 25,
   "id": "60fb66f2-f7de-44f7-86f2-185792a75fe1",
   "metadata": {},
   "outputs": [
    {
     "name": "stdout",
     "output_type": "stream",
     "text": [
      "a>=b= False\n"
     ]
    }
   ],
   "source": [
    "#greater than or equal to operator\n",
    "print('a>=b=',a>=b)"
   ]
  },
  {
   "cell_type": "code",
   "execution_count": 26,
   "id": "5eeafd90-fcfb-4b61-9619-9cc2c4c145ca",
   "metadata": {},
   "outputs": [
    {
     "name": "stdout",
     "output_type": "stream",
     "text": [
      "a<=b= True\n"
     ]
    }
   ],
   "source": [
    "#less than or equal to operator\n",
    "print('a<=b=',a<=b)"
   ]
  },
  {
   "cell_type": "code",
   "execution_count": null,
   "id": "8e4f0807-3059-4392-98d2-1d015a124257",
   "metadata": {},
   "outputs": [],
   "source": []
  },
  {
   "cell_type": "code",
   "execution_count": null,
   "id": "bebf5139-dec2-4733-bdd1-5dd723d9d58d",
   "metadata": {},
   "outputs": [],
   "source": []
  },
  {
   "cell_type": "code",
   "execution_count": null,
   "id": "3981a2b0-9f6d-4f46-a98c-73594a3761ce",
   "metadata": {},
   "outputs": [],
   "source": []
  }
 ],
 "metadata": {
  "kernelspec": {
   "display_name": "Python 3 (ipykernel)",
   "language": "python",
   "name": "python3"
  },
  "language_info": {
   "codemirror_mode": {
    "name": "ipython",
    "version": 3
   },
   "file_extension": ".py",
   "mimetype": "text/x-python",
   "name": "python",
   "nbconvert_exporter": "python",
   "pygments_lexer": "ipython3",
   "version": "3.11.7"
  }
 },
 "nbformat": 4,
 "nbformat_minor": 5
}
