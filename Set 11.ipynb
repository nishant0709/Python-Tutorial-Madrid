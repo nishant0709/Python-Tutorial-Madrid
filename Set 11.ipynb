{
 "cells": [
  {
   "cell_type": "code",
   "execution_count": 6,
   "id": "d716f03c-e319-455b-b8d4-7110e94bdbd3",
   "metadata": {},
   "outputs": [
    {
     "name": "stdout",
     "output_type": "stream",
     "text": [
      "{False, True, 10.5, 'Steve'}\n"
     ]
    }
   ],
   "source": [
    "#set does not store duplicate objects\n",
    "emp={'Steve',10.5,True,False,1,0}\n",
    "print(emp)"
   ]
  },
  {
   "cell_type": "code",
   "execution_count": 2,
   "id": "6868585f-3252-44bb-9b02-5d0eeb6805db",
   "metadata": {},
   "outputs": [
    {
     "name": "stdout",
     "output_type": "stream",
     "text": [
      "{1, 2, 3, 4, 5}\n"
     ]
    }
   ],
   "source": [
    "nums={1,2,2,3,4,4,5,5}\n",
    "print(nums)"
   ]
  },
  {
   "cell_type": "code",
   "execution_count": 10,
   "id": "ee89c180-991b-451a-9a67-cafd8c8ef6a7",
   "metadata": {},
   "outputs": [
    {
     "name": "stdout",
     "output_type": "stream",
     "text": [
      "{1, 'hello', 3, 4, 6}\n"
     ]
    }
   ],
   "source": [
    "n={1,'hello',3,4,4,6}\n",
    "print(n)"
   ]
  },
  {
   "cell_type": "code",
   "execution_count": 11,
   "id": "4367d77d-c3ab-4cf4-a5f1-d659fe726577",
   "metadata": {},
   "outputs": [
    {
     "name": "stdout",
     "output_type": "stream",
     "text": [
      "{(10, 10), 10, 29}\n"
     ]
    }
   ],
   "source": [
    "myset={(10,10),10,29}\n",
    "print(myset)"
   ]
  },
  {
   "cell_type": "code",
   "execution_count": 12,
   "id": "e2cb8d77-0bab-4029-9140-d2d6598041fa",
   "metadata": {},
   "outputs": [
    {
     "ename": "TypeError",
     "evalue": "unhashable type: 'list'",
     "output_type": "error",
     "traceback": [
      "\u001b[1;31m---------------------------------------------------------------------------\u001b[0m",
      "\u001b[1;31mTypeError\u001b[0m                                 Traceback (most recent call last)",
      "Cell \u001b[1;32mIn[12], line 1\u001b[0m\n\u001b[1;32m----> 1\u001b[0m myset\u001b[38;5;241m=\u001b[39m{[\u001b[38;5;241m10\u001b[39m,\u001b[38;5;241m12\u001b[39m],\u001b[38;5;241m12\u001b[39m,\u001b[38;5;241m53\u001b[39m}\n\u001b[0;32m      2\u001b[0m \u001b[38;5;28mprint\u001b[39m(myset)\n",
      "\u001b[1;31mTypeError\u001b[0m: unhashable type: 'list'"
     ]
    }
   ],
   "source": [
    "myset={[10,12],12,53}\n",
    "print(myset)"
   ]
  },
  {
   "cell_type": "code",
   "execution_count": 13,
   "id": "1a9ee125-c6d5-45c6-b6f6-d0663b07dd98",
   "metadata": {},
   "outputs": [
    {
     "ename": "TypeError",
     "evalue": "unhashable type: 'set'",
     "output_type": "error",
     "traceback": [
      "\u001b[1;31m---------------------------------------------------------------------------\u001b[0m",
      "\u001b[1;31mTypeError\u001b[0m                                 Traceback (most recent call last)",
      "Cell \u001b[1;32mIn[13], line 1\u001b[0m\n\u001b[1;32m----> 1\u001b[0m myset\u001b[38;5;241m=\u001b[39m{{\u001b[38;5;241m56\u001b[39m,\u001b[38;5;241m76\u001b[39m},\u001b[38;5;241m87\u001b[39m,\u001b[38;5;241m98\u001b[39m,}\n\u001b[0;32m      2\u001b[0m \u001b[38;5;28mprint\u001b[39m(myset)\n",
      "\u001b[1;31mTypeError\u001b[0m: unhashable type: 'set'"
     ]
    }
   ],
   "source": [
    "myset={{56,76},87,98,}\n",
    "print(myset)"
   ]
  },
  {
   "cell_type": "code",
   "execution_count": 14,
   "id": "67442d00-bce8-4307-9a72-69b0c8781ff5",
   "metadata": {},
   "outputs": [
    {
     "name": "stdout",
     "output_type": "stream",
     "text": [
      "<class 'dict'>\n"
     ]
    }
   ],
   "source": [
    "#creates an empty Dictionary\n",
    "emp={}\n",
    "print(type(emp))"
   ]
  },
  {
   "cell_type": "code",
   "execution_count": 15,
   "id": "33b9d04c-5baf-427f-8414-c50de1a8d040",
   "metadata": {},
   "outputs": [
    {
     "name": "stdout",
     "output_type": "stream",
     "text": [
      "<class 'set'>\n"
     ]
    }
   ],
   "source": [
    "#create an empty set\n",
    "s=set()\n",
    "print(type(s))"
   ]
  },
  {
   "cell_type": "code",
   "execution_count": 17,
   "id": "a54ba03e-f738-4aff-bb1c-a4581cf30c32",
   "metadata": {},
   "outputs": [
    {
     "name": "stdout",
     "output_type": "stream",
     "text": [
      "{'l', 'H', 'o', 'e'}\n"
     ]
    }
   ],
   "source": [
    "#convert sequence to set()\n",
    "s=set('Hello')\n",
    "print(s)"
   ]
  },
  {
   "cell_type": "code",
   "execution_count": 19,
   "id": "59ad32ec-7341-46cf-a547-9a4742d5ea5a",
   "metadata": {},
   "outputs": [
    {
     "name": "stdout",
     "output_type": "stream",
     "text": [
      "{1, 2, 3, 5, 6, 7}\n"
     ]
    }
   ],
   "source": [
    "s=set((1,2,3,5,5,6,7))\n",
    "print(s)"
   ]
  },
  {
   "cell_type": "code",
   "execution_count": 16,
   "id": "b186cb2b-6e53-466f-9909-520e015e6d61",
   "metadata": {},
   "outputs": [
    {
     "name": "stdout",
     "output_type": "stream",
     "text": [
      "{1, 2}\n"
     ]
    }
   ],
   "source": [
    "d={1:'one',2:'two'}\n",
    "s=set(d)\n",
    "print(s)"
   ]
  },
  {
   "cell_type": "code",
   "execution_count": 26,
   "id": "04b2bf96-b41f-4d09-acf5-a9e3d7b82873",
   "metadata": {},
   "outputs": [
    {
     "name": "stdout",
     "output_type": "stream",
     "text": [
      "{98, 76, 90, 54}\n"
     ]
    }
   ],
   "source": [
    "s=set([54,76,98,76,90])\n",
    "print(s)"
   ]
  },
  {
   "cell_type": "code",
   "execution_count": 27,
   "id": "92427379-5f4e-47f5-bdd8-31c613a87fca",
   "metadata": {},
   "outputs": [
    {
     "name": "stdout",
     "output_type": "stream",
     "text": [
      "{10, 20, 30}\n"
     ]
    }
   ],
   "source": [
    "#Modify set elements\n",
    "s=set()\n",
    "s.add(10)\n",
    "s.add(20)\n",
    "s.add(30)\n",
    "print(s)"
   ]
  },
  {
   "cell_type": "code",
   "execution_count": 28,
   "id": "1d4bc764-350a-47a3-be40-067bb8098c44",
   "metadata": {},
   "outputs": [
    {
     "name": "stdout",
     "output_type": "stream",
     "text": [
      "{2, 20, 6, 7, 10, 30}\n"
     ]
    }
   ],
   "source": [
    "primeNums={2,6,7,6}\n",
    "s.update(primeNums)\n",
    "print(s)"
   ]
  },
  {
   "cell_type": "code",
   "execution_count": 30,
   "id": "3e2e2be0-b7cf-4aaa-aed9-67a80476116d",
   "metadata": {},
   "outputs": [
    {
     "name": "stdout",
     "output_type": "stream",
     "text": [
      "set after the clear() method is called: set()\n"
     ]
    }
   ],
   "source": [
    "#Clear() method\n",
    "langs={'Python','C++','Go'}\n",
    "langs.clear()\n",
    "print('set after the clear() method is called:',langs)"
   ]
  },
  {
   "cell_type": "code",
   "execution_count": 31,
   "id": "c8f89266-f6af-4a00-b6e7-041e32c504cd",
   "metadata": {},
   "outputs": [
    {
     "name": "stdout",
     "output_type": "stream",
     "text": [
      "Original set: {'Go', 'C++', 'Python'}\n",
      "Copied set: {'Go', 'C++', 'Python'}\n"
     ]
    }
   ],
   "source": [
    "#copy() method\n",
    "langs={'Python','C++','Go'}\n",
    "copiedLangs=langs.copy()\n",
    "print(\"Original set:\",langs)\n",
    "print(\"Copied set:\",copiedLangs)"
   ]
  },
  {
   "cell_type": "code",
   "execution_count": 7,
   "id": "c5c68660-4cf4-42ec-b580-142e368598cc",
   "metadata": {},
   "outputs": [
    {
     "name": "stdout",
     "output_type": "stream",
     "text": [
      "nums1-nums2: {1, 2, 3}\n",
      "nums2-nums1: {8, 6, 7}\n"
     ]
    }
   ],
   "source": [
    "#difference() method\n",
    "nums1={1,2,3,4,5}\n",
    "nums2={4,5,6,7,8,8}\n",
    "nums3=nums1.difference(nums2)\n",
    "nums4=nums2.difference(nums1)\n",
    "print(\"nums1-nums2:\",nums3)\n",
    "print(\"nums2-nums1:\",nums4)"
   ]
  },
  {
   "cell_type": "code",
   "execution_count": 33,
   "id": "6bda7f41-4f01-43a7-b59e-9b9a7e5ccae2",
   "metadata": {},
   "outputs": [
    {
     "name": "stdout",
     "output_type": "stream",
     "text": [
      "common elements in nums and oddNums are: {1, 3, 5}\n"
     ]
    }
   ],
   "source": [
    "#Intersection() method\n",
    "nums={1,2,3,4,5}\n",
    "oddNums={1,3,5,7,9}\n",
    "commonNums=nums.intersection(oddNums)\n",
    "print(\"common elements in nums and oddNums are:\",commonNums)"
   ]
  },
  {
   "cell_type": "code",
   "execution_count": 34,
   "id": "21cc9cf3-04d8-48f1-bc35-2b1c6be79108",
   "metadata": {},
   "outputs": [
    {
     "name": "stdout",
     "output_type": "stream",
     "text": [
      "common elements: {3, 5}\n"
     ]
    }
   ],
   "source": [
    "nums={1,2,3,4,5}\n",
    "oddNums={1,3,5,7,9}\n",
    "primeNums={2,3,5,7}\n",
    "commonNums=nums.intersection(oddNums,primeNums)\n",
    "print(\"common elements:\",commonNums)"
   ]
  },
  {
   "cell_type": "code",
   "execution_count": 35,
   "id": "64950687-2f65-4913-a100-ab658a468a74",
   "metadata": {},
   "outputs": [
    {
     "name": "stdout",
     "output_type": "stream",
     "text": [
      "the union of two sets is: {1, 2, 3, 4, 5, 6, 7, 8}\n"
     ]
    }
   ],
   "source": [
    "nums1={1,2,2,3,4,5}\n",
    "nums2={4,5,6,7,8}\n",
    "distinct_nums=nums1.union(nums2)\n",
    "print(\"the union of two sets is:\",distinct_nums)"
   ]
  },
  {
   "cell_type": "code",
   "execution_count": null,
   "id": "eb7dad52-0e96-4e54-a9f0-56de3c9d70c5",
   "metadata": {},
   "outputs": [],
   "source": []
  }
 ],
 "metadata": {
  "kernelspec": {
   "display_name": "Python 3 (ipykernel)",
   "language": "python",
   "name": "python3"
  },
  "language_info": {
   "codemirror_mode": {
    "name": "ipython",
    "version": 3
   },
   "file_extension": ".py",
   "mimetype": "text/x-python",
   "name": "python",
   "nbconvert_exporter": "python",
   "pygments_lexer": "ipython3",
   "version": "3.11.7"
  }
 },
 "nbformat": 4,
 "nbformat_minor": 5
}
