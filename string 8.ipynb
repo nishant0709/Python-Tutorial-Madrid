{
 "cells": [
  {
   "cell_type": "code",
   "execution_count": 6,
   "id": "3e4cab3b-dce7-48e1-ab7c-0906f4ff3966",
   "metadata": {},
   "outputs": [
    {
     "name": "stdout",
     "output_type": "stream",
     "text": [
      "This is a string in python\n"
     ]
    }
   ],
   "source": [
    "str1='This is a string in python'\n",
    "print(str1)"
   ]
  },
  {
   "cell_type": "code",
   "execution_count": 2,
   "id": "bff4aaa8-2388-417c-b53d-cfdc9adbaccd",
   "metadata": {},
   "outputs": [
    {
     "name": "stdout",
     "output_type": "stream",
     "text": [
      "this is a string in python\n"
     ]
    }
   ],
   "source": [
    "str1=\"this is a string in python\"\n",
    "print(str1)"
   ]
  },
  {
   "cell_type": "code",
   "execution_count": 7,
   "id": "4e75235b-b952-4143-b6a6-a95d42579a5b",
   "metadata": {},
   "outputs": [
    {
     "name": "stdout",
     "output_type": "stream",
     "text": [
      "this is the first\n",
      "multi-line string\n"
     ]
    }
   ],
   "source": [
    "str1='''this is the first\n",
    "multi-line string'''\n",
    "print(str1)"
   ]
  },
  {
   "cell_type": "code",
   "execution_count": 8,
   "id": "f4f85515-be8c-49e1-b01f-5cf91113961c",
   "metadata": {},
   "outputs": [
    {
     "name": "stdout",
     "output_type": "stream",
     "text": [
      "this is the second\n",
      "multi-line string\n"
     ]
    }
   ],
   "source": [
    "str2=\"\"\"this is the second\n",
    "multi-line string\"\"\"\n",
    "print(str2)"
   ]
  },
  {
   "cell_type": "code",
   "execution_count": 1,
   "id": "dd9a18aa-8c95-4156-b663-c09325ed2296",
   "metadata": {},
   "outputs": [
    {
     "data": {
      "text/plain": [
       "15"
      ]
     },
     "execution_count": 1,
     "metadata": {},
     "output_type": "execute_result"
    }
   ],
   "source": [
    "greet=\"Tiruvantampuram\"\n",
    "n=len(greet)\n",
    "n"
   ]
  },
  {
   "cell_type": "code",
   "execution_count": 6,
   "id": "89c65671-f7e4-4fd7-b679-42c2a45cffb7",
   "metadata": {},
   "outputs": [
    {
     "name": "stdout",
     "output_type": "stream",
     "text": [
      "original srting: hello world!\n",
      "new string: Hello world!\n"
     ]
    }
   ],
   "source": [
    "#string capitalize\n",
    "a='hello world!'\n",
    "b=a.capitalize()\n",
    "print('original srting:',a)\n",
    "print('new string:',b)\n",
    "\n"
   ]
  },
  {
   "cell_type": "code",
   "execution_count": 18,
   "id": "2fbf3a69-11c4-474c-bfec-91ef1abd11c7",
   "metadata": {},
   "outputs": [
    {
     "name": "stdout",
     "output_type": "stream",
     "text": [
      "original string: mumBai Is AWesome!\n",
      "new string: Mumbai is awesome!\n"
     ]
    }
   ],
   "source": [
    "a='mumBai Is AWesome!'\n",
    "b=a.capitalize()\n",
    "print('original string:',a)\n",
    "print('new string:',b)"
   ]
  },
  {
   "cell_type": "code",
   "execution_count": 7,
   "id": "cb0d392e-4331-4b1a-8e90-a9f95d0c9284",
   "metadata": {},
   "outputs": [
    {
     "name": "stdout",
     "output_type": "stream",
     "text": [
      "number of occurrance of \"Madrid\": 2\n"
     ]
    }
   ],
   "source": [
    "#count() method\n",
    "mystr='Madrid is The best institute for data science,Madrid is in saket,Delhi'\n",
    "total=mystr.count('Madrid')\n",
    "print('number of occurrance of \"Madrid\":',total)"
   ]
  },
  {
   "cell_type": "code",
   "execution_count": 21,
   "id": "36e89030-32a4-4dd9-a0f0-5d7065a0c281",
   "metadata": {},
   "outputs": [
    {
     "name": "stdout",
     "output_type": "stream",
     "text": [
      "number of occurrance of \"Madrid\": 0\n"
     ]
    }
   ],
   "source": [
    "total=mystr.count('madrid')\n",
    "print('number of occurrance of \"Madrid\":',total)"
   ]
  },
  {
   "cell_type": "code",
   "execution_count": 24,
   "id": "325ad1e0-9bbd-4f3e-95b7-05080d9232c9",
   "metadata": {},
   "outputs": [
    {
     "name": "stdout",
     "output_type": "stream",
     "text": [
      "True\n",
      "True\n",
      "True\n",
      "True\n",
      "False\n"
     ]
    }
   ],
   "source": [
    "mystr='Python is a programming language.'\n",
    "print(mystr.endswith('.'))\n",
    "print(mystr.endswith('age.'))\n",
    "print(mystr.endswith('language.'))\n",
    "print(mystr.endswith('programming language.'))\n",
    "print(mystr.endswith('age'))"
   ]
  },
  {
   "cell_type": "code",
   "execution_count": 9,
   "id": "6de0b655-b386-4a4c-9cf4-7a6898d02762",
   "metadata": {},
   "outputs": [
    {
     "name": "stdout",
     "output_type": "stream",
     "text": [
      "7\n"
     ]
    }
   ],
   "source": [
    "#find()\n",
    "s1=\"nishantanurag\"\n",
    "print(s1.find(\"anurag\"))"
   ]
  },
  {
   "cell_type": "code",
   "execution_count": 11,
   "id": "85928bc2-49a2-4d3d-b52a-c488dab35646",
   "metadata": {},
   "outputs": [
    {
     "name": "stdout",
     "output_type": "stream",
     "text": [
      "-1\n"
     ]
    }
   ],
   "source": [
    "s1=\"nishantanurag\"\n",
    "print(s1.find(\"arang\"))"
   ]
  },
  {
   "cell_type": "code",
   "execution_count": 28,
   "id": "25bc4d98-7d03-4826-aa56-764621989bb9",
   "metadata": {},
   "outputs": [
    {
     "name": "stdout",
     "output_type": "stream",
     "text": [
      "index of 'H': 0\n",
      "index of 'h': -1\n",
      "index of 'e': 1\n",
      "index of 'world'': 6\n"
     ]
    }
   ],
   "source": [
    "greet='Hello world!'\n",
    "print(\"index of 'H':\",greet.find('H'))\n",
    "print(\"index of 'h':\",greet.find('h'))\n",
    "print(\"index of 'e':\",greet.find('e'))\n",
    "print(\"index of 'world'':\",greet.find('world'))\n"
   ]
  },
  {
   "cell_type": "code",
   "execution_count": 2,
   "id": "7ed7a6dd-ca66-46e5-8b55-8474451f63a1",
   "metadata": {},
   "outputs": [
    {
     "name": "stdout",
     "output_type": "stream",
     "text": [
      "index of H: 0\n",
      "index of e: 1\n",
      "index of l: 2\n",
      "index of world: 6\n"
     ]
    }
   ],
   "source": [
    "# Python String index() Method\n",
    "# The index() method returns the index of the first occurence of a substring in the given string. It is same as the find() method except that if a substring is not found, then it raises an exception.\n",
    "# Messages addressed to \"Meeting Group Chat\" will also appear in the meeting group chat in Team Chat\n",
    "greet='Hello world!'\n",
    "print('index of H:',greet.index('H'))\n",
    "print('index of e:',greet.index('e'))\n",
    "print('index of l:',greet.index('l'))\n",
    "print('index of world:',greet.index('world'))"
   ]
  },
  {
   "cell_type": "code",
   "execution_count": 7,
   "id": "87391324-2ad0-413a-ad2e-b3d45820da0f",
   "metadata": {},
   "outputs": [
    {
     "name": "stdout",
     "output_type": "stream",
     "text": [
      "True\n"
     ]
    }
   ],
   "source": [
    "# Python String isalnum() Method\n",
    "# The isalnum() method returns True if all characters in the string are alphanumeric (either alphabets or numbers). If not, it returns False.\n",
    "\n",
    "# Syntax:\n",
    "# str.isalnum()\n",
    "mystr='Hello123'\n",
    "print(mystr.isalnum())"
   ]
  },
  {
   "cell_type": "code",
   "execution_count": 8,
   "id": "671c0f75-151a-4334-8a8e-e9d894b66745",
   "metadata": {},
   "outputs": [
    {
     "name": "stdout",
     "output_type": "stream",
     "text": [
      "True\n"
     ]
    }
   ],
   "source": [
    "mystr='12345'\n",
    "print(mystr.isalnum())"
   ]
  },
  {
   "cell_type": "code",
   "execution_count": 4,
   "id": "0a5c60a1-56f8-430c-ae1c-e0d35b878def",
   "metadata": {},
   "outputs": [
    {
     "name": "stdout",
     "output_type": "stream",
     "text": [
      "True\n"
     ]
    }
   ],
   "source": [
    "mystr='Madrid'\n",
    "print(mystr.isalnum())"
   ]
  },
  {
   "cell_type": "code",
   "execution_count": 10,
   "id": "f94abb34-1127-4151-9d3b-6c4bdb137d98",
   "metadata": {},
   "outputs": [
    {
     "name": "stdout",
     "output_type": "stream",
     "text": [
      "False\n"
     ]
    }
   ],
   "source": [
    "mystr='#1'\n",
    "print(mystr.isalnum())"
   ]
  },
  {
   "cell_type": "code",
   "execution_count": 11,
   "id": "fff7c0ce-e7bd-4b73-9c2f-486a203ab8b2",
   "metadata": {},
   "outputs": [
    {
     "name": "stdout",
     "output_type": "stream",
     "text": [
      "True\n"
     ]
    }
   ],
   "source": [
    "# Python String isdigit() Method\n",
    "# The isdigit() method returns True if all characters in a string are digits or Unicode char of a digit. If not, it returns False.\n",
    "\n",
    "\n",
    "# str.isdigit()\n",
    "mystr='12345'\n",
    "print(mystr.isdigit())\n"
   ]
  },
  {
   "cell_type": "code",
   "execution_count": 12,
   "id": "76a588d2-843b-4a0e-a4b4-820c35ed5051",
   "metadata": {},
   "outputs": [
    {
     "name": "stdout",
     "output_type": "stream",
     "text": [
      "False\n"
     ]
    }
   ],
   "source": [
    "mystr='10.5'\n",
    "print(mystr.isdigit())"
   ]
  },
  {
   "cell_type": "code",
   "execution_count": 13,
   "id": "adb2f1cf-f831-40ac-84a2-b81ebc1a6ab6",
   "metadata": {},
   "outputs": [
    {
     "name": "stdout",
     "output_type": "stream",
     "text": [
      "False\n"
     ]
    }
   ],
   "source": [
    "mystr='python'\n",
    "print(mystr.isdigit())"
   ]
  },
  {
   "cell_type": "code",
   "execution_count": 14,
   "id": "2ba803d0-c099-42c0-a478-f16f5c8a5931",
   "metadata": {},
   "outputs": [
    {
     "data": {
      "text/plain": [
       "True"
      ]
     },
     "execution_count": 14,
     "metadata": {},
     "output_type": "execute_result"
    }
   ],
   "source": [
    "# Python String islower() Method\n",
    "# -------------------------------\n",
    "# The islower() method checks whether all the characters of a given string are lowercased or not. It returns True if all characters are lowercased and False even if one character is uppercase.\n",
    "\n",
    "# It returns False if a string contains only symbols and numbers, but returns True if symbols or numbers are with lower case string.\n",
    "\n",
    "# Syntax:\n",
    "# str.islower()\n",
    "mystr='hello world'\n",
    "mystr.islower()"
   ]
  },
  {
   "cell_type": "code",
   "execution_count": 15,
   "id": "d2018908-51e7-4d3f-96a2-8ec189c29bd2",
   "metadata": {},
   "outputs": [
    {
     "data": {
      "text/plain": [
       "False"
      ]
     },
     "execution_count": 15,
     "metadata": {},
     "output_type": "execute_result"
    }
   ],
   "source": [
    "mystr='Hello world'\n",
    "mystr.islower()"
   ]
  },
  {
   "cell_type": "code",
   "execution_count": 17,
   "id": "b984ec4e-7bed-4e25-9285-0e46a2858527",
   "metadata": {},
   "outputs": [
    {
     "data": {
      "text/plain": [
       "True"
      ]
     },
     "execution_count": 17,
     "metadata": {},
     "output_type": "execute_result"
    }
   ],
   "source": [
    "mystr='python is #1'\n",
    "mystr.islower()"
   ]
  },
  {
   "cell_type": "code",
   "execution_count": 19,
   "id": "61a6e3b6-58cc-400f-bf33-80cc2e92be37",
   "metadata": {},
   "outputs": [
    {
     "data": {
      "text/plain": [
       "True"
      ]
     },
     "execution_count": 19,
     "metadata": {},
     "output_type": "execute_result"
    }
   ],
   "source": [
    "# Python String istitle() Method\n",
    "# The istitle() method checks whether each word's first character is upper case and the rest are in lower case or not. It returns True if a string is titlecased; otherwise, it returns False. The symbols and numbers are ignored.\n",
    "\n",
    "# str.istitle()\n",
    "greet='Hello World'\n",
    "greet.istitle()"
   ]
  },
  {
   "cell_type": "code",
   "execution_count": 20,
   "id": "127d8635-5d3d-4c7b-993d-52ebd313fb0e",
   "metadata": {},
   "outputs": [
    {
     "data": {
      "text/plain": [
       "False"
      ]
     },
     "execution_count": 20,
     "metadata": {},
     "output_type": "execute_result"
    }
   ],
   "source": [
    "greet='Hello WORLD'\n",
    "mystr.istitle()"
   ]
  },
  {
   "cell_type": "code",
   "execution_count": 21,
   "id": "84bc1d52-fbfd-4b50-afad-696d1193792b",
   "metadata": {},
   "outputs": [
    {
     "data": {
      "text/plain": [
       "False"
      ]
     },
     "execution_count": 21,
     "metadata": {},
     "output_type": "execute_result"
    }
   ],
   "source": [
    "greet='hello world'\n",
    "greet.istitle()"
   ]
  },
  {
   "cell_type": "code",
   "execution_count": 7,
   "id": "fe020b32-8e20-413c-8ffa-43acd77c14d5",
   "metadata": {},
   "outputs": [
    {
     "data": {
      "text/plain": [
       "True"
      ]
     },
     "execution_count": 7,
     "metadata": {},
     "output_type": "execute_result"
    }
   ],
   "source": [
    "greet='Helloworld'\n",
    "greet.istitle()"
   ]
  },
  {
   "cell_type": "code",
   "execution_count": 24,
   "id": "e2ac8f31-21ac-4279-872a-c9245afe8df5",
   "metadata": {},
   "outputs": [
    {
     "data": {
      "text/plain": [
       "True"
      ]
     },
     "execution_count": 24,
     "metadata": {},
     "output_type": "execute_result"
    }
   ],
   "source": [
    "s='Python Is A Programming Language'\n",
    "s.istitle()"
   ]
  },
  {
   "cell_type": "code",
   "execution_count": 25,
   "id": "23c3e91e-253b-49ca-8c34-784321bacad2",
   "metadata": {},
   "outputs": [
    {
     "data": {
      "text/plain": [
       "True"
      ]
     },
     "execution_count": 25,
     "metadata": {},
     "output_type": "execute_result"
    }
   ],
   "source": [
    "# Python String isupper() Method\n",
    "# The isupper() method checks whether all the characters of a given string are uppercase or not. It returns True if all characters are uppercase and False even if one character is not in uppercase.\n",
    "\n",
    "# Symblos and numbers are not affected by this function\n",
    "\n",
    "# Syntax:\n",
    "# str.isupper()\n",
    "mystr='HELLO WORLD'\n",
    "mystr.isupper()"
   ]
  },
  {
   "cell_type": "code",
   "execution_count": 26,
   "id": "f420a66c-53a6-4917-911c-6f694e482993",
   "metadata": {},
   "outputs": [
    {
     "data": {
      "text/plain": [
       "False"
      ]
     },
     "execution_count": 26,
     "metadata": {},
     "output_type": "execute_result"
    }
   ],
   "source": [
    "mystr='Hello world'\n",
    "mystr.isupper()"
   ]
  },
  {
   "cell_type": "code",
   "execution_count": 27,
   "id": "ddfe8d08-baae-4fa3-85fd-9d65def7c192",
   "metadata": {},
   "outputs": [
    {
     "data": {
      "text/plain": [
       "False"
      ]
     },
     "execution_count": 27,
     "metadata": {},
     "output_type": "execute_result"
    }
   ],
   "source": [
    "mystr='hello world'\n",
    "mystr.isupper()"
   ]
  },
  {
   "cell_type": "code",
   "execution_count": 28,
   "id": "ba220f51-f89e-4e01-9912-206df5f119c8",
   "metadata": {},
   "outputs": [
    {
     "data": {
      "text/plain": [
       "True"
      ]
     },
     "execution_count": 28,
     "metadata": {},
     "output_type": "execute_result"
    }
   ],
   "source": [
    "mystr='PYTHON IS #1'\n",
    "mystr.isupper()"
   ]
  },
  {
   "cell_type": "code",
   "execution_count": 8,
   "id": "9e1f2f47-0e25-454b-a934-e1e9b4b3f364",
   "metadata": {},
   "outputs": [
    {
     "data": {
      "text/plain": [
       "'hello world#'"
      ]
     },
     "execution_count": 8,
     "metadata": {},
     "output_type": "execute_result"
    }
   ],
   "source": [
    "# Python String lower() Method\n",
    "# The lower() method returns the copy of the original string wherein all the characters are converted to lowercase. If no uppercase characters present, it returns the original string. Symbols and numbers remain unaffected by this function.\n",
    "\n",
    "# Syntax:\n",
    "# str.lower()\n",
    "mystr='HELLO WORLD#'\n",
    "mystr_lower=mystr.lower()\n",
    "mystr_lower"
   ]
  },
  {
   "cell_type": "code",
   "execution_count": 33,
   "id": "44c85b84-54d7-4fa0-90b2-f5e9b6f0e00d",
   "metadata": {},
   "outputs": [
    {
     "name": "stdout",
     "output_type": "stream",
     "text": [
      "#1 harbour side\n"
     ]
    }
   ],
   "source": [
    "mystr='#1 HarBour sIDe'\n",
    "print(mystr.lower())"
   ]
  },
  {
   "cell_type": "code",
   "execution_count": 37,
   "id": "e9001bcf-9471-46ee-ab72-375f9c32fb1e",
   "metadata": {},
   "outputs": [
    {
     "name": "stdout",
     "output_type": "stream",
     "text": [
      "12334\n"
     ]
    }
   ],
   "source": [
    "numser='12334'\n",
    "print(numser.lower())"
   ]
  },
  {
   "cell_type": "code",
   "execution_count": 38,
   "id": "8ef1603b-71e6-4121-9870-bced230d50f5",
   "metadata": {},
   "outputs": [
    {
     "name": "stdout",
     "output_type": "stream",
     "text": [
      "123ag7\n"
     ]
    }
   ],
   "source": [
    "mystr='123AG7'\n",
    "print(mystr.lower())"
   ]
  },
  {
   "cell_type": "code",
   "execution_count": 39,
   "id": "eea88454-b806-40d4-ab01-d863235487c8",
   "metadata": {},
   "outputs": [
    {
     "name": "stdout",
     "output_type": "stream",
     "text": [
      "    Hello world\n"
     ]
    },
    {
     "data": {
      "text/plain": [
       "'Hello world'"
      ]
     },
     "execution_count": 39,
     "metadata": {},
     "output_type": "execute_result"
    }
   ],
   "source": [
    "# Python String lstrip() Method\n",
    "# The lstrip() method returns a copy of the string by removing leading characters specified as an argument. By default, it removes leading whitespaces if no argument passed.\n",
    "\n",
    "# Leading characters occur at the start of the string (leftmost part of the string).\n",
    "\n",
    "# Syntax:\n",
    "# str.lstrip(characters)\n",
    "mystr='    Hello world'\n",
    "print(mystr)\n",
    "mystr.lstrip()"
   ]
  },
  {
   "cell_type": "code",
   "execution_count": 45,
   "id": "362afa99-587b-4d67-83b4-800d7024d06a",
   "metadata": {},
   "outputs": [
    {
     "name": "stdout",
     "output_type": "stream",
     "text": [
      "('Hello', ' ', 'World')\n"
     ]
    }
   ],
   "source": [
    "# Python String partition() Method\n",
    "# The partition() method splits the string at the first occurrence of the specified string separator sep argument and returns a tuple containing three elements, the part before the separator, the separator itself, and the part after the separator.\n",
    "\n",
    "# If the matching separator is not found in the string then returns a tuple containing three elements, the string itself as a first element and two empty string elements.\n",
    "\n",
    "# Syntax:\n",
    "# str.partition(sep)\n",
    "mystr='Hello World'\n",
    "print(mystr.partition(' '))"
   ]
  },
  {
   "cell_type": "code",
   "execution_count": 42,
   "id": "493e7aad-a7bf-41cd-8f70-e0fcb175c6a7",
   "metadata": {},
   "outputs": [
    {
     "name": "stdout",
     "output_type": "stream",
     "text": [
      "('How ', 'are', ' you?')\n"
     ]
    }
   ],
   "source": [
    "mystr='How are you?'\n",
    "print(mystr.partition('are'))"
   ]
  },
  {
   "cell_type": "code",
   "execution_count": 47,
   "id": "46b03eac-a856-4329-a434-a0c5d430b210",
   "metadata": {},
   "outputs": [
    {
     "name": "stdout",
     "output_type": "stream",
     "text": [
      "15\n",
      "11\n"
     ]
    }
   ],
   "source": [
    "# Python string.rstrip()\n",
    "# The rstrip() method returns a copy of the string by removing the trailing characters specified as argument. If the characters argument is not provided, all trailing whitespaces are removed from the string.\n",
    "\n",
    "# Trailing characters are those characters which occur at the end of the string (rightmost part of the string).\n",
    "\n",
    "# Syntax:\n",
    "# str.rstrip(characters)\n",
    "mystr='Hello world    '\n",
    "print(len(mystr))\n",
    "print(len(mystr.rstrip()))"
   ]
  },
  {
   "cell_type": "code",
   "execution_count": 48,
   "id": "99c6c259-be78-4122-842a-03597d7c7938",
   "metadata": {},
   "outputs": [
    {
     "name": "stdout",
     "output_type": "stream",
     "text": [
      "['Hello', 'world']\n"
     ]
    }
   ],
   "source": [
    "# Python String split() Method\n",
    "# The split() method splits the string from the specified separator and returns a list object with string elements. The default separator is any whitespace character such as space, \\t, \\n, etc.\n",
    "\n",
    "# Syntax:\n",
    "# str.split(separator)\n",
    "mystr='Hello world'\n",
    "print(mystr.split())"
   ]
  },
  {
   "cell_type": "code",
   "execution_count": 49,
   "id": "7b339632-4d8e-462c-aa9e-e858d1018f1c",
   "metadata": {},
   "outputs": [
    {
     "name": "stdout",
     "output_type": "stream",
     "text": [
      "['C', 'Python', 'R', 'java', 'SQL', 'Hadoop']\n"
     ]
    }
   ],
   "source": [
    "langs='C,Python,R,java,SQL,Hadoop'\n",
    "print(langs.split(','))"
   ]
  },
  {
   "cell_type": "code",
   "execution_count": 54,
   "id": "c72ea398-b7aa-44b2-abf2-fa9da5c4bd74",
   "metadata": {},
   "outputs": [
    {
     "name": "stdout",
     "output_type": "stream",
     "text": [
      "['C', 'Python', 'R,java,SQL,Hadoop']\n"
     ]
    }
   ],
   "source": [
    "#The following example limits the split by specifying the maxsplit parameter\n",
    "lang='C,Python,R,java,SQL,Hadoop'\n",
    "print(lang.split(',',2))"
   ]
  },
  {
   "cell_type": "code",
   "execution_count": 53,
   "id": "c245f7c4-ec74-4bfe-8560-db20c4880465",
   "metadata": {},
   "outputs": [
    {
     "data": {
      "text/plain": [
       "'HELLO WORLD'"
      ]
     },
     "execution_count": 53,
     "metadata": {},
     "output_type": "execute_result"
    }
   ],
   "source": [
    "# Python String upper() Method\n",
    "# The upper() method returns a string in the upper case. Symbols and numbers remain unaffected.\n",
    "\n",
    "# The main difference between the capitalize() and the upper() method is that the capitalize() method will capitalize only the first character of the string,\n",
    "# whereas the upper() will convert all characters in the upper case.\n",
    "mystr='Hello world'\n",
    "mystr.upper()"
   ]
  },
  {
   "cell_type": "code",
   "execution_count": null,
   "id": "ab2cc214-471b-4fcf-bcc3-096023d75533",
   "metadata": {},
   "outputs": [],
   "source": []
  },
  {
   "cell_type": "code",
   "execution_count": null,
   "id": "33f2ff08-152c-4400-bcfc-5f970c47989f",
   "metadata": {},
   "outputs": [],
   "source": []
  },
  {
   "cell_type": "code",
   "execution_count": null,
   "id": "93db7578-84c7-454f-9cd1-22a73098b488",
   "metadata": {},
   "outputs": [],
   "source": []
  },
  {
   "cell_type": "code",
   "execution_count": null,
   "id": "9e11c779-ca3f-4564-91be-b33558c1bd1e",
   "metadata": {},
   "outputs": [],
   "source": []
  },
  {
   "cell_type": "code",
   "execution_count": null,
   "id": "decf806e-400f-45bc-839f-93d0425410c3",
   "metadata": {},
   "outputs": [],
   "source": []
  }
 ],
 "metadata": {
  "kernelspec": {
   "display_name": "Python 3 (ipykernel)",
   "language": "python",
   "name": "python3"
  },
  "language_info": {
   "codemirror_mode": {
    "name": "ipython",
    "version": 3
   },
   "file_extension": ".py",
   "mimetype": "text/x-python",
   "name": "python",
   "nbconvert_exporter": "python",
   "pygments_lexer": "ipython3",
   "version": "3.11.7"
  }
 },
 "nbformat": 4,
 "nbformat_minor": 5
}
