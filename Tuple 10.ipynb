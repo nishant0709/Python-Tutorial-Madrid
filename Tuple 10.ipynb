{
 "cells": [
  {
   "cell_type": "code",
   "execution_count": 1,
   "id": "2000369f-155f-4904-bcf2-3484c8558b1d",
   "metadata": {},
   "outputs": [
    {
     "name": "stdout",
     "output_type": "stream",
     "text": [
      "(12, 43, 77, 45, 89, 54)\n"
     ]
    }
   ],
   "source": [
    "t1=(12,43,77,45,89,54)\n",
    "print(t1)"
   ]
  },
  {
   "cell_type": "code",
   "execution_count": 2,
   "id": "1c8c8466-6c9f-4632-b9ff-22e17dd6b5ef",
   "metadata": {},
   "outputs": [
    {
     "name": "stdout",
     "output_type": "stream",
     "text": [
      "([23, 54, 87], [78, 98, 98], [67, 98, 76])\n"
     ]
    }
   ],
   "source": [
    "t1=([23,54,87,],[78,98,98,],[67,98,76])\n",
    "print(t1)"
   ]
  },
  {
   "cell_type": "code",
   "execution_count": 3,
   "id": "99ec57d7-6a1e-4a8b-9dc5-0dd9c4fbb6fa",
   "metadata": {},
   "outputs": [
    {
     "data": {
      "text/plain": [
       "('How', 'are', 'you')"
      ]
     },
     "execution_count": 3,
     "metadata": {},
     "output_type": "execute_result"
    }
   ],
   "source": [
    "t1=(\"How\",\"are\",\"you\")\n",
    "t1"
   ]
  },
  {
   "cell_type": "code",
   "execution_count": 4,
   "id": "1815f2f1-a9fd-47db-8079-3400df762165",
   "metadata": {},
   "outputs": [
    {
     "data": {
      "text/plain": [
       "((5, 7), (7, 8))"
      ]
     },
     "execution_count": 4,
     "metadata": {},
     "output_type": "execute_result"
    }
   ],
   "source": [
    "t1=((5,7),(7,8))\n",
    "t1"
   ]
  },
  {
   "cell_type": "code",
   "execution_count": 2,
   "id": "82c4d410-590f-429b-b93b-b1d1c3c145bd",
   "metadata": {},
   "outputs": [
    {
     "name": "stdout",
     "output_type": "stream",
     "text": [
      "('N', 'i', 's', 'h', 'a', 'n', 't')\n"
     ]
    }
   ],
   "source": [
    "#tuple constructor\n",
    "t1=tuple(\"Nishant\")\n",
    "print(t1)"
   ]
  },
  {
   "cell_type": "code",
   "execution_count": 11,
   "id": "500e494b-c19d-4d13-b19f-1b4fc6e1b51c",
   "metadata": {},
   "outputs": [
    {
     "name": "stdout",
     "output_type": "stream",
     "text": [
      "12\n",
      "54\n",
      "69\n",
      "54\n",
      "99\n"
     ]
    }
   ],
   "source": [
    "t1=12,54,69,54,99 #tuple packing\n",
    "a,b,c,d,e=t1 #unpacking\n",
    "print(a)\n",
    "print(b)\n",
    "print(c)\n",
    "print(d)\n",
    "print(e)\n"
   ]
  },
  {
   "cell_type": "code",
   "execution_count": 12,
   "id": "bf711660-5c80-45e8-a1cb-e26dbb00caf0",
   "metadata": {},
   "outputs": [
    {
     "name": "stdout",
     "output_type": "stream",
     "text": [
      "<class 'int'>\n"
     ]
    }
   ],
   "source": [
    "t2=(12)\n",
    "print(type(t2))"
   ]
  },
  {
   "cell_type": "code",
   "execution_count": 13,
   "id": "5446ae54-d576-4678-b15b-6facfb6cb93c",
   "metadata": {},
   "outputs": [
    {
     "name": "stdout",
     "output_type": "stream",
     "text": [
      "<class 'tuple'>\n"
     ]
    }
   ],
   "source": [
    "t2=(12,)\n",
    "print(type(t2))"
   ]
  },
  {
   "cell_type": "code",
   "execution_count": 14,
   "id": "1249510c-3d90-4b7f-9a4d-ab3c56ebe750",
   "metadata": {},
   "outputs": [
    {
     "name": "stdout",
     "output_type": "stream",
     "text": [
      "12\n",
      "89\n",
      "44\n",
      "59\n"
     ]
    }
   ],
   "source": [
    "#Accessing\n",
    "t1=(12,5,56,89,44,59)\n",
    "print(t1[0])\n",
    "print(t1[3])\n",
    "print(t1[-2])\n",
    "print(t1[-1])"
   ]
  },
  {
   "cell_type": "code",
   "execution_count": 15,
   "id": "87824a31-ce84-4556-89de-ef8735246b47",
   "metadata": {},
   "outputs": [
    {
     "name": "stdout",
     "output_type": "stream",
     "text": [
      "(12, 54, 75, 'how', 'are', 'you')\n"
     ]
    }
   ],
   "source": [
    "#upadte\n",
    "t1=(12,54,75)\n",
    "t2=(\"how\",\"are\",\"you\")\n",
    "print(t1+t2)"
   ]
  },
  {
   "cell_type": "code",
   "execution_count": 2,
   "id": "0ac493ad-73db-4fc2-8f1b-f6df5819fb9c",
   "metadata": {},
   "outputs": [
    {
     "name": "stdout",
     "output_type": "stream",
     "text": [
      "(23, 65, 86, 46, 97, 56, 87)\n",
      "5\n"
     ]
    }
   ],
   "source": [
    "#index() method\n",
    "t1=(23,65,86,46,97,56,87)\n",
    "print(t1)\n",
    "x=t1.index(56)\n",
    "print(x)"
   ]
  },
  {
   "cell_type": "code",
   "execution_count": 17,
   "id": "80b677bc-74e7-4ed4-be1b-eed965fcb4d6",
   "metadata": {},
   "outputs": [
    {
     "name": "stdout",
     "output_type": "stream",
     "text": [
      "(1, 43, 67, 89, 43, 98, 34, 69)\n"
     ]
    }
   ],
   "source": [
    "#Adding one element in the tuple\n",
    "t1=(1,43,67,89,43,98,34)\n",
    "ls=list(t1)\n",
    "ls.append(69)\n",
    "t1=tuple(ls)\n",
    "print(t1)"
   ]
  },
  {
   "cell_type": "code",
   "execution_count": 18,
   "id": "7da20349-edec-447b-a0ae-073fe3b2f606",
   "metadata": {},
   "outputs": [
    {
     "name": "stdout",
     "output_type": "stream",
     "text": [
      "(1, 43, 67, 89, 'Dawn', 98, 34)\n"
     ]
    }
   ],
   "source": [
    "#update an element in the tuple\n",
    "t1=(1,43,67,89,43,98,34)\n",
    "ls=list(t1)\n",
    "ls[4]=\"Dawn\"\n",
    "t1=tuple(ls)\n",
    "print(t1)"
   ]
  },
  {
   "cell_type": "code",
   "execution_count": 20,
   "id": "b31a7b11-0ab4-48aa-a2c0-aaf68ae9787e",
   "metadata": {},
   "outputs": [
    {
     "ename": "NameError",
     "evalue": "name 't1' is not defined",
     "output_type": "error",
     "traceback": [
      "\u001b[1;31m---------------------------------------------------------------------------\u001b[0m",
      "\u001b[1;31mNameError\u001b[0m                                 Traceback (most recent call last)",
      "Cell \u001b[1;32mIn[20], line 4\u001b[0m\n\u001b[0;32m      2\u001b[0m t1\u001b[38;5;241m=\u001b[39m(\u001b[38;5;241m1\u001b[39m,\u001b[38;5;241m43\u001b[39m,\u001b[38;5;241m67\u001b[39m,\u001b[38;5;241m89\u001b[39m,\u001b[38;5;241m43\u001b[39m,\u001b[38;5;241m98\u001b[39m,\u001b[38;5;241m34\u001b[39m)\n\u001b[0;32m      3\u001b[0m \u001b[38;5;28;01mdel\u001b[39;00m t1\n\u001b[1;32m----> 4\u001b[0m \u001b[38;5;28mprint\u001b[39m(t1)\n",
      "\u001b[1;31mNameError\u001b[0m: name 't1' is not defined"
     ]
    }
   ],
   "source": [
    "#del \n",
    "t1=(1,43,67,89,43,98,34)\n",
    "del t1\n",
    "print(t1)"
   ]
  },
  {
   "cell_type": "code",
   "execution_count": null,
   "id": "a42353b9-47c2-47c4-ac3e-53425842569a",
   "metadata": {},
   "outputs": [],
   "source": []
  },
  {
   "cell_type": "code",
   "execution_count": null,
   "id": "160fdab6-1048-435c-ac7c-68894c04da91",
   "metadata": {},
   "outputs": [],
   "source": []
  }
 ],
 "metadata": {
  "kernelspec": {
   "display_name": "Python 3 (ipykernel)",
   "language": "python",
   "name": "python3"
  },
  "language_info": {
   "codemirror_mode": {
    "name": "ipython",
    "version": 3
   },
   "file_extension": ".py",
   "mimetype": "text/x-python",
   "name": "python",
   "nbconvert_exporter": "python",
   "pygments_lexer": "ipython3",
   "version": "3.11.7"
  }
 },
 "nbformat": 4,
 "nbformat_minor": 5
}
