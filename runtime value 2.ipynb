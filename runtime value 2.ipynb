{
 "cells": [
  {
   "cell_type": "code",
   "execution_count": 1,
   "id": "1c5690b2-ee5f-4178-88cf-1b1b4cd0ffed",
   "metadata": {},
   "outputs": [
    {
     "name": "stdout",
     "output_type": "stream",
     "text": [
      "the sum is 300\n"
     ]
    }
   ],
   "source": [
    "#sum of two numbers\n",
    "a=100\n",
    "b=200\n",
    "c=a+b\n",
    "print(\"the sum is\",c)"
   ]
  },
  {
   "cell_type": "code",
   "execution_count": 2,
   "id": "866f37fc-cba2-42ed-92ab-7e4c02e4cd32",
   "metadata": {},
   "outputs": [
    {
     "name": "stdout",
     "output_type": "stream",
     "text": [
      "the interest is 840.0\n"
     ]
    }
   ],
   "source": [
    "#simple interest\n",
    "p=2000\n",
    "r=10.5\n",
    "t=4\n",
    "si=p*r*t/100\n",
    "print(\"the interest is\",si)"
   ]
  },
  {
   "cell_type": "code",
   "execution_count": 3,
   "id": "3cf07846-0059-4b8a-a823-3a526f878dfd",
   "metadata": {},
   "outputs": [
    {
     "name": "stdout",
     "output_type": "stream",
     "text": [
      "the average is 38.14666666666667\n"
     ]
    }
   ],
   "source": [
    "#average of three numbers\n",
    "a=12.23\n",
    "b=34.45\n",
    "c=67.76\n",
    "avg=(a+b+c)/3\n",
    "print(\"the average is\",avg)"
   ]
  },
  {
   "cell_type": "code",
   "execution_count": 4,
   "id": "27f8a947-0b77-433b-bde1-bead4e98c280",
   "metadata": {},
   "outputs": [
    {
     "name": "stdout",
     "output_type": "stream",
     "text": [
      "the percentage is  81.2\n"
     ]
    }
   ],
   "source": [
    "#percentage\n",
    "p=67\n",
    "c=98\n",
    "m=87\n",
    "e=67\n",
    "h=87\n",
    "s=p+c+m+e+h\n",
    "per=s*100/500\n",
    "print(\"the percentage is \",per)"
   ]
  },
  {
   "cell_type": "code",
   "execution_count": 2,
   "id": "785bef3b-6ae4-4455-a01f-4f029db690c9",
   "metadata": {},
   "outputs": [
    {
     "name": "stdin",
     "output_type": "stream",
     "text": [
      "enter the value 100\n"
     ]
    },
    {
     "ename": "NameError",
     "evalue": "name 'math' is not defined",
     "output_type": "error",
     "traceback": [
      "\u001b[1;31m---------------------------------------------------------------------------\u001b[0m",
      "\u001b[1;31mNameError\u001b[0m                                 Traceback (most recent call last)",
      "Cell \u001b[1;32mIn[2], line 3\u001b[0m\n\u001b[0;32m      1\u001b[0m \u001b[38;5;66;03m#import math\u001b[39;00m\n\u001b[0;32m      2\u001b[0m n\u001b[38;5;241m=\u001b[39m\u001b[38;5;28mfloat\u001b[39m(\u001b[38;5;28minput\u001b[39m(\u001b[38;5;124m\"\u001b[39m\u001b[38;5;124menter the value\u001b[39m\u001b[38;5;124m\"\u001b[39m))\n\u001b[1;32m----> 3\u001b[0m res\u001b[38;5;241m=\u001b[39mmath\u001b[38;5;241m.\u001b[39msqrt(n)\n\u001b[0;32m      4\u001b[0m \u001b[38;5;28mprint\u001b[39m(\u001b[38;5;124m\"\u001b[39m\u001b[38;5;124mthe square root of the value is\u001b[39m\u001b[38;5;124m\"\u001b[39m,res)\n",
      "\u001b[1;31mNameError\u001b[0m: name 'math' is not defined"
     ]
    }
   ],
   "source": [
    "#import math\n",
    "n=float(input(\"enter the value\"))\n",
    "res=math.sqrt(n)\n",
    "print(\"the square root of the value is\",res)"
   ]
  },
  {
   "cell_type": "code",
   "execution_count": 19,
   "id": "6e07fde9-2168-4e85-a83d-062853a05e85",
   "metadata": {},
   "outputs": [
    {
     "name": "stdout",
     "output_type": "stream",
     "text": [
      "7.483314773547883\n",
      "7.483314773547883\n"
     ]
    },
    {
     "ename": "NameError",
     "evalue": "name 'math' is not defined",
     "output_type": "error",
     "traceback": [
      "\u001b[1;31m---------------------------------------------------------------------------\u001b[0m",
      "\u001b[1;31mNameError\u001b[0m                                 Traceback (most recent call last)",
      "Cell \u001b[1;32mIn[19], line 5\u001b[0m\n\u001b[0;32m      3\u001b[0m \u001b[38;5;28mprint\u001b[39m(a\u001b[38;5;241m*\u001b[39m\u001b[38;5;241m*\u001b[39mb)\n\u001b[0;32m      4\u001b[0m \u001b[38;5;28mprint\u001b[39m(\u001b[38;5;28mpow\u001b[39m(a,b))\n\u001b[1;32m----> 5\u001b[0m \u001b[38;5;28mprint\u001b[39m(math\u001b[38;5;241m.\u001b[39mpow(a,b))\n",
      "\u001b[1;31mNameError\u001b[0m: name 'math' is not defined"
     ]
    }
   ],
   "source": [
    "a=56\n",
    "b=0.5\n",
    "print(a**b)\n",
    "print(pow(a,b))\n",
    "print(math.pow(a,b))"
   ]
  },
  {
   "cell_type": "code",
   "execution_count": 10,
   "id": "965de185-1235-4d94-9cb1-ce83dcea2ad6",
   "metadata": {},
   "outputs": [
    {
     "name": "stdout",
     "output_type": "stream",
     "text": [
      "<class 'int'>\n"
     ]
    }
   ],
   "source": [
    "a=10\n",
    "print(type(a))"
   ]
  },
  {
   "cell_type": "code",
   "execution_count": 11,
   "id": "34608228-8d0f-489a-a428-a4df245d4b83",
   "metadata": {},
   "outputs": [
    {
     "name": "stdout",
     "output_type": "stream",
     "text": [
      "10.0\n",
      "<class 'float'>\n"
     ]
    }
   ],
   "source": [
    "b=float(a)\n",
    "print(b)\n",
    "print(type(b))"
   ]
  },
  {
   "cell_type": "code",
   "execution_count": 12,
   "id": "f7425bc0-044b-4f8b-832e-cb9859b18289",
   "metadata": {},
   "outputs": [
    {
     "name": "stdout",
     "output_type": "stream",
     "text": [
      "10\n",
      "<class 'str'>\n"
     ]
    }
   ],
   "source": [
    "b=str(a)\n",
    "print(b)\n",
    "print(type(b))"
   ]
  },
  {
   "cell_type": "code",
   "execution_count": 4,
   "id": "801fb69b-7135-4f7f-8893-85bc919133f6",
   "metadata": {},
   "outputs": [
    {
     "name": "stdin",
     "output_type": "stream",
     "text": [
      "enter the number 76\n",
      "enter the number 87\n"
     ]
    },
    {
     "name": "stdout",
     "output_type": "stream",
     "text": [
      "the sum is 163\n"
     ]
    }
   ],
   "source": [
    "#sum of two numbers\n",
    "a=int(input(\"enter the number\"))\n",
    "b=int(input(\"enter the number\"))\n",
    "c=a+b\n",
    "print(\"the sum is\",c)"
   ]
  },
  {
   "cell_type": "code",
   "execution_count": 9,
   "id": "df7cdd0a-8146-4b54-b36c-906dc00deaaf",
   "metadata": {},
   "outputs": [
    {
     "name": "stdin",
     "output_type": "stream",
     "text": [
      "enter the value of principal 76\n",
      "enter the value of rate 86.8\n",
      "enter the value of time 86\n"
     ]
    },
    {
     "name": "stdout",
     "output_type": "stream",
     "text": [
      "the interest rate is 5673.2480000000005\n"
     ]
    }
   ],
   "source": [
    "p=int(input(\"enter the value of principal\"))\n",
    "r=float(input(\"enter the value of rate\"))\n",
    "t=int(input(\"enter the value of time\"))\n",
    "si=p*r*t/100            \n",
    "print(\"the interest rate is\",si)"
   ]
  },
  {
   "cell_type": "code",
   "execution_count": 18,
   "id": "edff7892-7c36-471d-8d1c-67a7fd15f720",
   "metadata": {},
   "outputs": [
    {
     "name": "stdin",
     "output_type": "stream",
     "text": [
      "enter the value of a 56\n",
      "enter the value of b 43.7\n",
      "enter the value of c 70\n"
     ]
    },
    {
     "name": "stdout",
     "output_type": "stream",
     "text": [
      "the average is 56.56666666666666\n"
     ]
    }
   ],
   "source": [
    "#average of three numbers\n",
    "a=float(input(\"enter the value of a\"))\n",
    "b=float(input(\"enter the value of b\"))\n",
    "c=float(input(\"enter the value of c\"))\n",
    "avg=(a+b+c)/3\n",
    "print(\"the average is\",avg)"
   ]
  },
  {
   "cell_type": "code",
   "execution_count": 21,
   "id": "f7da6d2a-2b46-4466-9c0e-f6671b1d1967",
   "metadata": {},
   "outputs": [
    {
     "name": "stdin",
     "output_type": "stream",
     "text": [
      "enter the value of p 87.87\n",
      "enter the value of c 87.98\n",
      "enter the value of m 43.98\n",
      "enter the value of e 87.93\n",
      "enter the value of h 54\n"
     ]
    },
    {
     "name": "stdout",
     "output_type": "stream",
     "text": [
      "the percentage is 72.352\n"
     ]
    }
   ],
   "source": [
    "#percentage\n",
    "p=float(input(\"enter the value of p\"))\n",
    "c=float(input(\"enter the value of c\"))\n",
    "m=float(input(\"enter the value of m\"))\n",
    "e=float(input(\"enter the value of e\"))\n",
    "h=float(input(\"enter the value of h\"))\n",
    "s=p+c+m+e+h\n",
    "per=s*100/500\n",
    "print(\"the percentage is\", per)\n"
   ]
  },
  {
   "cell_type": "code",
   "execution_count": 14,
   "id": "d8b3e172-545b-415f-9bb5-13c4bdeb200b",
   "metadata": {},
   "outputs": [
    {
     "name": "stdin",
     "output_type": "stream",
     "text": [
      "enter the value of a 76\n",
      "enter the value of b 6\n"
     ]
    },
    {
     "name": "stdout",
     "output_type": "stream",
     "text": [
      "192699928576\n",
      "192699928576\n"
     ]
    },
    {
     "ename": "NameError",
     "evalue": "name 'math' is not defined",
     "output_type": "error",
     "traceback": [
      "\u001b[1;31m---------------------------------------------------------------------------\u001b[0m",
      "\u001b[1;31mNameError\u001b[0m                                 Traceback (most recent call last)",
      "Cell \u001b[1;32mIn[14], line 6\u001b[0m\n\u001b[0;32m      4\u001b[0m \u001b[38;5;28mprint\u001b[39m(a\u001b[38;5;241m*\u001b[39m\u001b[38;5;241m*\u001b[39mb)\n\u001b[0;32m      5\u001b[0m \u001b[38;5;28mprint\u001b[39m(\u001b[38;5;28mpow\u001b[39m(a,b))\n\u001b[1;32m----> 6\u001b[0m \u001b[38;5;28mprint\u001b[39m(math\u001b[38;5;241m.\u001b[39mpow(a,b))\n",
      "\u001b[1;31mNameError\u001b[0m: name 'math' is not defined"
     ]
    }
   ],
   "source": [
    "#power\n",
    "a=int(input(\"enter the value of a\"))\n",
    "b=int(input(\"enter the value of b\"))\n",
    "print(a**b)\n",
    "print(pow(a,b))\n",
    "print(math.pow(a,b))"
   ]
  },
  {
   "cell_type": "code",
   "execution_count": 21,
   "id": "c7a035a3-d0ae-4afc-9baa-7a1327b8d0c9",
   "metadata": {},
   "outputs": [
    {
     "name": "stdin",
     "output_type": "stream",
     "text": [
      "enter the value of a 16\n",
      "enter the value of b 12\n"
     ]
    },
    {
     "ename": "NameError",
     "evalue": "name 'math' is not defined",
     "output_type": "error",
     "traceback": [
      "\u001b[1;31m---------------------------------------------------------------------------\u001b[0m",
      "\u001b[1;31mNameError\u001b[0m                                 Traceback (most recent call last)",
      "Cell \u001b[1;32mIn[21], line 5\u001b[0m\n\u001b[0;32m      3\u001b[0m b\u001b[38;5;241m=\u001b[39m\u001b[38;5;28mint\u001b[39m(\u001b[38;5;28minput\u001b[39m(\u001b[38;5;124m\"\u001b[39m\u001b[38;5;124menter the value of b\u001b[39m\u001b[38;5;124m\"\u001b[39m))\n\u001b[0;32m      4\u001b[0m c\u001b[38;5;241m=\u001b[39m(a\u001b[38;5;241m+\u001b[39mb)\u001b[38;5;241m*\u001b[39m\u001b[38;5;241m*\u001b[39m\u001b[38;5;241m2\u001b[39m\n\u001b[1;32m----> 5\u001b[0m \u001b[38;5;28mprint\u001b[39m(math\u001b[38;5;241m.\u001b[39mpow(c))\n",
      "\u001b[1;31mNameError\u001b[0m: name 'math' is not defined"
     ]
    }
   ],
   "source": [
    "# algebra\n",
    "a=int(input(\"enter the value of a\"))\n",
    "b=int(input(\"enter the value of b\"))\n",
    "c=(a+b)**2\n",
    "print(math.pow(c))\n",
    "\n",
    "      "
   ]
  },
  {
   "cell_type": "code",
   "execution_count": null,
   "id": "8ba2457e-11c1-4134-b6dc-3904acab7c51",
   "metadata": {},
   "outputs": [],
   "source": []
  },
  {
   "cell_type": "code",
   "execution_count": null,
   "id": "acb0ba4c-7f0d-437a-bcef-09bbb74cceab",
   "metadata": {},
   "outputs": [],
   "source": []
  }
 ],
 "metadata": {
  "kernelspec": {
   "display_name": "Python 3 (ipykernel)",
   "language": "python",
   "name": "python3"
  },
  "language_info": {
   "codemirror_mode": {
    "name": "ipython",
    "version": 3
   },
   "file_extension": ".py",
   "mimetype": "text/x-python",
   "name": "python",
   "nbconvert_exporter": "python",
   "pygments_lexer": "ipython3",
   "version": "3.11.7"
  }
 },
 "nbformat": 4,
 "nbformat_minor": 5
}
