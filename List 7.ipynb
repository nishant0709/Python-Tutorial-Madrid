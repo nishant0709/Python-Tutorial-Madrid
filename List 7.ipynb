{
 "cells": [
  {
   "cell_type": "code",
   "execution_count": 6,
   "id": "d3d975cf-2e2d-459d-a2c3-87f461b9469d",
   "metadata": {},
   "outputs": [
    {
     "name": "stdout",
     "output_type": "stream",
     "text": [
      "['nishant']\n"
     ]
    }
   ],
   "source": [
    "#by using list constructor\n",
    "ls=list((\"nishant\",))\n",
    "print(ls)"
   ]
  },
  {
   "cell_type": "code",
   "execution_count": 4,
   "id": "5bae460b-6764-4cb9-add4-1a5904abf8d2",
   "metadata": {},
   "outputs": [
    {
     "name": "stdout",
     "output_type": "stream",
     "text": [
      "[12, 23, 3, 4]\n"
     ]
    }
   ],
   "source": [
    "ls=list((12,23,3,4))\n",
    "print(ls)"
   ]
  },
  {
   "cell_type": "code",
   "execution_count": 2,
   "id": "6e4daf28-8808-484b-993a-2048d372b335",
   "metadata": {},
   "outputs": [
    {
     "name": "stdout",
     "output_type": "stream",
     "text": [
      "[12, 23, 34, 45, 56, 67]\n"
     ]
    },
    {
     "data": {
      "text/plain": [
       "34"
      ]
     },
     "execution_count": 2,
     "metadata": {},
     "output_type": "execute_result"
    }
   ],
   "source": [
    "#updation\n",
    "ls=[12,23,34,45,56,67]\n",
    "print(ls)\n",
    "ls[2]='hello'\n",
    "\n",
    "\n"
   ]
  },
  {
   "cell_type": "code",
   "execution_count": 6,
   "id": "ecc8dec2-c71c-4fa9-bd82-4ff263e49913",
   "metadata": {},
   "outputs": [
    {
     "data": {
      "text/plain": [
       "[54, 76, 98, 78]"
      ]
     },
     "execution_count": 6,
     "metadata": {},
     "output_type": "execute_result"
    }
   ],
   "source": [
    "#slice operator\n",
    "ls=[12,23,34,545,667,78,98,76,54]\n",
    "ls[-1:-5:-1]\n",
    "#3 4 5 6 7"
   ]
  },
  {
   "cell_type": "code",
   "execution_count": 2,
   "id": "0c0c5610-0472-4691-a3b7-e50c63dd434e",
   "metadata": {},
   "outputs": [
    {
     "data": {
      "text/plain": [
       "[12, 23, 34, 545, 667, 78, 98, 76]"
      ]
     },
     "execution_count": 2,
     "metadata": {},
     "output_type": "execute_result"
    }
   ],
   "source": [
    "ls[:8]\n",
    "#from the begining"
   ]
  },
  {
   "cell_type": "code",
   "execution_count": 3,
   "id": "c5eaf781-979e-4600-a14f-fac4c30505c7",
   "metadata": {
    "scrolled": true
   },
   "outputs": [
    {
     "data": {
      "text/plain": [
       "[545, 667, 78, 98, 76, 54]"
      ]
     },
     "execution_count": 3,
     "metadata": {},
     "output_type": "execute_result"
    }
   ],
   "source": [
    "ls[3:]\n",
    "#strat from 3 end to the last"
   ]
  },
  {
   "cell_type": "code",
   "execution_count": 4,
   "id": "f770061e-bb02-4dfe-ab4a-d3ac47b2d87d",
   "metadata": {},
   "outputs": [
    {
     "data": {
      "text/plain": [
       "[12, 23, 34, 545, 667, 78, 98, 76, 54]"
      ]
     },
     "execution_count": 4,
     "metadata": {},
     "output_type": "execute_result"
    }
   ],
   "source": [
    "ls[:]\n",
    "#from the begining to last"
   ]
  },
  {
   "cell_type": "code",
   "execution_count": 6,
   "id": "c1de8eb6-02fb-44e6-b832-3656de908d91",
   "metadata": {},
   "outputs": [
    {
     "name": "stdout",
     "output_type": "stream",
     "text": [
      "[12, 23, 34, 45, 56, 67]\n",
      "[12, 23, 34, 'how', 'are', 'you']\n"
     ]
    }
   ],
   "source": [
    "ls=[12,23,34,45,56,67]\n",
    "print(ls)\n",
    "ls[3:6]=[\"how\",\"are\",\"you\"]\n",
    "print(ls)"
   ]
  },
  {
   "cell_type": "code",
   "execution_count": 7,
   "id": "2a405afd-78ec-465c-b161-ed8c7229c79e",
   "metadata": {},
   "outputs": [
    {
     "name": "stdout",
     "output_type": "stream",
     "text": [
      "[23, 76, 90, 24]\n"
     ]
    }
   ],
   "source": [
    "ls=[12,23,35,76,86,90,56,24,89,78]\n",
    "print(ls[1:8:2]) #1 3 5 7\n",
    "#(ls[start:end:step])"
   ]
  },
  {
   "cell_type": "code",
   "execution_count": 8,
   "id": "bd4db81f-d450-46d4-923e-623f8b9a9d93",
   "metadata": {},
   "outputs": [
    {
     "name": "stdout",
     "output_type": "stream",
     "text": [
      "[12, 34, 45, 65, 76, 68, 97]\n",
      "[12, 34, 45, 65, 68, 97]\n"
     ]
    }
   ],
   "source": [
    "#delete\n",
    "ls=[12,34,45,65,76,68,97]\n",
    "print(ls)\n",
    "del ls[4]\n",
    "print(ls)"
   ]
  },
  {
   "cell_type": "code",
   "execution_count": 9,
   "id": "caa997a1-0b04-4509-98a9-171a7bdf1d17",
   "metadata": {},
   "outputs": [
    {
     "name": "stdout",
     "output_type": "stream",
     "text": [
      "[12, 34, 45, 65, 76, 68, 97]\n",
      "[12, 34, 45, 76, 68, 97]\n"
     ]
    }
   ],
   "source": [
    "#pop()\n",
    "ls=[12,34,45,65,76,68,97]\n",
    "print(ls)\n",
    "ls.pop(3)\n",
    "print(ls)"
   ]
  },
  {
   "cell_type": "code",
   "execution_count": 10,
   "id": "966526a9-2b87-4d3b-896d-40bd6ea85a98",
   "metadata": {},
   "outputs": [
    {
     "name": "stdout",
     "output_type": "stream",
     "text": [
      "[12, 34, 45, 65, 76, 68, 97]\n",
      "[12, 34, 45, 65, 76, 68]\n"
     ]
    }
   ],
   "source": [
    "ls=[12,34,45,65,76,68,97]\n",
    "print(ls)\n",
    "ls.pop()\n",
    "print(ls)"
   ]
  },
  {
   "cell_type": "code",
   "execution_count": 11,
   "id": "ab2a0594-3315-4ef9-aa47-8d9108e099dd",
   "metadata": {},
   "outputs": [
    {
     "name": "stdout",
     "output_type": "stream",
     "text": [
      "[12, 34, 45, 65, 76]\n"
     ]
    }
   ],
   "source": [
    "ls.pop()\n",
    "print(ls)"
   ]
  },
  {
   "cell_type": "code",
   "execution_count": 12,
   "id": "9c21c638-fcc1-413b-a3e2-d4340d2259f0",
   "metadata": {},
   "outputs": [
    {
     "name": "stdout",
     "output_type": "stream",
     "text": [
      "[12, 34, 45, 65]\n"
     ]
    }
   ],
   "source": [
    "ls.pop()\n",
    "print(ls)"
   ]
  },
  {
   "cell_type": "code",
   "execution_count": 13,
   "id": "cedf475d-e8e3-49a9-a874-daedcf29844f",
   "metadata": {},
   "outputs": [
    {
     "name": "stdout",
     "output_type": "stream",
     "text": [
      "[45, 65, 76, 88, 98, 34, 78, 89]\n"
     ]
    },
    {
     "ename": "NameError",
     "evalue": "name 'rs' is not defined",
     "output_type": "error",
     "traceback": [
      "\u001b[1;31m---------------------------------------------------------------------------\u001b[0m",
      "\u001b[1;31mNameError\u001b[0m                                 Traceback (most recent call last)",
      "Cell \u001b[1;32mIn[13], line 4\u001b[0m\n\u001b[0;32m      2\u001b[0m \u001b[38;5;28mprint\u001b[39m(rs)\n\u001b[0;32m      3\u001b[0m \u001b[38;5;28;01mdel\u001b[39;00m rs\n\u001b[1;32m----> 4\u001b[0m \u001b[38;5;28mprint\u001b[39m(rs)\n",
      "\u001b[1;31mNameError\u001b[0m: name 'rs' is not defined"
     ]
    }
   ],
   "source": [
    "#del ls\n",
    "rs=[45,65,76,88,98,34,78,89]\n",
    "print(rs)\n",
    "del rs\n",
    "print(rs)\n"
   ]
  },
  {
   "cell_type": "code",
   "execution_count": 1,
   "id": "80c906f4-8711-46ee-825b-06be74002896",
   "metadata": {},
   "outputs": [
    {
     "name": "stdout",
     "output_type": "stream",
     "text": [
      "[11, 65, 86, 98, 45, 86, 75]\n",
      "[11, 65, 86, 98, 86, 75]\n"
     ]
    }
   ],
   "source": [
    "#remove\n",
    "ls=[11,65,86,98,45,86,75]\n",
    "print(ls)\n",
    "ls.remove(45)\n",
    "print(ls)"
   ]
  },
  {
   "cell_type": "code",
   "execution_count": 14,
   "id": "023ade0c-c772-41fa-ba0d-e8e4a2d08d7a",
   "metadata": {},
   "outputs": [
    {
     "name": "stdout",
     "output_type": "stream",
     "text": [
      "[12, 65, 87, 56, 87, 57, 98, 78]\n",
      "[78, 98, 57, 87, 56, 87, 65, 12]\n"
     ]
    }
   ],
   "source": [
    "#reverse without using rev function\n",
    "ls=[12,65,87,56,87,57,98,78]\n",
    "print(ls)\n",
    "print(ls[::-1])"
   ]
  },
  {
   "cell_type": "code",
   "execution_count": 15,
   "id": "0ffb82f5-f439-4f82-8134-44a43c91b48b",
   "metadata": {},
   "outputs": [
    {
     "name": "stdout",
     "output_type": "stream",
     "text": [
      "[23, 67, 87, 94, 67, 87, 74]\n",
      "[23, 67, 87, 94, 67, 87, 74, 98]\n"
     ]
    }
   ],
   "source": [
    "#append()\n",
    "ls=[23,67,87,94,67,87,74]\n",
    "print(ls)\n",
    "ls.append(98)\n",
    "print(ls)"
   ]
  },
  {
   "cell_type": "code",
   "execution_count": 16,
   "id": "87dd3dac-5650-420f-87a5-b7f112fe6e55",
   "metadata": {},
   "outputs": [
    {
     "name": "stdout",
     "output_type": "stream",
     "text": [
      "[23, 67, 87, 94, 67, 87, 74, 98, [58, 78, 96]]\n"
     ]
    }
   ],
   "source": [
    "ls.append([58,78,96])\n",
    "print(ls)"
   ]
  },
  {
   "cell_type": "code",
   "execution_count": 17,
   "id": "bd42309d-fe68-4ee8-a779-af5a81d0bd54",
   "metadata": {},
   "outputs": [
    {
     "name": "stdin",
     "output_type": "stream",
     "text": [
      "enter the number 76\n",
      "enter the number 856\n",
      "enter the number 90\n",
      "enter the number 86\n",
      "enter the number 54\n",
      "enter the number 65\n",
      "enter the number 34\n",
      "enter the number 98\n",
      "enter the number 98\n",
      "enter the number 51\n"
     ]
    },
    {
     "name": "stdout",
     "output_type": "stream",
     "text": [
      "[76, 856, 90, 86, 54, 65, 34, 98, 98, 51]\n"
     ]
    }
   ],
   "source": [
    "#make your list of 10 element of choice\n",
    "ls=[]\n",
    "for i in range(10):\n",
    "    n=int(input(\"enter the number\"))\n",
    "    ls.append(n)\n",
    "print(ls)"
   ]
  },
  {
   "cell_type": "code",
   "execution_count": 2,
   "id": "160d1556-15d7-4958-9912-ac9fdfea2bdc",
   "metadata": {},
   "outputs": [
    {
     "name": "stdin",
     "output_type": "stream",
     "text": [
      "enter the number 87\n",
      "enter the number 90\n",
      "enter the number 56\n",
      "enter the number 53\n",
      "enter the number 21\n",
      "enter the number 80\n",
      "enter the number 22\n",
      "enter the number 70\n",
      "enter the number 79\n",
      "enter the number 12\n"
     ]
    },
    {
     "name": "stdout",
     "output_type": "stream",
     "text": [
      "[87, 90, 56, 53, 21, 80, 22, 70, 79, 12]\n",
      "even numbers [90, 56, 80, 22, 70, 12]\n",
      "odd numbers [87, 53, 21, 79]\n"
     ]
    }
   ],
   "source": [
    "#make the saperate list of even and odd numbers from a list.\n",
    "ls=[]\n",
    "for i in range(10):\n",
    "    n=int(input(\"enter the number\"))\n",
    "    ls.append(n)\n",
    "print(ls)\n",
    "ls_e=[]\n",
    "ls_o=[]\n",
    "for i in ls:\n",
    "    if i%2==0:\n",
    "        ls_e.append(i)\n",
    "    else:\n",
    "        ls_o.append(i)\n",
    "print(\"even numbers\",ls_e)\n",
    "print(\"odd numbers\",ls_o)\n",
    "    "
   ]
  },
  {
   "cell_type": "code",
   "execution_count": 4,
   "id": "eed2faaf-11ee-4102-9de4-e472aab36b52",
   "metadata": {},
   "outputs": [
    {
     "name": "stdin",
     "output_type": "stream",
     "text": [
      "enter the number 87\n",
      "enter the number 98\n",
      "enter the number 90\n",
      "enter the number 45\n",
      "enter the number 32\n",
      "enter the number 34\n",
      "enter the number 98\n",
      "enter the number 43\n",
      "enter the number 98\n",
      "enter the number 23\n"
     ]
    },
    {
     "name": "stdout",
     "output_type": "stream",
     "text": [
      "[87, 98, 90, 45, 32, 34, 98, 43, 98, 23]\n",
      "maximum element is 98\n"
     ]
    }
   ],
   "source": [
    "#find the maximum element in the list\n",
    "ls=[]\n",
    "for i in range(10):\n",
    "    n=int(input(\"enter the number\"))\n",
    "    ls.append(n)\n",
    "print(ls)\n",
    "print(\"maximum element is\",max(ls))"
   ]
  },
  {
   "cell_type": "code",
   "execution_count": 5,
   "id": "3b3b7759-ed7b-4eb1-879f-73211dab344e",
   "metadata": {},
   "outputs": [
    {
     "name": "stdin",
     "output_type": "stream",
     "text": [
      "enter the number 87\n",
      "enter the number 55\n",
      "enter the number 98\n",
      "enter the number 90\n",
      "enter the number 32\n",
      "enter the number 809\n",
      "enter the number 97\n",
      "enter the number 63\n",
      "enter the number 45\n",
      "enter the number 56\n"
     ]
    },
    {
     "name": "stdout",
     "output_type": "stream",
     "text": [
      "[87, 55, 98, 90, 32, 809, 97, 63, 45, 56]\n",
      "the maximum is 809\n"
     ]
    }
   ],
   "source": [
    "ls=[]\n",
    "for i in range(10):\n",
    "    n=int(input(\"enter the number\"))\n",
    "    ls.append(n)\n",
    "print(ls)\n",
    "M=ls[0]\n",
    "for i in ls:\n",
    "    if i>M:\n",
    "        M=i\n",
    "print(\"the maximum is\",M)\n",
    "       "
   ]
  },
  {
   "cell_type": "code",
   "execution_count": 7,
   "id": "09f3c538-ecde-456b-b4bd-26491bc875b2",
   "metadata": {},
   "outputs": [
    {
     "name": "stdin",
     "output_type": "stream",
     "text": [
      "enter the value 87\n",
      "enter the value 87\n",
      "enter the value 45\n",
      "enter the value 90\n",
      "enter the value 32\n",
      "enter the value 85\n",
      "enter the value 80\n",
      "enter the value 38\n",
      "enter the value 96\n",
      "enter the value 51\n"
     ]
    },
    {
     "name": "stdout",
     "output_type": "stream",
     "text": [
      "[87, 87, 45, 90, 32, 85, 80, 38, 96, 51]\n",
      "the minimum value is 32\n"
     ]
    }
   ],
   "source": [
    "#find the minimum element in the list\n",
    "ls=[]\n",
    "for i in range(10):\n",
    "    n=int(input(\"enter the value\"))\n",
    "    ls.append(n)\n",
    "print(ls)\n",
    "Mi=ls[0]\n",
    "for i in ls:\n",
    "    if i<Mi:\n",
    "        Mi=i\n",
    "print(\"the minimum value is\",Mi)"
   ]
  },
  {
   "cell_type": "code",
   "execution_count": 10,
   "id": "22573f9f-27f5-4f58-bae3-8ad5351773a0",
   "metadata": {},
   "outputs": [
    {
     "name": "stdout",
     "output_type": "stream",
     "text": [
      "[23, 78, 98, 68, 98, 56, 54, 9]\n",
      "[23, 78, 98, 68, 98, 56, 54, 9, 87, 67, 56]\n"
     ]
    }
   ],
   "source": [
    "#extend-it is used to insert more than one element at a time in the list.element is always inserted at the end of the list.\n",
    "ls=[23,78,98,68,98,56,54,9,]\n",
    "print(ls)\n",
    "ls.extend((87,67,56))\n",
    "print(ls)"
   ]
  },
  {
   "cell_type": "code",
   "execution_count": 11,
   "id": "74c394d5-d3aa-4c9d-9955-ce7c69e457a2",
   "metadata": {},
   "outputs": [
    {
     "name": "stdout",
     "output_type": "stream",
     "text": [
      "[23, 78, 98, 68, 98, 56, 54, 9]\n",
      "[23, 78, 98, 68, 98, 56, 54, 9, 87, 67, 56]\n"
     ]
    }
   ],
   "source": [
    "ls=[23,78,98,68,98,56,54,9,]\n",
    "print(ls)\n",
    "ls.extend([87,67,56])\n",
    "print(ls)"
   ]
  },
  {
   "cell_type": "code",
   "execution_count": 13,
   "id": "344b9f8f-c91c-435d-8dea-bf8a2cd7bd07",
   "metadata": {},
   "outputs": [
    {
     "name": "stdout",
     "output_type": "stream",
     "text": [
      "[87, 8, 56, 87, 45, 82, 40, 67, 78]\n",
      "[87, 8, 56, 87, 45, 82, 40, 67, 78, 'hello', 'nishant', 'singh']\n"
     ]
    }
   ],
   "source": [
    "ls=[87,8,56,87,45,82,40,67,78]\n",
    "print(ls)\n",
    "l1=[\"hello\",\"nishant\",\"singh\"]\n",
    "ls.extend(l1)\n",
    "print(ls)"
   ]
  },
  {
   "cell_type": "code",
   "execution_count": 15,
   "id": "c502a2c9-6cfa-4001-9ca6-66dd9b623523",
   "metadata": {},
   "outputs": [
    {
     "name": "stdout",
     "output_type": "stream",
     "text": [
      "[78, 98, 56, 34, 98, 82, 65, 89]\n",
      "[78, 98, 56, 'NISHANT', 34, 98, 82, 65, 89]\n"
     ]
    }
   ],
   "source": [
    "#insert-by this method you can insert element at desired index\n",
    "#syntax\n",
    "#ls.insert(index,value)\n",
    "ls=[78,98,56,34,98,82,65,89]\n",
    "print(ls)\n",
    "ls.insert(3,\"NISHANT\")\n",
    "print(ls)\n"
   ]
  },
  {
   "cell_type": "code",
   "execution_count": 16,
   "id": "090f0444-2d84-44c2-8670-ba90b51dd689",
   "metadata": {},
   "outputs": [
    {
     "name": "stdout",
     "output_type": "stream",
     "text": [
      "[34, 76, 34, 56, 32, 87, 'nishant', 45, 'semapur', 69]\n",
      "[]\n"
     ]
    }
   ],
   "source": [
    "#clear-return empty list\n",
    "ls=[34,76,34,56,32,87,\"nishant\",45,\"semapur\",69]\n",
    "print(ls)\n",
    "ls.clear()\n",
    "print(ls)"
   ]
  },
  {
   "cell_type": "code",
   "execution_count": 17,
   "id": "bcd4b785-b877-4daa-bdc1-71958e5c0d30",
   "metadata": {},
   "outputs": [
    {
     "name": "stdout",
     "output_type": "stream",
     "text": [
      "[78, 78, 56, 98, 45, 78, 87, 89]\n",
      "[89, 87, 78, 45, 98, 56, 78, 78]\n"
     ]
    }
   ],
   "source": [
    "#reverse-reverse the list with reverse function\n",
    "ls=[78,78,56,98,45,78,87,89]\n",
    "print(ls)\n",
    "ls.reverse()\n",
    "print(ls)"
   ]
  },
  {
   "cell_type": "code",
   "execution_count": 18,
   "id": "55b742fa-0010-4ea6-8ae9-d0f40e02ed70",
   "metadata": {},
   "outputs": [
    {
     "name": "stdout",
     "output_type": "stream",
     "text": [
      "[78, 78, 56, 98, 45, 78, 87, 89]\n",
      "[45, 56, 78, 78, 78, 87, 89, 98]\n"
     ]
    }
   ],
   "source": [
    "#sort-arrange the elements in ascending or descending order\n",
    "ls=[78,78,56,98,45,78,87,89]\n",
    "print(ls)\n",
    "ls.sort()\n",
    "print(ls)"
   ]
  },
  {
   "cell_type": "code",
   "execution_count": 20,
   "id": "1e7e28af-c9ed-4101-9e2f-5716ccb8e972",
   "metadata": {},
   "outputs": [
    {
     "name": "stdout",
     "output_type": "stream",
     "text": [
      "[78, 78, 56, 98, 45, 78, 87, 89]\n",
      "[98, 89, 87, 78, 78, 78, 56, 45]\n"
     ]
    }
   ],
   "source": [
    "#descending\n",
    "ls=[78,78,56,98,45,78,87,89]\n",
    "print(ls)\n",
    "ls.sort(reverse=True)\n",
    "print(ls)"
   ]
  },
  {
   "cell_type": "code",
   "execution_count": 21,
   "id": "1fe44875-001e-4115-b527-7d7dc372a5e2",
   "metadata": {},
   "outputs": [
    {
     "name": "stdout",
     "output_type": "stream",
     "text": [
      "[78, 78, 56, 98, 45, 78, 87, 89, 78, 67, 87]\n",
      "4\n"
     ]
    }
   ],
   "source": [
    "#count=count the frequency of the element in the list\n",
    "ls=[78,78,56,98,45,78,87,89,78,67,87,]\n",
    "print(ls)\n",
    "x=ls.count(78)\n",
    "print(x)"
   ]
  },
  {
   "cell_type": "code",
   "execution_count": 23,
   "id": "fa2098fd-2dd8-4796-8dbc-8efb16ef0d81",
   "metadata": {},
   "outputs": [
    {
     "name": "stdout",
     "output_type": "stream",
     "text": [
      "[78, 78, 56, 98, 45, 78, 87, 89, 78, 67, 87]\n",
      "0\n"
     ]
    }
   ],
   "source": [
    "#index=find the first occurance of the elemnent\n",
    "ls=[78,78,56,98,45,78,87,89,78,67,87,]\n",
    "print(ls)\n",
    "x=ls.index(78)\n",
    "print(x)"
   ]
  },
  {
   "cell_type": "code",
   "execution_count": 1,
   "id": "e36dab27-7cb0-456f-8925-d89f6232185e",
   "metadata": {},
   "outputs": [
    {
     "name": "stdout",
     "output_type": "stream",
     "text": [
      "[12, 54, 76, 87, 45, 87, 97, 54, 43, 87]\n",
      "[12, 54, 76, 87, 45, 87, 97, 54, 43, 87]\n",
      "[12, 54, 76, 'Nishant', 45, 87, 97, 54, 43, 87]\n",
      "[12, 54, 76, 'Nishant', 45, 87, 97, 54, 43, 87]\n"
     ]
    }
   ],
   "source": [
    "#copy method\n",
    "ls=[12,54,76,87,45,87,97,54,43,87]\n",
    "ls1=ls\n",
    "print(ls)\n",
    "print(ls1)\n",
    "ls1[3]=\"Nishant\"\n",
    "print(ls)\n",
    "print(ls1)\n"
   ]
  },
  {
   "cell_type": "code",
   "execution_count": 2,
   "id": "4f0fcfb1-8d3b-409f-8605-abba3281146f",
   "metadata": {},
   "outputs": [
    {
     "name": "stdout",
     "output_type": "stream",
     "text": [
      "[12, 54, 76, 87, 45, 87, 97, 54, 43, 87]\n",
      "[12, 54, 76, 87, 45, 87, 97, 54, 43, 87]\n",
      "[12, 54, 76, 'Nishant', 45, 87, 97, 54, 43, 87]\n",
      "[12, 54, 76, 87, 45, 87, 97, 54, 43, 87]\n"
     ]
    }
   ],
   "source": [
    "ls=[12,54,76,87,45,87,97,54,43,87]\n",
    "ls1=ls.copy()\n",
    "print(ls)\n",
    "print(ls1)\n",
    "ls[3]=\"Nishant\"\n",
    "print(ls)\n",
    "print(ls1)"
   ]
  },
  {
   "cell_type": "code",
   "execution_count": 5,
   "id": "46acfe53-c24e-4b34-8379-5107586fbc57",
   "metadata": {},
   "outputs": [
    {
     "name": "stdout",
     "output_type": "stream",
     "text": [
      "['sumit']\n"
     ]
    }
   ],
   "source": [
    "ls=[\"amit\",\"sumit\",\"naina\"]\n",
    "print(ls[1:-1])\n"
   ]
  },
  {
   "cell_type": "code",
   "execution_count": 5,
   "id": "2de82026-5963-479c-809a-8098562e85a4",
   "metadata": {},
   "outputs": [
    {
     "name": "stdout",
     "output_type": "stream",
     "text": [
      "['amit', 'sumit', 'naina', 'amit', 'sumit', 'naina']\n"
     ]
    }
   ],
   "source": [
    "#\"*\" is repetition in string list,tuple,set,ex-a*2=a*a\n",
    "ls=[\"amit\",\"sumit\",\"naina\"]\n",
    "print(ls*2)"
   ]
  },
  {
   "cell_type": "code",
   "execution_count": 6,
   "id": "daf13e1c-161f-48f3-b726-7811d992594b",
   "metadata": {},
   "outputs": [
    {
     "ename": "TypeError",
     "evalue": "unsupported operand type(s) for ** or pow(): 'list' and 'int'",
     "output_type": "error",
     "traceback": [
      "\u001b[1;31m---------------------------------------------------------------------------\u001b[0m",
      "\u001b[1;31mTypeError\u001b[0m                                 Traceback (most recent call last)",
      "Cell \u001b[1;32mIn[6], line 2\u001b[0m\n\u001b[0;32m      1\u001b[0m ls\u001b[38;5;241m=\u001b[39m[\u001b[38;5;124m\"\u001b[39m\u001b[38;5;124mamit\u001b[39m\u001b[38;5;124m\"\u001b[39m,\u001b[38;5;124m\"\u001b[39m\u001b[38;5;124msumit\u001b[39m\u001b[38;5;124m\"\u001b[39m,\u001b[38;5;124m\"\u001b[39m\u001b[38;5;124mnaina\u001b[39m\u001b[38;5;124m\"\u001b[39m]\n\u001b[1;32m----> 2\u001b[0m \u001b[38;5;28mprint\u001b[39m(ls\u001b[38;5;241m*\u001b[39m\u001b[38;5;241m*\u001b[39m\u001b[38;5;241m2\u001b[39m)\n",
      "\u001b[1;31mTypeError\u001b[0m: unsupported operand type(s) for ** or pow(): 'list' and 'int'"
     ]
    }
   ],
   "source": [
    "ls=[\"amit\",\"sumit\",\"naina\"]\n",
    "print(ls**2)"
   ]
  },
  {
   "cell_type": "code",
   "execution_count": 7,
   "id": "d5cd650d-cc4d-4797-8a6c-b7e214a95577",
   "metadata": {},
   "outputs": [
    {
     "name": "stdout",
     "output_type": "stream",
     "text": [
      "[0.0, 0.5, 1.0, 1.5]\n"
     ]
    }
   ],
   "source": [
    "ls=[0.5*x for x in range(4)]\n",
    "print(ls)"
   ]
  },
  {
   "cell_type": "code",
   "execution_count": 8,
   "id": "820c038c-7925-49aa-b251-004d66e66b9f",
   "metadata": {},
   "outputs": [
    {
     "name": "stdout",
     "output_type": "stream",
     "text": [
      "['', 'a', 'aa', 'aaa']\n"
     ]
    }
   ],
   "source": [
    "ls=['a'*x for x in range(4)]\n",
    "print(ls)"
   ]
  },
  {
   "cell_type": "code",
   "execution_count": 1,
   "id": "2ff4bbb1-2655-4596-9043-d4f5f76fc8b8",
   "metadata": {},
   "outputs": [
    {
     "name": "stdout",
     "output_type": "stream",
     "text": [
      "[20, 12, 4]\n"
     ]
    }
   ],
   "source": [
    "ls=[2*x for x in range(10,1,-4)]\n",
    "print(ls)"
   ]
  },
  {
   "cell_type": "code",
   "execution_count": 10,
   "id": "61e20a94-548f-4407-b4f2-9381d5684c3e",
   "metadata": {},
   "outputs": [
    {
     "name": "stdout",
     "output_type": "stream",
     "text": [
      "None\n"
     ]
    }
   ],
   "source": [
    "T=[1,2,3,4]\n",
    "T1=[5,6,7]\n",
    "L=T.append(T1)\n",
    "print(L)"
   ]
  },
  {
   "cell_type": "code",
   "execution_count": 11,
   "id": "6401304c-44c2-4009-bebc-125de01e93c5",
   "metadata": {},
   "outputs": [
    {
     "name": "stdout",
     "output_type": "stream",
     "text": [
      "[1, 2, 3, 4, [5, 6, 7]]\n"
     ]
    }
   ],
   "source": [
    "T=[1,2,3,4]\n",
    "T1=[5,6,7]\n",
    "T.append(T1)\n",
    "print(T)"
   ]
  },
  {
   "cell_type": "code",
   "execution_count": 12,
   "id": "24d74bf5-80f0-43d8-8bf1-2cf951b2aef1",
   "metadata": {},
   "outputs": [
    {
     "name": "stdout",
     "output_type": "stream",
     "text": [
      "23\n"
     ]
    }
   ],
   "source": [
    "L=[1,5,9]\n",
    "print(sum(L)+max(L)-min(L))"
   ]
  },
  {
   "cell_type": "code",
   "execution_count": 13,
   "id": "5d3178ea-0e3e-4e85-8993-f97faa1f5f42",
   "metadata": {},
   "outputs": [
    {
     "name": "stdout",
     "output_type": "stream",
     "text": [
      "5\n"
     ]
    }
   ],
   "source": [
    "L=[1,2,3,4,5,6,7,8,9,10]\n",
    "print(L[L[3]])"
   ]
  },
  {
   "cell_type": "code",
   "execution_count": 14,
   "id": "6300acd7-0303-4bb8-bff6-933ca9de4b17",
   "metadata": {},
   "outputs": [
    {
     "name": "stdout",
     "output_type": "stream",
     "text": [
      "10\n"
     ]
    }
   ],
   "source": [
    "L=[1,2,3,4,5,6,7,8,9,10]\n",
    "print(L[len(L)-1])"
   ]
  },
  {
   "cell_type": "code",
   "execution_count": 4,
   "id": "02fb208a-d08d-4cd2-b6d6-8af8208cee78",
   "metadata": {},
   "outputs": [
    {
     "name": "stdout",
     "output_type": "stream",
     "text": [
      "False\n"
     ]
    }
   ],
   "source": [
    "print(1 in[[1],2,3])"
   ]
  },
  {
   "cell_type": "code",
   "execution_count": 16,
   "id": "a7b677e0-f56f-42c6-ad77-6877d0bcf1c3",
   "metadata": {},
   "outputs": [
    {
     "name": "stdout",
     "output_type": "stream",
     "text": [
      "[]\n"
     ]
    }
   ],
   "source": [
    "print([]*2)"
   ]
  },
  {
   "cell_type": "code",
   "execution_count": 4,
   "id": "7c4ca03e-eee9-4f86-bb75-8177365c3a2b",
   "metadata": {},
   "outputs": [
    {
     "name": "stdout",
     "output_type": "stream",
     "text": [
      "t\n"
     ]
    }
   ],
   "source": [
    "L=[\"amit\",\"sumit\",\"ravi\"]\n",
    "print(L[1][4])"
   ]
  },
  {
   "cell_type": "code",
   "execution_count": 5,
   "id": "34858c02-1a8f-4c34-9201-ed068effe582",
   "metadata": {},
   "outputs": [
    {
     "name": "stdout",
     "output_type": "stream",
     "text": [
      "oman\n"
     ]
    }
   ],
   "source": [
    "ls=[\"oman\",\"maxy\",\"Joseph\"]\n",
    "print(max(ls))"
   ]
  },
  {
   "cell_type": "code",
   "execution_count": null,
   "id": "5b407158-c544-48fe-869e-2fe2bd42a960",
   "metadata": {},
   "outputs": [],
   "source": [
    "#LIST COMPREHENSION"
   ]
  },
  {
   "cell_type": "code",
   "execution_count": 1,
   "id": "637421e8-8291-4035-8f41-5c6074fba030",
   "metadata": {},
   "outputs": [
    {
     "data": {
      "text/plain": [
       "['W', 'E', 'L', 'C', 'O', 'M', 'E']"
      ]
     },
     "execution_count": 1,
     "metadata": {},
     "output_type": "execute_result"
    }
   ],
   "source": [
    "mystring=\"WELCOME\"\n",
    "mylist=[i for i in mystring]\n",
    "mylist"
   ]
  },
  {
   "cell_type": "code",
   "execution_count": 2,
   "id": "d2ca4de2-59ea-40a0-b5c0-4a73ad958df7",
   "metadata": {},
   "outputs": [
    {
     "data": {
      "text/plain": [
       "[0, 2, 4, 6, 8, 10, 12, 14, 16, 18, 20, 22, 24, 26, 28, 30, 32, 34, 36, 38]"
      ]
     },
     "execution_count": 2,
     "metadata": {},
     "output_type": "execute_result"
    }
   ],
   "source": [
    "mylist1=[i for i in range(40) if i % 2==0]\n",
    "mylist1"
   ]
  },
  {
   "cell_type": "code",
   "execution_count": 3,
   "id": "4cac9ca9-d859-4d94-bb9f-e6a9e769200a",
   "metadata": {},
   "outputs": [
    {
     "data": {
      "text/plain": [
       "[1, 3, 5, 7, 9, 11, 13, 15, 17, 19, 21, 23, 25, 27, 29, 31, 33, 35, 37, 39]"
      ]
     },
     "execution_count": 3,
     "metadata": {},
     "output_type": "execute_result"
    }
   ],
   "source": [
    "mylist2=[i for i in range(40) if i % 2==1]\n",
    "mylist2"
   ]
  },
  {
   "cell_type": "code",
   "execution_count": 4,
   "id": "e820a02d-3892-4abf-8fc5-e99055848147",
   "metadata": {},
   "outputs": [
    {
     "data": {
      "text/plain": [
       "[0, 1, 4, 9, 16, 25, 36, 49, 64, 81]"
      ]
     },
     "execution_count": 4,
     "metadata": {},
     "output_type": "execute_result"
    }
   ],
   "source": [
    "mylist3=[num**2 for num in range(10)]\n",
    "mylist3"
   ]
  },
  {
   "cell_type": "code",
   "execution_count": 5,
   "id": "fae20cd7-3669-4eb5-915f-ca5cff1f2195",
   "metadata": {},
   "outputs": [
    {
     "data": {
      "text/plain": [
       "['1', '2', '3', '4', '5', '6', '7', '8', '9']"
      ]
     },
     "execution_count": 5,
     "metadata": {},
     "output_type": "execute_result"
    }
   ],
   "source": [
    "#Extract numbers from a string\n",
    "mystr=\"One 1 two 2 three 3 four 4 five 5 six 6789\"\n",
    "numbers=[i for i in mystr if i.isdigit()]\n",
    "numbers"
   ]
  },
  {
   "cell_type": "code",
   "execution_count": 6,
   "id": "92a4424e-a35c-4fd3-9ccb-33ac9c0df26d",
   "metadata": {},
   "outputs": [
    {
     "data": {
      "text/plain": [
       "['O',\n",
       " 'n',\n",
       " 'e',\n",
       " 't',\n",
       " 'w',\n",
       " 'o',\n",
       " 't',\n",
       " 'h',\n",
       " 'r',\n",
       " 'e',\n",
       " 'e',\n",
       " 'f',\n",
       " 'o',\n",
       " 'u',\n",
       " 'r',\n",
       " 'f',\n",
       " 'i',\n",
       " 'v',\n",
       " 'e',\n",
       " 's',\n",
       " 'i',\n",
       " 'x']"
      ]
     },
     "execution_count": 6,
     "metadata": {},
     "output_type": "execute_result"
    }
   ],
   "source": [
    "mystr=\"One 1 two 2 three 3 four 4 five 5 six 6789\"\n",
    "numbers=[i for i in mystr if i.isalpha()]\n",
    "numbers"
   ]
  },
  {
   "cell_type": "code",
   "execution_count": null,
   "id": "85a42184-7cac-450f-9eb7-3ba078b0c4b1",
   "metadata": {},
   "outputs": [],
   "source": []
  }
 ],
 "metadata": {
  "kernelspec": {
   "display_name": "Python 3 (ipykernel)",
   "language": "python",
   "name": "python3"
  },
  "language_info": {
   "codemirror_mode": {
    "name": "ipython",
    "version": 3
   },
   "file_extension": ".py",
   "mimetype": "text/x-python",
   "name": "python",
   "nbconvert_exporter": "python",
   "pygments_lexer": "ipython3",
   "version": "3.11.7"
  }
 },
 "nbformat": 4,
 "nbformat_minor": 5
}
