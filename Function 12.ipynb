{
 "cells": [
  {
   "cell_type": "code",
   "execution_count": 1,
   "id": "032f0375-f3ab-4731-9436-86cc1831344c",
   "metadata": {},
   "outputs": [],
   "source": [
    "#Default\n",
    "def addition():\n",
    "    a=int(input(\"enter the number\"))\n",
    "    b=int(input(\"enter the number\"))\n",
    "    c=a+b\n",
    "    print(\"the sum is\",c)"
   ]
  },
  {
   "cell_type": "code",
   "execution_count": 3,
   "id": "61859e5d-31a3-40d3-abf7-07fe46d96b6e",
   "metadata": {},
   "outputs": [
    {
     "name": "stdin",
     "output_type": "stream",
     "text": [
      "enter the number 76\n",
      "enter the number 43\n"
     ]
    },
    {
     "name": "stdout",
     "output_type": "stream",
     "text": [
      "the sum is 119\n"
     ]
    },
    {
     "name": "stdin",
     "output_type": "stream",
     "text": [
      "enter the number 32\n",
      "enter the number 84\n"
     ]
    },
    {
     "name": "stdout",
     "output_type": "stream",
     "text": [
      "the sum is 116\n"
     ]
    }
   ],
   "source": [
    "addition()\n",
    "addition()"
   ]
  },
  {
   "cell_type": "code",
   "execution_count": 12,
   "id": "50d5b3a4-b378-47f7-8381-9b70e2f7f36c",
   "metadata": {},
   "outputs": [],
   "source": [
    "def intrest():\n",
    "    p=int(input(\"enter the number\"))\n",
    "    r=int(input(\"enter the number\"))\n",
    "    q=int(input(\"enter the number\"))\n",
    "    si=p*q*r/100\n",
    "    print(\"the intrest is;\",si)"
   ]
  },
  {
   "cell_type": "code",
   "execution_count": 13,
   "id": "adb6225a-510f-4830-b573-d7a4c6558866",
   "metadata": {},
   "outputs": [
    {
     "name": "stdin",
     "output_type": "stream",
     "text": [
      "enter the number 2000\n",
      "enter the number 12\n",
      "enter the number 23\n"
     ]
    },
    {
     "name": "stdout",
     "output_type": "stream",
     "text": [
      "the intrest is; 5520.0\n"
     ]
    }
   ],
   "source": [
    "intrest()"
   ]
  },
  {
   "cell_type": "code",
   "execution_count": 14,
   "id": "04ea00ea-5811-4836-a34a-b43fd1a8b3fd",
   "metadata": {},
   "outputs": [],
   "source": [
    "def even_odd():\n",
    "    n=int(input(\"enter the number\"))\n",
    "    if n%2==0:\n",
    "        print(\"even number\")\n",
    "    else:\n",
    "        print(\"odd number\")\n"
   ]
  },
  {
   "cell_type": "code",
   "execution_count": 15,
   "id": "c186ff92-7fd9-446b-bb78-ab3483b7634d",
   "metadata": {},
   "outputs": [
    {
     "name": "stdin",
     "output_type": "stream",
     "text": [
      "enter the number 56\n"
     ]
    },
    {
     "name": "stdout",
     "output_type": "stream",
     "text": [
      "even number\n"
     ]
    }
   ],
   "source": [
    "even_odd()"
   ]
  },
  {
   "cell_type": "code",
   "execution_count": 16,
   "id": "b6ccc578-edf5-414a-9ae6-99f9a184756f",
   "metadata": {},
   "outputs": [],
   "source": [
    "def vote_eligible():\n",
    "    age=int(input(\"enter the age\"))\n",
    "    if age>=18:\n",
    "        print(\"eligible to vote\")\n",
    "    else:\n",
    "        print(\"not eligible to vote\")\n",
    "    "
   ]
  },
  {
   "cell_type": "code",
   "execution_count": 17,
   "id": "f4d1f541-46d7-4993-b44c-a40963296915",
   "metadata": {},
   "outputs": [
    {
     "name": "stdin",
     "output_type": "stream",
     "text": [
      "enter the age 25\n"
     ]
    },
    {
     "name": "stdout",
     "output_type": "stream",
     "text": [
      "eligible to vote\n"
     ]
    }
   ],
   "source": [
    "vote_eligible()"
   ]
  },
  {
   "cell_type": "code",
   "execution_count": 25,
   "id": "c95e0292-9929-49cb-beb9-a67177f5ee31",
   "metadata": {},
   "outputs": [],
   "source": [
    "def vowel():\n",
    "    ch=input(\"enter the character\")\n",
    "    if ch=='a' or ch=='e' or ch=='i' or ch=='o' or ch=='u':\n",
    "        print(\"vowel\")\n",
    "    elif ch=='A' or ch=='E'or ch=='I'or ch=='O'or ch=='U': \n",
    "        print(\"vowel\")\n",
    "    else:\n",
    "        print('consonent')\n",
    "\n",
    "\n"
   ]
  },
  {
   "cell_type": "code",
   "execution_count": 28,
   "id": "36729a4b-3ffe-4008-88ab-8e63cceb85bf",
   "metadata": {},
   "outputs": [
    {
     "name": "stdin",
     "output_type": "stream",
     "text": [
      "enter the character u\n"
     ]
    },
    {
     "name": "stdout",
     "output_type": "stream",
     "text": [
      "vowel\n"
     ]
    },
    {
     "name": "stdin",
     "output_type": "stream",
     "text": [
      "enter the character w\n"
     ]
    },
    {
     "name": "stdout",
     "output_type": "stream",
     "text": [
      "consonent\n"
     ]
    }
   ],
   "source": [
    "vowel()\n",
    "vowel()"
   ]
  },
  {
   "cell_type": "code",
   "execution_count": 31,
   "id": "747e5941-c28f-4fef-bad1-98b3003280b9",
   "metadata": {},
   "outputs": [],
   "source": [
    "def factorial():\n",
    "    n=int(input(\"enter the number\"))\n",
    "    f=1\n",
    "    while n>0:\n",
    "        f=f*n\n",
    "        n=n-1\n",
    "    print(\"the factorial is\",f)\n",
    "    "
   ]
  },
  {
   "cell_type": "code",
   "execution_count": 32,
   "id": "3a84968d-4a5c-488a-9cbc-be18bf9733d0",
   "metadata": {},
   "outputs": [
    {
     "name": "stdin",
     "output_type": "stream",
     "text": [
      "enter the number 9\n"
     ]
    },
    {
     "name": "stdout",
     "output_type": "stream",
     "text": [
      "the factorial is 362880\n"
     ]
    }
   ],
   "source": [
    "factorial()"
   ]
  },
  {
   "cell_type": "code",
   "execution_count": 33,
   "id": "3b8bbe9b-2aa0-4571-be95-736edb49c8a3",
   "metadata": {},
   "outputs": [],
   "source": [
    "def prime_number():\n",
    "    i=1\n",
    "    n=int(input(\"enter the number\"))\n",
    "    co=0\n",
    "    while i<=n:\n",
    "        if n%i==0:\n",
    "            co=co+1\n",
    "        i=i+1\n",
    "    if co==2:\n",
    "        print(\"prime number\")\n",
    "    else:\n",
    "        print(\"not prime number\")\n",
    "            "
   ]
  },
  {
   "cell_type": "code",
   "execution_count": 34,
   "id": "a1def76f-f93a-4fa8-a76c-df63a9c697f2",
   "metadata": {},
   "outputs": [
    {
     "name": "stdin",
     "output_type": "stream",
     "text": [
      "enter the number 77\n"
     ]
    },
    {
     "name": "stdout",
     "output_type": "stream",
     "text": [
      "not prime number\n"
     ]
    }
   ],
   "source": [
    "prime_number()"
   ]
  },
  {
   "cell_type": "code",
   "execution_count": 41,
   "id": "f33ad94f-7877-4f09-8b06-013f683b0f18",
   "metadata": {},
   "outputs": [],
   "source": [
    "def list():\n",
    "    ls=[]\n",
    "    for i in range(10):\n",
    "        n=int(input(\"enter the number\"))\n",
    "        ls.append(n)\n",
    "    print(ls)\n",
    "        \n",
    "        "
   ]
  },
  {
   "cell_type": "code",
   "execution_count": 42,
   "id": "f9a56238-c27a-44df-a785-9243af73fb1e",
   "metadata": {},
   "outputs": [
    {
     "name": "stdin",
     "output_type": "stream",
     "text": [
      "enter the number 78\n",
      "enter the number 43\n",
      "enter the number 9\n",
      "enter the number 6\n",
      "enter the number 34\n",
      "enter the number 21\n",
      "enter the number 56\n",
      "enter the number 87\n",
      "enter the number 91\n",
      "enter the number 12\n"
     ]
    },
    {
     "name": "stdout",
     "output_type": "stream",
     "text": [
      "[78, 43, 9, 6, 34, 21, 56, 87, 91, 12]\n"
     ]
    }
   ],
   "source": [
    "list()"
   ]
  },
  {
   "cell_type": "code",
   "execution_count": 43,
   "id": "477888e6-d45c-4463-b75d-1602834ee966",
   "metadata": {},
   "outputs": [],
   "source": [
    "#argument\n",
    "def add(a,b):\n",
    "    c=a+b\n",
    "    print(\"the sum is\",c)"
   ]
  },
  {
   "cell_type": "code",
   "execution_count": 44,
   "id": "8eb202b2-6fcd-49d4-ba98-37c6a011f32b",
   "metadata": {},
   "outputs": [
    {
     "name": "stdout",
     "output_type": "stream",
     "text": [
      "the sum is 89\n"
     ]
    }
   ],
   "source": [
    "add(24,65)"
   ]
  },
  {
   "cell_type": "code",
   "execution_count": 45,
   "id": "12476c1d-ebd5-41bb-8cba-21b88e384486",
   "metadata": {},
   "outputs": [
    {
     "name": "stdin",
     "output_type": "stream",
     "text": [
      "enter the number 65\n",
      "enter the number 69\n"
     ]
    },
    {
     "name": "stdout",
     "output_type": "stream",
     "text": [
      "the sum is 134\n"
     ]
    }
   ],
   "source": [
    "x=int(input(\"enter the number\"))\n",
    "y=int(input(\"enter the number\"))\n",
    "add(x,y)"
   ]
  },
  {
   "cell_type": "code",
   "execution_count": 46,
   "id": "0571be23-6bdf-49c8-ab03-7e1f13101f6f",
   "metadata": {},
   "outputs": [],
   "source": [
    "def intrest(p,q,r):\n",
    "    si=p*q*r/100\n",
    "    print(\"the intrest is\",si)\n",
    "    "
   ]
  },
  {
   "cell_type": "code",
   "execution_count": 48,
   "id": "03cfa323-745d-47ff-9ea1-8129a95d8d18",
   "metadata": {},
   "outputs": [
    {
     "name": "stdout",
     "output_type": "stream",
     "text": [
      "the intrest is 630.0\n"
     ]
    }
   ],
   "source": [
    "intrest(200,45,7)"
   ]
  },
  {
   "cell_type": "code",
   "execution_count": 49,
   "id": "e35fc3db-51b1-4359-8bc5-6dab5aea34c8",
   "metadata": {},
   "outputs": [
    {
     "name": "stdin",
     "output_type": "stream",
     "text": [
      "enter the number 2000\n",
      "enter the number 12\n",
      "enter the number 5\n"
     ]
    },
    {
     "name": "stdout",
     "output_type": "stream",
     "text": [
      "the intrest is 1200.0\n"
     ]
    }
   ],
   "source": [
    "p=int(input('enter the number'))\n",
    "q=int(input('enter the number'))\n",
    "r=int(input('enter the number'))\n",
    "intrest(p,q,r)\n"
   ]
  },
  {
   "cell_type": "code",
   "execution_count": 1,
   "id": "0b073ffa-5a61-4204-8284-06a69b80a416",
   "metadata": {},
   "outputs": [],
   "source": [
    "def factors():\n",
    "    i=1\n",
    "    n=int(input(\"enter the number\"))\n",
    "    while i<=n:\n",
    "        if n%i==0:\n",
    "            print(\"the factors are\",i)\n",
    "        i=i+1\n",
    "    \n",
    "    "
   ]
  },
  {
   "cell_type": "code",
   "execution_count": 2,
   "id": "e7de4050-200b-43e2-95eb-3b968f60fc30",
   "metadata": {},
   "outputs": [
    {
     "name": "stdin",
     "output_type": "stream",
     "text": [
      "enter the number 18\n"
     ]
    },
    {
     "name": "stdout",
     "output_type": "stream",
     "text": [
      "the factors are 1\n",
      "the factors are 2\n",
      "the factors are 3\n",
      "the factors are 6\n",
      "the factors are 9\n",
      "the factors are 18\n"
     ]
    }
   ],
   "source": [
    "factors()"
   ]
  },
  {
   "cell_type": "code",
   "execution_count": 18,
   "id": "5840bc92-d6cf-4db4-b336-9a2e65a01c28",
   "metadata": {},
   "outputs": [],
   "source": [
    "def factors(n):\n",
    "    i=1\n",
    "    while i<=n:\n",
    "        if n%i==0:\n",
    "            print(\"the factors are\",i)\n",
    "        i=i+1"
   ]
  },
  {
   "cell_type": "code",
   "execution_count": 20,
   "id": "4d670a00-5e39-45bd-891c-d46c6a48940a",
   "metadata": {},
   "outputs": [
    {
     "name": "stdin",
     "output_type": "stream",
     "text": [
      "enter the number 10\n"
     ]
    },
    {
     "name": "stdout",
     "output_type": "stream",
     "text": [
      "the factors are 1\n",
      "the factors are 2\n",
      "the factors are 5\n",
      "the factors are 10\n"
     ]
    }
   ],
   "source": [
    "x=int(input(\"enter the number\"))\n",
    "factors(x)"
   ]
  },
  {
   "cell_type": "code",
   "execution_count": 26,
   "id": "211064ed-754d-4c14-a613-a4fcc86ff8ac",
   "metadata": {},
   "outputs": [],
   "source": [
    "def prime_number(n):\n",
    "    i=1\n",
    "    co=0\n",
    "    while i<=n:\n",
    "        if n%i==0:\n",
    "            co=co+1\n",
    "        i=i+1\n",
    "    if co==2:\n",
    "        print(\"prime number\")\n",
    "    else:\n",
    "        print(\"not a prime number\")"
   ]
  },
  {
   "cell_type": "code",
   "execution_count": 27,
   "id": "62394035-2295-4ef9-86cb-a74b1d6fe7ff",
   "metadata": {},
   "outputs": [
    {
     "name": "stdin",
     "output_type": "stream",
     "text": [
      "enter the number 17\n"
     ]
    },
    {
     "name": "stdout",
     "output_type": "stream",
     "text": [
      "prime number\n"
     ]
    }
   ],
   "source": [
    "x=int(input(\"enter the number\"))\n",
    "prime_number(x)"
   ]
  },
  {
   "cell_type": "code",
   "execution_count": 30,
   "id": "41bddc25-64be-4eb9-899e-f3886e6951d0",
   "metadata": {},
   "outputs": [],
   "source": [
    "def table(n):\n",
    "    i=1\n",
    "    while i<=10:\n",
    "        f=n*i\n",
    "        print(\"the table is\",f)\n",
    "        i=i+1\n",
    "    "
   ]
  },
  {
   "cell_type": "code",
   "execution_count": 31,
   "id": "b705cc42-b381-48be-80da-9e6d86a5b4ad",
   "metadata": {},
   "outputs": [
    {
     "name": "stdin",
     "output_type": "stream",
     "text": [
      "enter the number 15\n"
     ]
    },
    {
     "name": "stdout",
     "output_type": "stream",
     "text": [
      "the table is 15\n",
      "the table is 30\n",
      "the table is 45\n",
      "the table is 60\n",
      "the table is 75\n",
      "the table is 90\n",
      "the table is 105\n",
      "the table is 120\n",
      "the table is 135\n",
      "the table is 150\n"
     ]
    }
   ],
   "source": [
    "x=int(input(\"enter the number\"))\n",
    "table(x)"
   ]
  },
  {
   "cell_type": "code",
   "execution_count": 32,
   "id": "6cea5c4c-d8c7-4719-a1e2-5ee3542b9cb5",
   "metadata": {},
   "outputs": [],
   "source": [
    "def sum_of_digit(n):\n",
    "    s=0\n",
    "    while n>0:\n",
    "        rem=n%10\n",
    "        s=s+rem\n",
    "        n=n//10\n",
    "    print(\"the sum of digit\",s)\n"
   ]
  },
  {
   "cell_type": "code",
   "execution_count": 33,
   "id": "309db667-caba-4fde-80c2-e88267c6d857",
   "metadata": {},
   "outputs": [
    {
     "name": "stdin",
     "output_type": "stream",
     "text": [
      "enter the number 625\n"
     ]
    },
    {
     "name": "stdout",
     "output_type": "stream",
     "text": [
      "the sum of digit 13\n"
     ]
    }
   ],
   "source": [
    "x=int(input(\"enter the number\"))\n",
    "sum_of_digit(x)"
   ]
  },
  {
   "cell_type": "code",
   "execution_count": 40,
   "id": "5daf6d03-5322-4340-9820-ec5e363c0f45",
   "metadata": {},
   "outputs": [],
   "source": [
    "def sum_of_digit():\n",
    "    n=int(input(\"enter the number\"))\n",
    "    s=0\n",
    "    while n>0:\n",
    "        rem=n%10\n",
    "        s=s+rem\n",
    "        n=n//10\n",
    "    print(\"the sum of digit\",s)\n"
   ]
  },
  {
   "cell_type": "code",
   "execution_count": 45,
   "id": "587d344e-c044-4768-99ee-f91587732166",
   "metadata": {},
   "outputs": [
    {
     "name": "stdin",
     "output_type": "stream",
     "text": [
      "enter the number 3737\n"
     ]
    },
    {
     "name": "stdout",
     "output_type": "stream",
     "text": [
      "the sum of digit 20\n"
     ]
    }
   ],
   "source": [
    "sum_of_digit()"
   ]
  },
  {
   "cell_type": "code",
   "execution_count": 46,
   "id": "e32d9658-77b1-469a-94cc-cb33bbb04f39",
   "metadata": {},
   "outputs": [],
   "source": [
    "def reverse():\n",
    "    n=int(input(\"enter the number\"))\n",
    "    rev=0\n",
    "    while n>0:\n",
    "        rem=n%10\n",
    "        rev=rev*10+rem\n",
    "        n=n//10\n",
    "    print(\"the reverse of number is\",rev)"
   ]
  },
  {
   "cell_type": "code",
   "execution_count": 47,
   "id": "8cc68298-3fc8-42f8-a386-1708146efc91",
   "metadata": {},
   "outputs": [
    {
     "name": "stdin",
     "output_type": "stream",
     "text": [
      "enter the number 37035\n"
     ]
    },
    {
     "name": "stdout",
     "output_type": "stream",
     "text": [
      "the reverse of number is 53073\n"
     ]
    }
   ],
   "source": [
    "reverse()"
   ]
  },
  {
   "cell_type": "code",
   "execution_count": 52,
   "id": "2e34ef07-7190-4b36-bd74-645a0deef3e3",
   "metadata": {},
   "outputs": [],
   "source": [
    "def reverse(n):\n",
    "    rev=0\n",
    "    while n>0:\n",
    "        rem=n%10\n",
    "        rev=rev*10+rem\n",
    "        n=n//10\n",
    "    print(\"the reverse of number is\",rev)"
   ]
  },
  {
   "cell_type": "code",
   "execution_count": 53,
   "id": "2ace0db3-b8df-4940-93bf-ea451bd4b80a",
   "metadata": {},
   "outputs": [
    {
     "name": "stdin",
     "output_type": "stream",
     "text": [
      "enter the number 654\n"
     ]
    },
    {
     "name": "stdout",
     "output_type": "stream",
     "text": [
      "the reverse of number is 456\n"
     ]
    }
   ],
   "source": [
    "x=int(input(\"enter the number\"))\n",
    "reverse(x)"
   ]
  },
  {
   "cell_type": "code",
   "execution_count": 54,
   "id": "9f597956-97b0-4a68-b397-fbf8e8e677ee",
   "metadata": {},
   "outputs": [],
   "source": [
    "def pallendrome():\n",
    "    n=int(input(\"enter the number\"))\n",
    "    rev=0\n",
    "    n1=n\n",
    "    while n>0:\n",
    "        rem=n%10\n",
    "        rev=rev*10+rem\n",
    "        n=n//10\n",
    "    if n1==rev:\n",
    "        print(\"pallendrome\")\n",
    "    else:\n",
    "        print(\"Not a pallendrome\")"
   ]
  },
  {
   "cell_type": "code",
   "execution_count": 56,
   "id": "9eeec125-6962-4f43-999b-89d70ba4b1cb",
   "metadata": {},
   "outputs": [
    {
     "name": "stdin",
     "output_type": "stream",
     "text": [
      "enter the number 737\n"
     ]
    },
    {
     "name": "stdout",
     "output_type": "stream",
     "text": [
      "pallendrome\n"
     ]
    }
   ],
   "source": [
    "pallendrome()"
   ]
  },
  {
   "cell_type": "code",
   "execution_count": 57,
   "id": "861d0533-67c8-4559-8ec5-bec8b1047c67",
   "metadata": {},
   "outputs": [],
   "source": [
    "def pallendrome(n):\n",
    "    rev=0\n",
    "    n1=n\n",
    "    while n>0:\n",
    "        rem=n%10\n",
    "        rev=rev*10+rem\n",
    "        n=n//10\n",
    "    if n1==rev:\n",
    "        print(\"pallendrome\")\n",
    "    else:\n",
    "        print(\"Not a pallendrome\")"
   ]
  },
  {
   "cell_type": "code",
   "execution_count": 58,
   "id": "b326cd2d-ed92-44a0-ba86-c31ed6701e08",
   "metadata": {},
   "outputs": [
    {
     "name": "stdin",
     "output_type": "stream",
     "text": [
      "enter the number 111\n"
     ]
    },
    {
     "name": "stdout",
     "output_type": "stream",
     "text": [
      "pallendrome\n"
     ]
    }
   ],
   "source": [
    "x=int(input(\"enter the number\"))\n",
    "pallendrome(x)"
   ]
  },
  {
   "cell_type": "code",
   "execution_count": 61,
   "id": "66f41c8d-291a-41f3-a3a3-2889f3675e66",
   "metadata": {},
   "outputs": [
    {
     "name": "stdout",
     "output_type": "stream",
     "text": [
      "35\n",
      "35\n"
     ]
    }
   ],
   "source": [
    "#Return type\n",
    "def sum(a,b):\n",
    "    return a+b\n",
    "c=sum(12,23)\n",
    "print(c)\n",
    "print(sum(12,23))"
   ]
  },
  {
   "cell_type": "code",
   "execution_count": 64,
   "id": "529f191b-372b-4ddd-b520-4861f427034a",
   "metadata": {},
   "outputs": [
    {
     "name": "stdout",
     "output_type": "stream",
     "text": [
      "(68, 22, 1035, 1.9565217391304348)\n"
     ]
    }
   ],
   "source": [
    "def mathop(a,b):\n",
    "    return a+b,a-b,a*b,a/b\n",
    "x=mathop(45,23)\n",
    "print(x)"
   ]
  },
  {
   "cell_type": "code",
   "execution_count": 65,
   "id": "7839ef10-53bc-4054-9d74-c1d6f068fbf1",
   "metadata": {},
   "outputs": [
    {
     "name": "stdout",
     "output_type": "stream",
     "text": [
      "sum 68\n",
      "sub 22\n",
      "mul 1035\n",
      "div 1.9565217391304348\n"
     ]
    }
   ],
   "source": [
    "x,y,z,w=mathop(45,23)\n",
    "print(\"sum\",x)\n",
    "print(\"sub\",y)\n",
    "print(\"mul\",z)\n",
    "print(\"div\",w)\n"
   ]
  },
  {
   "cell_type": "code",
   "execution_count": 66,
   "id": "db17f617-9ed1-4f77-9e92-d7558fa9f610",
   "metadata": {},
   "outputs": [
    {
     "name": "stdout",
     "output_type": "stream",
     "text": [
      "odd\n"
     ]
    }
   ],
   "source": [
    "def even_odd(n):\n",
    "    return n%2\n",
    "x=even_odd(23)\n",
    "if x==0:\n",
    "    print(\"Even\")\n",
    "else:\n",
    "    print(\"odd\")"
   ]
  },
  {
   "cell_type": "code",
   "execution_count": 67,
   "id": "2882842d-5af3-4395-818b-c95c30939c12",
   "metadata": {},
   "outputs": [
    {
     "name": "stdout",
     "output_type": "stream",
     "text": [
      "even\n",
      "odd\n"
     ]
    }
   ],
   "source": [
    "def even_odd(n):\n",
    "    if n%2==0:\n",
    "        return \"even\"\n",
    "    else:\n",
    "        return \"odd\"\n",
    "print(even_odd(78))\n",
    "print(even_odd(75))"
   ]
  },
  {
   "cell_type": "code",
   "execution_count": 78,
   "id": "d923542d-0e14-48a9-94e4-bfae53371a45",
   "metadata": {},
   "outputs": [],
   "source": [
    "def factorial(n):\n",
    "    f=1\n",
    "    while n>0:\n",
    "        f=f*n\n",
    "        n=n-1\n",
    "    return f"
   ]
  },
  {
   "cell_type": "code",
   "execution_count": 77,
   "id": "857b0b40-d71b-46b6-bb11-5b84ad5dcc34",
   "metadata": {},
   "outputs": [
    {
     "name": "stdout",
     "output_type": "stream",
     "text": [
      "720\n"
     ]
    }
   ],
   "source": [
    "x=factorial(6)\n",
    "print(x)"
   ]
  },
  {
   "cell_type": "code",
   "execution_count": 79,
   "id": "951dda37-4600-451f-bd2d-acfaa05c6d63",
   "metadata": {},
   "outputs": [
    {
     "name": "stdout",
     "output_type": "stream",
     "text": [
      "40320\n"
     ]
    }
   ],
   "source": [
    "print(factorial(8))"
   ]
  },
  {
   "cell_type": "code",
   "execution_count": 80,
   "id": "49fc69cb-b937-43de-8c5f-f873c6a7b129",
   "metadata": {},
   "outputs": [],
   "source": [
    "def prime(n):\n",
    "    i=1\n",
    "    co=0\n",
    "    while i<=n:\n",
    "        if n%i==0:\n",
    "            co=co+1\n",
    "        i=i+1\n",
    "    if co==2:\n",
    "        return \"prime\"\n",
    "    else:\n",
    "        return \"not a prime\""
   ]
  },
  {
   "cell_type": "code",
   "execution_count": 81,
   "id": "58a9be84-4f4a-4b25-acec-5cb7c6f70d2b",
   "metadata": {},
   "outputs": [
    {
     "name": "stdout",
     "output_type": "stream",
     "text": [
      "prime\n"
     ]
    }
   ],
   "source": [
    "x=prime(17)\n",
    "print(x)"
   ]
  },
  {
   "cell_type": "code",
   "execution_count": 82,
   "id": "5a9498d2-6e96-40a4-a85d-2a30aede05c8",
   "metadata": {},
   "outputs": [
    {
     "name": "stdout",
     "output_type": "stream",
     "text": [
      "160\n",
      "233\n",
      "623\n",
      "167\n"
     ]
    }
   ],
   "source": [
    "#placeholder argument\n",
    "def add(a,b=80,c=45,d=23):\n",
    "    return a+b+c+d\n",
    "print(add(12))\n",
    "print(add(87,78))\n",
    "print(add(100,200,300))\n",
    "print(add(12,34,54,67))"
   ]
  },
  {
   "cell_type": "code",
   "execution_count": 83,
   "id": "590d6046-595c-4ca4-bb6a-8600dbe8d446",
   "metadata": {},
   "outputs": [
    {
     "name": "stdout",
     "output_type": "stream",
     "text": [
      "1960.0\n",
      "2100.0\n",
      "11760.0\n"
     ]
    }
   ],
   "source": [
    "def interest(p=12000,r=5.6,t=7):\n",
    "    return p*r*t/100\n",
    "print(interest(5000))\n",
    "print(interest(6000,5))\n",
    "print(interest(56000,3,7))"
   ]
  },
  {
   "cell_type": "code",
   "execution_count": 1,
   "id": "0f80fd6e-ca4a-48a6-80a1-9d33f6b88cd9",
   "metadata": {},
   "outputs": [
    {
     "name": "stdout",
     "output_type": "stream",
     "text": [
      "765\n"
     ]
    }
   ],
   "source": [
    "def reverse(n):\n",
    "    rev=0\n",
    "    while n>0:\n",
    "        rem=n%10\n",
    "        rev=rev*10+rem\n",
    "        n=n//10\n",
    "    return rev\n",
    "x=reverse(567)\n",
    "print(x)\n"
   ]
  },
  {
   "cell_type": "code",
   "execution_count": 5,
   "id": "ff736574-a2d9-4fb9-8e3a-bd8a27cf5535",
   "metadata": {},
   "outputs": [
    {
     "name": "stdout",
     "output_type": "stream",
     "text": [
      "pallendrom\n"
     ]
    }
   ],
   "source": [
    "def pallendrome(n):\n",
    "    rev=0\n",
    "    n1=n\n",
    "    while n>0:\n",
    "        rem=n%10\n",
    "        rev=rev*10+rem\n",
    "        n=n//10\n",
    "    if n1==rev:\n",
    "        return \"pallendrom\"\n",
    "    else:\n",
    "        return \"not a pallendrome\"\n",
    "print(pallendrome(737))"
   ]
  },
  {
   "cell_type": "code",
   "execution_count": 6,
   "id": "d8bf130f-28ed-485d-b692-c64ee4e198bb",
   "metadata": {},
   "outputs": [
    {
     "name": "stdout",
     "output_type": "stream",
     "text": [
      "[15, 30, 45, 60, 75, 90, 105, 120, 135, 150]\n"
     ]
    }
   ],
   "source": [
    "def table(n):\n",
    "    tb=[]\n",
    "    for i in range(1,11):\n",
    "        result=n*i\n",
    "        tb.append(n*i)\n",
    "    return tb\n",
    "x=table(15)\n",
    "print(x)\n"
   ]
  },
  {
   "cell_type": "code",
   "execution_count": 4,
   "id": "3c6815ba-8113-4ef0-9fe5-30fb49fd5e9b",
   "metadata": {},
   "outputs": [
    {
     "name": "stdout",
     "output_type": "stream",
     "text": [
      "[1, 5, 25]\n"
     ]
    }
   ],
   "source": [
    "def factors(n):\n",
    "    f=[]\n",
    "    for i in range(1,n+1):\n",
    "        if n%i==0:\n",
    "            f.append(i)\n",
    "    return f\n",
    "y=factors(25)\n",
    "print(y)"
   ]
  },
  {
   "cell_type": "code",
   "execution_count": 6,
   "id": "a37cab14-8929-450a-8d94-98ee0b2ed035",
   "metadata": {},
   "outputs": [
    {
     "name": "stdin",
     "output_type": "stream",
     "text": [
      "enter the number 6\n",
      "enter the number 5\n",
      "enter the number 3\n",
      "enter the number 8\n",
      "enter the number 9\n",
      "enter the number 1\n",
      "enter the number 9\n",
      "enter the number 3\n",
      "enter the number 8\n",
      "enter the number 3\n"
     ]
    },
    {
     "name": "stdout",
     "output_type": "stream",
     "text": [
      "[6, 5, 3, 8, 9, 1, 9, 3, 8, 3]\n"
     ]
    }
   ],
   "source": [
    "def list1():\n",
    "    ls=[]\n",
    "    for i in range(10):\n",
    "        n=int(input(\"enter the number\"))\n",
    "        ls.append(n)\n",
    "    return ls\n",
    "x=list1()\n",
    "print(x)"
   ]
  },
  {
   "cell_type": "code",
   "execution_count": 9,
   "id": "12c5b126-ab83-4de2-852b-bcbe75af50b3",
   "metadata": {},
   "outputs": [
    {
     "name": "stdin",
     "output_type": "stream",
     "text": [
      "enter the number 76\n",
      "enter the number 89\n",
      "enter the number 53\n",
      "enter the number 23\n",
      "enter the number 13\n",
      "enter the number 89\n",
      "enter the number 60\n",
      "enter the number 43\n",
      "enter the number 14\n",
      "enter the number 10\n"
     ]
    },
    {
     "name": "stdout",
     "output_type": "stream",
     "text": [
      "([89, 53, 23, 13, 89, 43], [76, 60, 14, 10])\n"
     ]
    }
   ],
   "source": [
    "def list1():\n",
    "    ls=[]\n",
    "    for i in range(10):\n",
    "        n=int(input(\"enter the number\"))\n",
    "        ls.append(n)\n",
    "    \n",
    "    ls_e=[]\n",
    "    ls_o=[]\n",
    "    for i in ls:\n",
    "        if i%2==0:\n",
    "            ls_e.append(i)\n",
    "        \n",
    "        else:\n",
    "            ls_o.append(i)\n",
    "    return ls_o,ls_e\n",
    "    \n",
    "x=list1()\n",
    "print(x)"
   ]
  },
  {
   "cell_type": "code",
   "execution_count": 4,
   "id": "4b0f553a-6fd9-4e31-9fc6-8e9065db0310",
   "metadata": {},
   "outputs": [
    {
     "data": {
      "text/plain": [
       "[(0, 'P'), (1, 'Y'), (2, 'T'), (3, 'H'), (4, 'O'), (5, 'N')]"
      ]
     },
     "execution_count": 4,
     "metadata": {},
     "output_type": "execute_result"
    }
   ],
   "source": [
    "#enumerate\n",
    "s1=\"PYTHON\"\n",
    "list(enumerate(s1))"
   ]
  },
  {
   "cell_type": "code",
   "execution_count": 5,
   "id": "c3c0de27-ce23-4474-b3b3-f9588d5e6aed",
   "metadata": {},
   "outputs": [
    {
     "data": {
      "text/plain": [
       "[(5, 'P'), (6, 'Y'), (7, 'T'), (8, 'H'), (9, 'O'), (10, 'N')]"
      ]
     },
     "execution_count": 5,
     "metadata": {},
     "output_type": "execute_result"
    }
   ],
   "source": [
    "s1=\"PYTHON\"\n",
    "list(enumerate(s1,5))"
   ]
  },
  {
   "cell_type": "code",
   "execution_count": 6,
   "id": "25e2fd71-6e2c-40f5-aa70-8b460fdc7bd8",
   "metadata": {},
   "outputs": [
    {
     "data": {
      "text/plain": [
       "[(5, 'P'), (6, 'Y'), (7, 'T'), (8, 'H'), (9, 'O'), (10, 'N')]"
      ]
     },
     "execution_count": 6,
     "metadata": {},
     "output_type": "execute_result"
    }
   ],
   "source": [
    "s1=\"PYTHON\"\n",
    "list(enumerate(s1,start=5))"
   ]
  },
  {
   "cell_type": "code",
   "execution_count": 9,
   "id": "e41d6e20-3228-47c7-9d13-27a167641643",
   "metadata": {},
   "outputs": [
    {
     "data": {
      "text/plain": [
       "[(0, 'DL'), (1, 'ML'), (2, 'NLP')]"
      ]
     },
     "execution_count": 9,
     "metadata": {},
     "output_type": "execute_result"
    }
   ],
   "source": [
    "l1=[\"DL\",\"ML\",\"NLP\"]\n",
    "list(enumerate(l1))"
   ]
  },
  {
   "cell_type": "code",
   "execution_count": 10,
   "id": "fb48830c-c605-46d7-97af-839884f987e3",
   "metadata": {},
   "outputs": [
    {
     "name": "stdout",
     "output_type": "stream",
     "text": [
      "DL 0\n",
      "ML 1\n"
     ]
    }
   ],
   "source": [
    "for i,j in enumerate(l1):\n",
    "    if i<2:\n",
    "        print(j,i)"
   ]
  },
  {
   "cell_type": "code",
   "execution_count": 12,
   "id": "cacfa622-ab1c-4073-b41a-800f463047e1",
   "metadata": {},
   "outputs": [],
   "source": [
    "#Zip function\n",
    "a=[\"john\",\"peter\",\"Nishant\"]\n",
    "b=[\"jenny\",\"ashwin\"]"
   ]
  },
  {
   "cell_type": "code",
   "execution_count": 13,
   "id": "d2d0dc52-0b60-4ae8-b31b-77743cf54e4a",
   "metadata": {},
   "outputs": [
    {
     "data": {
      "text/plain": [
       "[('john', 'jenny'), ('peter', 'ashwin')]"
      ]
     },
     "execution_count": 13,
     "metadata": {},
     "output_type": "execute_result"
    }
   ],
   "source": [
    "list(zip(a,b))"
   ]
  },
  {
   "cell_type": "code",
   "execution_count": 14,
   "id": "33244281-d111-4206-b6b4-4e2a46cb5f66",
   "metadata": {},
   "outputs": [],
   "source": [
    "a=\"Bhushan\"\n",
    "b=\"hssbmmfetqi\""
   ]
  },
  {
   "cell_type": "code",
   "execution_count": 18,
   "id": "72dc22e5-fa8e-4095-a439-58ea772d03fa",
   "metadata": {},
   "outputs": [
    {
     "data": {
      "text/plain": [
       "[('h', 'B'),\n",
       " ('s', 'h'),\n",
       " ('s', 'u'),\n",
       " ('b', 's'),\n",
       " ('m', 'h'),\n",
       " ('m', 'a'),\n",
       " ('f', 'n')]"
      ]
     },
     "execution_count": 18,
     "metadata": {},
     "output_type": "execute_result"
    }
   ],
   "source": [
    "list(zip(b,a,))"
   ]
  },
  {
   "cell_type": "code",
   "execution_count": 2,
   "id": "33cae3ba-40e6-4540-90f8-248adc747392",
   "metadata": {},
   "outputs": [
    {
     "data": {
      "text/plain": [
       "{(1, 'one'), (2, 'two'), (3, 'three')}"
      ]
     },
     "execution_count": 2,
     "metadata": {},
     "output_type": "execute_result"
    }
   ],
   "source": [
    "number_list=[1,2,3,3]\n",
    "str_list=['one','two','three','three']\n",
    "result=zip(number_list,str_list)\n",
    "\n",
    "\n",
    "#converting itertor to set\n",
    "result_set=set(result)\n",
    "result_set"
   ]
  },
  {
   "cell_type": "code",
   "execution_count": 20,
   "id": "30e452ac-23a5-42ad-9da0-e41db54a8c12",
   "metadata": {},
   "outputs": [
    {
     "data": {
      "text/plain": [
       "[(1, 'one', 'one'), (2, 'two', 'two')]"
      ]
     },
     "execution_count": 20,
     "metadata": {},
     "output_type": "execute_result"
    }
   ],
   "source": [
    "numberlist=[1,2,3]\n",
    "str_list=['one','two']\n",
    "number_tuple=('one','two','three','four')\n",
    "result=zip(numberlist,number_tuple)\n",
    "list(result)\n",
    "result1=zip(numberlist,number_tuple,str_list)\n",
    "list(result1)"
   ]
  },
  {
   "cell_type": "code",
   "execution_count": 21,
   "id": "2c8c7f0b-c035-4473-8e50-c5879ddc7e00",
   "metadata": {},
   "outputs": [],
   "source": [
    "coordinate=['x','y','z']\n",
    "value=[3,4,5]\n",
    "result=zip(coordinate,value)\n",
    "result_list=list(result)\n",
    "result_list\n",
    "\n",
    "c,v=zip(*result_list)"
   ]
  },
  {
   "cell_type": "code",
   "execution_count": 22,
   "id": "d78f1724-2eea-4358-b806-f1e120b376d8",
   "metadata": {},
   "outputs": [
    {
     "data": {
      "text/plain": [
       "('x', 'y', 'z')"
      ]
     },
     "execution_count": 22,
     "metadata": {},
     "output_type": "execute_result"
    }
   ],
   "source": [
    "c"
   ]
  },
  {
   "cell_type": "code",
   "execution_count": 23,
   "id": "45a9db5d-af32-465f-b080-f2bb77e72a5a",
   "metadata": {},
   "outputs": [
    {
     "data": {
      "text/plain": [
       "(3, 4, 5)"
      ]
     },
     "execution_count": 23,
     "metadata": {},
     "output_type": "execute_result"
    }
   ],
   "source": [
    "v"
   ]
  },
  {
   "cell_type": "code",
   "execution_count": 24,
   "id": "a542b646-2960-448f-828f-b2ce2364af0c",
   "metadata": {},
   "outputs": [
    {
     "data": {
      "text/plain": [
       "(('x', 'y', 'z'), (3, 4, 5))"
      ]
     },
     "execution_count": 24,
     "metadata": {},
     "output_type": "execute_result"
    }
   ],
   "source": [
    "c,v"
   ]
  },
  {
   "cell_type": "code",
   "execution_count": 26,
   "id": "d6eb2885-1a25-4677-9188-4ed878b65e8f",
   "metadata": {
    "scrolled": true
   },
   "outputs": [
    {
     "name": "stdout",
     "output_type": "stream",
     "text": [
      "ashwin\n",
      "jyoti\n"
     ]
    }
   ],
   "source": [
    "a=['ashwin','jyoti','ashish']\n",
    "b=[89,65,34]\n",
    "for i,j in zip(a,b):\n",
    "    if j>=65:\n",
    "        print(i)\n"
   ]
  },
  {
   "cell_type": "code",
   "execution_count": 5,
   "id": "3349157d-e639-4262-a51c-a9ab2402f843",
   "metadata": {},
   "outputs": [],
   "source": [
    "a=[1,5,8]\n",
    "b=[4,3,2]\n",
    "c=[6,7,5]"
   ]
  },
  {
   "cell_type": "code",
   "execution_count": 6,
   "id": "8c050279-1075-4ad4-b9fa-90f46ac62ad7",
   "metadata": {},
   "outputs": [
    {
     "data": {
      "text/plain": [
       "[11, 15, 15]"
      ]
     },
     "execution_count": 6,
     "metadata": {},
     "output_type": "execute_result"
    }
   ],
   "source": [
    "x=list(map(lambda x,y,z:x+y+z,a,b,c))\n",
    "x"
   ]
  },
  {
   "cell_type": "code",
   "execution_count": 7,
   "id": "d421e20a-7039-4ff6-b665-0821d2f5eadb",
   "metadata": {},
   "outputs": [
    {
     "data": {
      "text/plain": [
       "[11, 15, 15]"
      ]
     },
     "execution_count": 7,
     "metadata": {},
     "output_type": "execute_result"
    }
   ],
   "source": [
    "d=[]\n",
    "for i,j,k in zip(a,b,c):\n",
    "    d.append(i+j+k)\n",
    "d"
   ]
  },
  {
   "cell_type": "code",
   "execution_count": 8,
   "id": "690a1eac-a5d9-4b17-9e0d-8745a1b4e50c",
   "metadata": {},
   "outputs": [],
   "source": [
    "i,j,k=list(zip(a,b,c))"
   ]
  },
  {
   "cell_type": "code",
   "execution_count": 9,
   "id": "31c727ea-4d74-41a7-9605-63c9b1c96169",
   "metadata": {},
   "outputs": [
    {
     "data": {
      "text/plain": [
       "(5, 3, 7)"
      ]
     },
     "execution_count": 9,
     "metadata": {},
     "output_type": "execute_result"
    }
   ],
   "source": [
    "j"
   ]
  },
  {
   "cell_type": "code",
   "execution_count": 10,
   "id": "dfdc8a6f-9253-4dc5-8f04-2aa74a4180d5",
   "metadata": {},
   "outputs": [],
   "source": [
    "#sample string:'prospect'\n",
    "# expected result:'pros$ect'\n",
    "def getvalue(a):\n",
    "    b=a[1:]\n",
    "    return a[:1]+b.replace(a[0],\"$\")"
   ]
  },
  {
   "cell_type": "code",
   "execution_count": 11,
   "id": "00dff9fd-9f88-445a-a5c2-bd5a18814cc2",
   "metadata": {},
   "outputs": [
    {
     "data": {
      "text/plain": [
       "'pu$$et'"
      ]
     },
     "execution_count": 11,
     "metadata": {},
     "output_type": "execute_result"
    }
   ],
   "source": [
    "getvalue('puppet')"
   ]
  },
  {
   "cell_type": "code",
   "execution_count": 4,
   "id": "876b783e-a97d-4285-a171-16808de1edce",
   "metadata": {},
   "outputs": [
    {
     "name": "stdout",
     "output_type": "stream",
     "text": [
      "rospect\n"
     ]
    },
    {
     "data": {
      "text/plain": [
       "'pros&ect'"
      ]
     },
     "execution_count": 4,
     "metadata": {},
     "output_type": "execute_result"
    }
   ],
   "source": [
    "s1=\"prospect\"\n",
    "s2=s1[1:]\n",
    "print(s2)\n",
    "s1[:1]+s2.replace(s1[0],\"&\") #p+ ros&ect"
   ]
  },
  {
   "cell_type": "code",
   "execution_count": 1,
   "id": "f25afd71-02c0-4e97-88c3-dac2607dbe72",
   "metadata": {},
   "outputs": [
    {
     "name": "stdin",
     "output_type": "stream",
     "text": [
      "enter the string four\n"
     ]
    },
    {
     "name": "stdout",
     "output_type": "stream",
     "text": [
      "fourly\n"
     ]
    }
   ],
   "source": [
    "#sample string:'abc'\n",
    "#expected result:'abcing'\n",
    "#sample string:'string'\n",
    "#expected result:'stringly'\n",
    "s1=input(\"enter the string\")\n",
    "b=len(s1)\n",
    "if b<=3:\n",
    "    s1=s1+\"ing\"\n",
    "else:\n",
    "    s1=s1+\"ly\"\n",
    "print(s1)"
   ]
  },
  {
   "cell_type": "code",
   "execution_count": null,
   "id": "125a23fb-30b2-402a-aa8c-e16a25a60132",
   "metadata": {},
   "outputs": [],
   "source": []
  },
  {
   "cell_type": "code",
   "execution_count": null,
   "id": "75b9f8a6-a0a8-4933-b4c3-f66f8401b409",
   "metadata": {},
   "outputs": [],
   "source": []
  },
  {
   "cell_type": "code",
   "execution_count": null,
   "id": "a77b8f0b-73ac-4704-bae7-9e533bdb9419",
   "metadata": {},
   "outputs": [],
   "source": []
  }
 ],
 "metadata": {
  "kernelspec": {
   "display_name": "Python 3 (ipykernel)",
   "language": "python",
   "name": "python3"
  },
  "language_info": {
   "codemirror_mode": {
    "name": "ipython",
    "version": 3
   },
   "file_extension": ".py",
   "mimetype": "text/x-python",
   "name": "python",
   "nbconvert_exporter": "python",
   "pygments_lexer": "ipython3",
   "version": "3.11.7"
  }
 },
 "nbformat": 4,
 "nbformat_minor": 5
}
