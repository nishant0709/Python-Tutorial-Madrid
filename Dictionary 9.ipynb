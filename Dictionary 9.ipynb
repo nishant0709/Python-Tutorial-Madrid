{
 "cells": [
  {
   "cell_type": "code",
   "execution_count": 1,
   "id": "ae9f9624-ef8f-4f52-a1c3-869d7da15908",
   "metadata": {},
   "outputs": [
    {
     "name": "stdout",
     "output_type": "stream",
     "text": [
      "<class 'dict'>\n"
     ]
    }
   ],
   "source": [
    "#dictionary example\n",
    "capitals={\"USA\":\"washington D.C\",\"France\":\"Paris\",\"INDIA\":\"New Delhi\"}\n",
    "print(type(capitals))\n"
   ]
  },
  {
   "cell_type": "code",
   "execution_count": 2,
   "id": "ba8d925f-7346-446f-b6c1-474831fe8d3f",
   "metadata": {},
   "outputs": [],
   "source": [
    "#d={} empty dictionary\n",
    "#numNames={1:\"One\",2:\"Two\",3:\"Tree\"} int key,string value\n",
    "#decName={1.5:\"one and half\",2.5:\"Two and half\",3.5:\"three and half\"} float key,string value\n",
    "#items={(\"Parker\",\"Reynolds\",\"camlin\"):\"pen\",(\"LG\",\"wirlpool\",\"samsung\"):\"Refrigetor\"} tuple key,string value\n",
    "#romanNum={'I':1,'II':2,'III':3} string key, int value"
   ]
  },
  {
   "cell_type": "code",
   "execution_count": 3,
   "id": "b7e117fc-710f-4e80-91c9-a2e452f130a3",
   "metadata": {},
   "outputs": [
    {
     "name": "stdout",
     "output_type": "stream",
     "text": [
      "{1: 'two', 2: 'five', 3: 'three'}\n"
     ]
    }
   ],
   "source": [
    "numName={1:\"one\",2:\"two\",3:\"three\",2:\"two\",1:\"two\",2:\"five\"}\n",
    "print(numName)"
   ]
  },
  {
   "cell_type": "code",
   "execution_count": 4,
   "id": "cfe01ad8-c7b6-4b6b-810c-a9b1e19c3eab",
   "metadata": {},
   "outputs": [],
   "source": [
    "#A dictionary can also be created using the dict() constructor method.\n",
    "#example=dict()constructor Method\n",
    "#emptydict=dict()"
   ]
  },
  {
   "cell_type": "code",
   "execution_count": 5,
   "id": "f0a69238-5057-41d6-8cd3-2262c5507de1",
   "metadata": {},
   "outputs": [
    {
     "name": "stdout",
     "output_type": "stream",
     "text": [
      "{}\n"
     ]
    }
   ],
   "source": [
    "emptydict=dict()\n",
    "print(emptydict)"
   ]
  },
  {
   "cell_type": "code",
   "execution_count": 6,
   "id": "d21dc88b-3f11-481d-ad1c-aa004abff760",
   "metadata": {},
   "outputs": [
    {
     "name": "stdout",
     "output_type": "stream",
     "text": [
      "{'I': 'one', 'II': 'two', 'III': 'three'}\n"
     ]
    }
   ],
   "source": [
    "numdict=dict(I=\"one\",II=\"two\",III=\"three\")\n",
    "print(numdict)"
   ]
  },
  {
   "cell_type": "code",
   "execution_count": 7,
   "id": "6757e76a-e78e-4434-b331-41303786ce1e",
   "metadata": {},
   "outputs": [
    {
     "name": "stdout",
     "output_type": "stream",
     "text": [
      "one two three\n"
     ]
    }
   ],
   "source": [
    "#Access dictionary\n",
    "numNames={1:\"one\",2:\"two\",3:\"three\"}\n",
    "print(numNames[1],numNames[2],numNames[3])"
   ]
  },
  {
   "cell_type": "code",
   "execution_count": 8,
   "id": "0bb73c0a-d7d4-4023-898e-ace82f493899",
   "metadata": {},
   "outputs": [
    {
     "name": "stdout",
     "output_type": "stream",
     "text": [
      "one two three None\n"
     ]
    }
   ],
   "source": [
    "#get method\n",
    "numNames={1:\"one\",2:\"two\",3:\"three\"}\n",
    "print(numNames.get(1),numNames.get(2),numNames.get(3),numNames.get(4))"
   ]
  },
  {
   "cell_type": "code",
   "execution_count": 9,
   "id": "becfda7b-9967-47a0-ae49-474bee1cce3b",
   "metadata": {},
   "outputs": [
    {
     "name": "stdout",
     "output_type": "stream",
     "text": [
      "USA France India "
     ]
    }
   ],
   "source": [
    "#Access dictionary using for Loop---use the for loop to iterate a dictionary in the python sript.\n",
    "#example\n",
    "capitals={\"USA\":\"washington D.C\",\"France\":\"paris\",\"India\":\"New Delhi\"}\n",
    "for i in capitals:\n",
    "    print(i,end=\" \")"
   ]
  },
  {
   "cell_type": "code",
   "execution_count": 10,
   "id": "b0eb1735-d8d3-40ea-8b32-61e9e42d9b01",
   "metadata": {},
   "outputs": [
    {
     "name": "stdout",
     "output_type": "stream",
     "text": [
      "dict_items([('USA', 'washington D.C'), ('France', 'paris'), ('India', 'New Delhi')])\n",
      "USA washington D.C France paris India New Delhi "
     ]
    }
   ],
   "source": [
    "capitals={\"USA\":\"washington D.C\",\"France\":\"paris\",\"India\":\"New Delhi\"}\n",
    "print(capitals.items())\n",
    "for i,j in capitals.items():\n",
    "    print(i,j,end=\" \")"
   ]
  },
  {
   "cell_type": "code",
   "execution_count": 11,
   "id": "de3baf9d-03f7-47da-a082-9796673fad6a",
   "metadata": {},
   "outputs": [
    {
     "name": "stdout",
     "output_type": "stream",
     "text": [
      "dict_keys(['USA', 'France', 'India'])\n",
      "USA washington D.C France paris India New Delhi "
     ]
    }
   ],
   "source": [
    "capitals={\"USA\":\"washington D.C\",\"France\":\"paris\",\"India\":\"New Delhi\"}\n",
    "print(capitals.keys())\n",
    "for i,j in capitals.items():\n",
    "    print(i,j,end=\" \")"
   ]
  },
  {
   "cell_type": "code",
   "execution_count": 12,
   "id": "510c28e0-46cd-41e1-8eb2-041e31dbb4c5",
   "metadata": {},
   "outputs": [
    {
     "name": "stdout",
     "output_type": "stream",
     "text": [
      "dict_values(['washington D.C', 'paris', 'New Delhi'])\n",
      "USA washington D.C France paris India New Delhi "
     ]
    }
   ],
   "source": [
    "capitals={\"USA\":\"washington D.C\",\"France\":\"paris\",\"India\":\"New Delhi\"}\n",
    "print(capitals.values())\n",
    "for i,j in capitals.items():\n",
    "    print(i,j,end=\" \")"
   ]
  },
  {
   "cell_type": "code",
   "execution_count": 13,
   "id": "f01bc866-3dfe-4e88-8a3d-cabd17240cb8",
   "metadata": {},
   "outputs": [
    {
     "name": "stdout",
     "output_type": "stream",
     "text": [
      "{'England': 'ROOT', 'Australia': 'Smith', 'India': 'DHONI'}\n",
      "{'England': 'ROOT', 'Australia': 'paine', 'India': 'VIRAT'}\n"
     ]
    }
   ],
   "source": [
    "#update dictionary\n",
    "captains={\"England\":\"ROOT\",\"Australia\":\"Smith\",\"India\":\"DHONI\"}\n",
    "print(captains)\n",
    "captains['India']='VIRAT'\n",
    "captains['Australia']='paine'\n",
    "print(captains)"
   ]
  },
  {
   "cell_type": "code",
   "execution_count": 14,
   "id": "1c40dd3d-4f96-44a4-86f0-b4ac18a73abe",
   "metadata": {},
   "outputs": [
    {
     "name": "stdout",
     "output_type": "stream",
     "text": [
      "{'England': 'root', 'India': 'virat', 'SouthAfrica': 'plessis'}\n"
     ]
    }
   ],
   "source": [
    "#if you use a new key and assign a value to it then it will add a new key-value pair into a dictionary.\n",
    "captains={\"England\":\"root\",\"India\":\"virat\"}\n",
    "captains['SouthAfrica']='plessis'\n",
    "print(captains)"
   ]
  },
  {
   "cell_type": "code",
   "execution_count": 15,
   "id": "b5a4c25a-acb0-4718-b333-2ec6fb6eb3b5",
   "metadata": {},
   "outputs": [
    {
     "name": "stdout",
     "output_type": "stream",
     "text": [
      "{'Australia': 'paine', 'India': 'Rohit', 'Srilanka': 'Jaysurya'}\n",
      "{'India': 'Rohit', 'Srilanka': 'Jaysurya'}\n"
     ]
    }
   ],
   "source": [
    "#del method\n",
    "#Delete a key-value Pair\n",
    "captains={'Australia':'paine','India':'Rohit','Srilanka':'Jaysurya'}\n",
    "print(captains)\n",
    "del captains['Australia']\n",
    "print(captains)"
   ]
  },
  {
   "cell_type": "code",
   "execution_count": 16,
   "id": "ffb52ef2-0600-4ec1-8151-076e0565ef94",
   "metadata": {},
   "outputs": [
    {
     "name": "stdout",
     "output_type": "stream",
     "text": [
      "{'Australia': 'paine', 'India': 'Rohit', 'Srilanka': 'Jaysurya'}\n",
      "{'India': 'Rohit', 'Srilanka': 'Jaysurya'}\n"
     ]
    },
    {
     "ename": "NameError",
     "evalue": "name 'captains' is not defined",
     "output_type": "error",
     "traceback": [
      "\u001b[1;31m---------------------------------------------------------------------------\u001b[0m",
      "\u001b[1;31mNameError\u001b[0m                                 Traceback (most recent call last)",
      "Cell \u001b[1;32mIn[16], line 6\u001b[0m\n\u001b[0;32m      4\u001b[0m \u001b[38;5;28mprint\u001b[39m(captains)\n\u001b[0;32m      5\u001b[0m \u001b[38;5;28;01mdel\u001b[39;00m captains\n\u001b[1;32m----> 6\u001b[0m \u001b[38;5;28mprint\u001b[39m(captains)\n",
      "\u001b[1;31mNameError\u001b[0m: name 'captains' is not defined"
     ]
    }
   ],
   "source": [
    "captains={'Australia':'paine','India':'Rohit','Srilanka':'Jaysurya'}\n",
    "print(captains)\n",
    "del captains['Australia']\n",
    "print(captains)\n",
    "del captains\n",
    "print(captains)"
   ]
  },
  {
   "cell_type": "code",
   "execution_count": 17,
   "id": "58a0ed92-0a76-45de-b745-68ddecc73c4c",
   "metadata": {},
   "outputs": [
    {
     "name": "stdout",
     "output_type": "stream",
     "text": [
      "{1: {'name': 'steve', 'age': 25, 'marks': 60}, 2: {'name': 'Anil', 'age': 69, 'marks': 65}, 3: {'name': 'Minku', 'age': 24, 'marks': 99}}\n"
     ]
    }
   ],
   "source": [
    "#Multi-dimensional Dictionary\n",
    "#let's assume there are three dictonary objects,as below:\n",
    "d1={\"name\":\"steve\",\"age\":25,\"marks\":60}\n",
    "d2={\"name\":\"Anil\",\"age\":69,\"marks\":65}\n",
    "d3={\"name\":\"Minku\",\"age\":24,\"marks\":99}\n",
    "students={1:d1,2:d2,3:d3}\n",
    "print(students)"
   ]
  },
  {
   "cell_type": "code",
   "execution_count": 18,
   "id": "6f0a03dd-98f4-4eee-966c-1df2f223f747",
   "metadata": {},
   "outputs": [
    {
     "name": "stdout",
     "output_type": "stream",
     "text": [
      "{'name': 'steve', 'age': 25, 'marks': 60}\n"
     ]
    }
   ],
   "source": [
    "print(students[1])"
   ]
  },
  {
   "cell_type": "code",
   "execution_count": 19,
   "id": "b8984e07-b9ce-403f-b262-5345604b58ee",
   "metadata": {},
   "outputs": [
    {
     "name": "stdout",
     "output_type": "stream",
     "text": [
      "{'name': 'Minku', 'age': 24, 'marks': 99}\n"
     ]
    }
   ],
   "source": [
    "print(students[3])"
   ]
  },
  {
   "cell_type": "code",
   "execution_count": 20,
   "id": "30d11446-c7f3-4c47-80ad-3218852f0203",
   "metadata": {},
   "outputs": [
    {
     "name": "stdout",
     "output_type": "stream",
     "text": [
      "Ditionary {'I': 1, 'II': 2, 'III': 3, 'IV': 4, 'V': 5}\n",
      "{}\n"
     ]
    }
   ],
   "source": [
    "#clear method\n",
    "romanNum={'I':1,'II':2,'III':3,'IV':4,'V':5}\n",
    "print(\"Ditionary\",romanNum)\n",
    "romanNum.clear()\n",
    "print(romanNum)"
   ]
  },
  {
   "cell_type": "code",
   "execution_count": 21,
   "id": "cdb14354-ab86-451f-9d9b-fcadc2f2ec02",
   "metadata": {},
   "outputs": [
    {
     "name": "stdout",
     "output_type": "stream",
     "text": [
      "original dictionary {'I': 1, 'II': 2, 'III': 3, 'IV': 4, 'V': 5}\n",
      "copied dictionary {'I': 1, 'II': 2, 'III': 3, 'IV': 4, 'V': 5}\n"
     ]
    }
   ],
   "source": [
    "#copy() method\n",
    "romanNums={'I':1,'II':2,'III':3,'IV':4,'V':5}\n",
    "NEWRONAMNUMS=romanNums.copy()\n",
    "print('original dictionary',romanNums)\n",
    "print('copied dictionary',NEWRONAMNUMS)"
   ]
  },
  {
   "cell_type": "code",
   "execution_count": 22,
   "id": "d7249f88-dd8b-4b80-942e-c0cbcd027332",
   "metadata": {},
   "outputs": [
    {
     "name": "stdout",
     "output_type": "stream",
     "text": [
      "original dictionary {'I': 1, 'II': 2, 'III': 3, 'IV': 4, 'V': 5}\n",
      "copied dictionary {'I': 1, 'II': 2, 'III': 3, 'V': 5}\n"
     ]
    }
   ],
   "source": [
    "romanNums={'I':1,'II':2,'III':3,'IV':4,'V':5}\n",
    "NEWRONAMNUMS=romanNums.copy()\n",
    "del NEWRONAMNUMS['IV']\n",
    "print('original dictionary',romanNums)\n",
    "print('copied dictionary',NEWRONAMNUMS)"
   ]
  },
  {
   "cell_type": "code",
   "execution_count": 23,
   "id": "82349a7c-f379-4369-b514-3702f2d3a104",
   "metadata": {},
   "outputs": [
    {
     "name": "stdout",
     "output_type": "stream",
     "text": [
      "{'Mumbai': 'CITY', 'New york': 'CITY', 'Chicago': 'CITY', 'Banglore': 'CITY'}\n"
     ]
    }
   ],
   "source": [
    "#fromkeys() method\n",
    "keys={'Mumbai','Banglore','Chicago','New york'}\n",
    "value='CITY'\n",
    "dictionary=dict.fromkeys(keys,value)\n",
    "print(dictionary)"
   ]
  },
  {
   "cell_type": "code",
   "execution_count": 24,
   "id": "ada9f4ee-af87-4f47-b221-64306074f503",
   "metadata": {},
   "outputs": [
    {
     "name": "stdout",
     "output_type": "stream",
     "text": [
      "{'Mumbai': None, 'New york': None, 'Banglore': None, 'Chicago': None}\n"
     ]
    }
   ],
   "source": [
    "keys={'Mumbai','Banglore','Chicago','New york'}\n",
    "dictionary=dict.fromkeys(keys)\n",
    "print(dictionary)"
   ]
  },
  {
   "cell_type": "code",
   "execution_count": 25,
   "id": "44047a32-6483-4e0f-bdbe-f08e41f8b3bc",
   "metadata": {},
   "outputs": [
    {
     "name": "stdout",
     "output_type": "stream",
     "text": [
      "dict_items([('I', 1), ('II', 2), ('III', 3), ('IV', 4), ('V', 5)])\n"
     ]
    }
   ],
   "source": [
    "#items() method\n",
    "romanNums={'I':1,'II':2,'III':3,'IV':4,'V':5}\n",
    "dictview=romanNums.items()\n",
    "print(dictview)"
   ]
  },
  {
   "cell_type": "code",
   "execution_count": 26,
   "id": "c07f7c06-dd15-4b0a-82e7-8f87ce6b6d39",
   "metadata": {},
   "outputs": [
    {
     "name": "stdout",
     "output_type": "stream",
     "text": [
      "dict_keys(['I', 'II', 'III', 'IV', 'V'])\n"
     ]
    }
   ],
   "source": [
    "#keys() method\n",
    "romanNums={'I':1,'II':2,'III':3,'IV':4,'V':5}\n",
    "keys=romanNums.keys()\n",
    "print(keys)"
   ]
  },
  {
   "cell_type": "code",
   "execution_count": 27,
   "id": "e4c01eaf-da18-4fe8-b1aa-af573d93f7a1",
   "metadata": {},
   "outputs": [
    {
     "name": "stdout",
     "output_type": "stream",
     "text": [
      "The poped element is: 5\n",
      "Updated dictionary: {'I': 1, 'II': 2, 'III': 3, 'IV': 4}\n"
     ]
    }
   ],
   "source": [
    "#pop() method\n",
    "romanNums={'I':1,'II':2,'III':3,'IV':4,'V':5}\n",
    "deletedvalue=romanNums.pop('V')\n",
    "print(\"The poped element is:\",deletedvalue)\n",
    "print(\"Updated dictionary:\",romanNums)"
   ]
  },
  {
   "cell_type": "code",
   "execution_count": 28,
   "id": "9f8e8617-40d0-4ee1-9af3-57be160aa619",
   "metadata": {},
   "outputs": [
    {
     "name": "stdout",
     "output_type": "stream",
     "text": [
      "The poped element is: 4\n",
      "Updated dictionary: {'I': 1, 'II': 2, 'III': 3}\n"
     ]
    }
   ],
   "source": [
    "deletedvalue=romanNums.pop('IV')\n",
    "print(\"The poped element is:\",deletedvalue)\n",
    "print(\"Updated dictionary:\",romanNums)"
   ]
  },
  {
   "cell_type": "code",
   "execution_count": 29,
   "id": "4e3f9e57-f891-4b6a-8ead-ea24428682de",
   "metadata": {},
   "outputs": [
    {
     "ename": "KeyError",
     "evalue": "'VI'",
     "output_type": "error",
     "traceback": [
      "\u001b[1;31m---------------------------------------------------------------------------\u001b[0m",
      "\u001b[1;31mKeyError\u001b[0m                                  Traceback (most recent call last)",
      "Cell \u001b[1;32mIn[29], line 2\u001b[0m\n\u001b[0;32m      1\u001b[0m romanNums\u001b[38;5;241m=\u001b[39m{\u001b[38;5;124m'\u001b[39m\u001b[38;5;124mI\u001b[39m\u001b[38;5;124m'\u001b[39m:\u001b[38;5;241m1\u001b[39m,\u001b[38;5;124m'\u001b[39m\u001b[38;5;124mII\u001b[39m\u001b[38;5;124m'\u001b[39m:\u001b[38;5;241m2\u001b[39m,\u001b[38;5;124m'\u001b[39m\u001b[38;5;124mIII\u001b[39m\u001b[38;5;124m'\u001b[39m:\u001b[38;5;241m3\u001b[39m,\u001b[38;5;124m'\u001b[39m\u001b[38;5;124mIV\u001b[39m\u001b[38;5;124m'\u001b[39m:\u001b[38;5;241m4\u001b[39m,\u001b[38;5;124m'\u001b[39m\u001b[38;5;124mV\u001b[39m\u001b[38;5;124m'\u001b[39m:\u001b[38;5;241m5\u001b[39m}\n\u001b[1;32m----> 2\u001b[0m deletedValue\u001b[38;5;241m=\u001b[39mromanNums\u001b[38;5;241m.\u001b[39mpop(\u001b[38;5;124m'\u001b[39m\u001b[38;5;124mVI\u001b[39m\u001b[38;5;124m'\u001b[39m)\n\u001b[0;32m      3\u001b[0m \u001b[38;5;28mprint\u001b[39m(\u001b[38;5;124m\"\u001b[39m\u001b[38;5;124mThe popped element is:\u001b[39m\u001b[38;5;124m\"\u001b[39m,deletedValue)\n",
      "\u001b[1;31mKeyError\u001b[0m: 'VI'"
     ]
    }
   ],
   "source": [
    "romanNums={'I':1,'II':2,'III':3,'IV':4,'V':5}\n",
    "deletedValue=romanNums.pop('VI')\n",
    "print(\"The popped element is:\",deletedValue)"
   ]
  },
  {
   "cell_type": "code",
   "execution_count": 31,
   "id": "4c18c49c-71a6-4f6b-9f8d-172271b9046e",
   "metadata": {},
   "outputs": [
    {
     "name": "stdout",
     "output_type": "stream",
     "text": [
      "The popped element is: NOT FOUND\n",
      "Updated dictionary: {'I': 1, 'II': 2, 'III': 3, 'IV': 4, 'V': 5}\n"
     ]
    }
   ],
   "source": [
    "romanNums={'I':1,'II':2,'III':3,'IV':4,'V':5}\n",
    "deletedValue=romanNums.pop('VI','NOT FOUND')\n",
    "print(\"The popped element is:\",deletedValue)\n",
    "print(\"Updated dictionary:\",romanNums)"
   ]
  },
  {
   "cell_type": "code",
   "execution_count": 32,
   "id": "180e1a30-779e-40b8-8939-dbf5ebdfcca2",
   "metadata": {},
   "outputs": [
    {
     "name": "stdout",
     "output_type": "stream",
     "text": [
      "('III', 3)\n",
      "('II', 2)\n",
      "('I', 1)\n"
     ]
    },
    {
     "ename": "KeyError",
     "evalue": "'popitem(): dictionary is empty'",
     "output_type": "error",
     "traceback": [
      "\u001b[1;31m---------------------------------------------------------------------------\u001b[0m",
      "\u001b[1;31mKeyError\u001b[0m                                  Traceback (most recent call last)",
      "Cell \u001b[1;32mIn[32], line 6\u001b[0m\n\u001b[0;32m      4\u001b[0m \u001b[38;5;28mprint\u001b[39m(romanNum\u001b[38;5;241m.\u001b[39mpopitem())\n\u001b[0;32m      5\u001b[0m \u001b[38;5;28mprint\u001b[39m(romanNum\u001b[38;5;241m.\u001b[39mpopitem())\n\u001b[1;32m----> 6\u001b[0m \u001b[38;5;28mprint\u001b[39m(romanNum\u001b[38;5;241m.\u001b[39mpopitem())\n",
      "\u001b[1;31mKeyError\u001b[0m: 'popitem(): dictionary is empty'"
     ]
    }
   ],
   "source": [
    "#popitem() method\n",
    "romanNum={'I':1,'II':2,'III':3}\n",
    "print(romanNum.popitem())\n",
    "print(romanNum.popitem())\n",
    "print(romanNum.popitem())\n",
    "print(romanNum.popitem())"
   ]
  },
  {
   "cell_type": "code",
   "execution_count": 33,
   "id": "0a9bd9cb-09f9-428c-aede-e387f3180ff7",
   "metadata": {},
   "outputs": [
    {
     "name": "stdout",
     "output_type": "stream",
     "text": [
      "Dictionary: {'I': 1, 'III': 3, 'V': 5}\n",
      "Updated Dictionary: {'I': 1, 'III': 3, 'V': 5, 'II': 2, 'IV': 4}\n"
     ]
    }
   ],
   "source": [
    "#update() method\n",
    "romanNums={'I':1,'III':3,'V':5}\n",
    "print(\"Dictionary:\",romanNums)\n",
    "evenRomanNums={'II':2,'IV':4}\n",
    "romanNums.update(evenRomanNums)\n",
    "print(\"Updated Dictionary:\",romanNums)"
   ]
  },
  {
   "cell_type": "code",
   "execution_count": 34,
   "id": "69cf421f-29cc-4d84-aef3-ae1e79d3547c",
   "metadata": {},
   "outputs": [
    {
     "name": "stdout",
     "output_type": "stream",
     "text": [
      "dict_values([1, 2, 3, 4, 5])\n"
     ]
    }
   ],
   "source": [
    "#values() method\n",
    "romanNums={'I':1,'II':2,'III':3,'IV':4,'V':5}\n",
    "values=romanNums.values()\n",
    "print(values)"
   ]
  },
  {
   "cell_type": "code",
   "execution_count": 35,
   "id": "1d65282f-16e5-4b3c-acb6-5f0ca0e5d2e2",
   "metadata": {},
   "outputs": [
    {
     "name": "stdout",
     "output_type": "stream",
     "text": [
      "(1, 2, 3, 4)\n"
     ]
    }
   ],
   "source": [
    "D={1:'Amit',2:'Suman',3:'Ravi',4:'Anuj'}\n",
    "print(tuple(D))"
   ]
  },
  {
   "cell_type": "code",
   "execution_count": 36,
   "id": "6ba43df9-9612-48ae-9d93-48f277995338",
   "metadata": {},
   "outputs": [
    {
     "name": "stdout",
     "output_type": "stream",
     "text": [
      "[1, 2, 3, 4]\n"
     ]
    }
   ],
   "source": [
    "print(list(D))"
   ]
  },
  {
   "cell_type": "code",
   "execution_count": 37,
   "id": "3a904db2-e6a6-4c15-8642-61acd520ef4d",
   "metadata": {},
   "outputs": [
    {
     "name": "stdout",
     "output_type": "stream",
     "text": [
      "{1: 'Amit', 2: 'Suman', 3: 'Ravi', 4: 'Anuj'}\n"
     ]
    }
   ],
   "source": [
    "print(str(D))"
   ]
  },
  {
   "cell_type": "code",
   "execution_count": 38,
   "id": "77f284cc-de1e-4f21-a0a6-eafd752089c8",
   "metadata": {},
   "outputs": [
    {
     "name": "stdout",
     "output_type": "stream",
     "text": [
      "87\n"
     ]
    }
   ],
   "source": [
    "D={1:['Amit',23,21],2:['Suman',56,87],3:'ravi',4:'Mahesh'}\n",
    "m=D.get(2)\n",
    "print(m[2])"
   ]
  },
  {
   "cell_type": "code",
   "execution_count": 39,
   "id": "507d2838-0a21-4d44-9ec2-545e1eb95943",
   "metadata": {},
   "outputs": [
    {
     "name": "stdout",
     "output_type": "stream",
     "text": [
      "True\n"
     ]
    }
   ],
   "source": [
    "D={1:['Amit',23,21],2:['Suman',56,87],3:'ravi',4:'Mahesh'}\n",
    "print('Amit' in D[1])"
   ]
  },
  {
   "cell_type": "code",
   "execution_count": 40,
   "id": "bee6a88c-d3a7-4a42-a331-0983fe33869e",
   "metadata": {},
   "outputs": [],
   "source": [
    "#DICTIONARY COMPREHENSION"
   ]
  },
  {
   "cell_type": "code",
   "execution_count": 41,
   "id": "a3260aef-7e97-4950-9200-987f2092eb5a",
   "metadata": {},
   "outputs": [
    {
     "data": {
      "text/plain": [
       "{0: 0, 1: 2, 2: 4, 3: 6, 4: 8, 5: 10, 6: 12, 7: 14, 8: 16, 9: 18}"
      ]
     },
     "execution_count": 41,
     "metadata": {},
     "output_type": "execute_result"
    }
   ],
   "source": [
    "double={i:i*2 for i in range(10)}\n",
    "double"
   ]
  },
  {
   "cell_type": "code",
   "execution_count": 42,
   "id": "7a7b3bc0-47ab-4f3f-8130-aed149cb1ef3",
   "metadata": {},
   "outputs": [
    {
     "data": {
      "text/plain": [
       "{0: 0, 1: 1, 2: 4, 3: 9, 4: 16, 5: 25, 6: 36, 7: 49, 8: 64, 9: 81}"
      ]
     },
     "execution_count": 42,
     "metadata": {},
     "output_type": "execute_result"
    }
   ],
   "source": [
    "square={i:i**2 for i in range(10)}\n",
    "square"
   ]
  },
  {
   "cell_type": "code",
   "execution_count": 43,
   "id": "971071da-aff8-4142-8f6c-52016ccedb1c",
   "metadata": {},
   "outputs": [
    {
     "data": {
      "text/plain": [
       "{'one': 1, 'two': 2, 'three': 3, 'four': 4, 'five': 5}"
      ]
     },
     "execution_count": 43,
     "metadata": {},
     "output_type": "execute_result"
    }
   ],
   "source": [
    "key=['one','two','three','four','five']\n",
    "value=[1,2,3,4,5]\n",
    "\n",
    "mydict={k:v for (k,v) in zip(key,value)}\n",
    "mydict"
   ]
  },
  {
   "cell_type": "code",
   "execution_count": 45,
   "id": "5fca158d-ece0-4ee9-a662-e0143f3ebcd6",
   "metadata": {},
   "outputs": [
    {
     "data": {
      "text/plain": [
       "{'a': 1.0, 'b': 2.0, 'c': 3.0, 'd': 4.0, 'e': 5.0}"
      ]
     },
     "execution_count": 45,
     "metadata": {},
     "output_type": "execute_result"
    }
   ],
   "source": [
    "mydict1={'a':10,'b':20,'c':30,'d':40,'e':50}\n",
    "mydict1={k:v/10 for (k,v) in mydict1.items()}\n",
    "mydict1"
   ]
  },
  {
   "cell_type": "code",
   "execution_count": 47,
   "id": "6aa4280e-c426-418c-bc28-90f1e7a4045c",
   "metadata": {},
   "outputs": [
    {
     "data": {
      "text/plain": [
       "{0: 'N',\n",
       " 1: 'a',\n",
       " 2: 't',\n",
       " 3: 'u',\n",
       " 4: 'r',\n",
       " 5: 'a',\n",
       " 6: 'l',\n",
       " 7: ' ',\n",
       " 8: 'L',\n",
       " 9: 'a',\n",
       " 10: 'n',\n",
       " 11: 'g',\n",
       " 12: 'u',\n",
       " 13: 'a',\n",
       " 14: 'g',\n",
       " 15: 'e',\n",
       " 16: ' ',\n",
       " 17: 'P',\n",
       " 18: 'r',\n",
       " 19: 'o',\n",
       " 20: 'c',\n",
       " 21: 'e',\n",
       " 22: 's',\n",
       " 23: 's',\n",
       " 24: 'i',\n",
       " 25: 'n',\n",
       " 26: 'g'}"
      ]
     },
     "execution_count": 47,
     "metadata": {},
     "output_type": "execute_result"
    }
   ],
   "source": [
    "str1=\"Natural Language Processing\"\n",
    "mydict2={k:v for (k,v) in enumerate(str1)}\n",
    "mydict2"
   ]
  },
  {
   "cell_type": "code",
   "execution_count": 50,
   "id": "614cd47c-efda-43dd-af78-6bf4ff77a266",
   "metadata": {},
   "outputs": [
    {
     "data": {
      "text/plain": [
       "{'a': 'A',\n",
       " 'b': 'B',\n",
       " 'c': 'C',\n",
       " 'd': 'D',\n",
       " 'e': 'E',\n",
       " 'f': 'F',\n",
       " 'g': 'G',\n",
       " 'h': 'H',\n",
       " 'i': 'I',\n",
       " 'j': 'J',\n",
       " 'k': 'K',\n",
       " 'l': 'L',\n",
       " 'm': 'M',\n",
       " 'n': 'N',\n",
       " 'o': 'O',\n",
       " 'p': 'P',\n",
       " 'q': 'Q',\n",
       " 'r': 'R',\n",
       " 's': 'S',\n",
       " 't': 'T',\n",
       " 'u': 'U',\n",
       " 'v': 'V',\n",
       " 'w': 'W',\n",
       " 'x': 'X',\n",
       " 'y': 'Y',\n",
       " 'z': 'Z'}"
      ]
     },
     "execution_count": 50,
     "metadata": {},
     "output_type": "execute_result"
    }
   ],
   "source": [
    "str1=\"abcdefghijklmnopqrstuvwxyz\"\n",
    "mydict3={i:i.upper() for i in str1}\n",
    "mydict3"
   ]
  },
  {
   "cell_type": "code",
   "execution_count": null,
   "id": "51e37f74-fce4-4cc6-aa49-b1de74754f13",
   "metadata": {},
   "outputs": [],
   "source": []
  }
 ],
 "metadata": {
  "kernelspec": {
   "display_name": "Python 3 (ipykernel)",
   "language": "python",
   "name": "python3"
  },
  "language_info": {
   "codemirror_mode": {
    "name": "ipython",
    "version": 3
   },
   "file_extension": ".py",
   "mimetype": "text/x-python",
   "name": "python",
   "nbconvert_exporter": "python",
   "pygments_lexer": "ipython3",
   "version": "3.11.7"
  }
 },
 "nbformat": 4,
 "nbformat_minor": 5
}
