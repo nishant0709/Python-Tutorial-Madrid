{
 "cells": [
  {
   "cell_type": "code",
   "execution_count": 2,
   "id": "91fe43d2-3eee-447a-98cb-a5807971dd58",
   "metadata": {},
   "outputs": [
    {
     "name": "stdin",
     "output_type": "stream",
     "text": [
      "enter the choice 10\n"
     ]
    },
    {
     "name": "stdout",
     "output_type": "stream",
     "text": [
      "you won\n"
     ]
    }
   ],
   "source": [
    "#(If)condition statements\n",
    "n=int(input(\"enter the choice\"))\n",
    "if n==10:\n",
    "    print(\"you won\")"
   ]
  },
  {
   "cell_type": "code",
   "execution_count": 6,
   "id": "d8b87c56-32a6-4462-a4eb-7f5a83181243",
   "metadata": {},
   "outputs": [
    {
     "name": "stdin",
     "output_type": "stream",
     "text": [
      "enter the number 0\n"
     ]
    },
    {
     "name": "stdout",
     "output_type": "stream",
     "text": [
      "number is zero\n"
     ]
    }
   ],
   "source": [
    "n=int(input(\"enter the number\"))\n",
    "if n>0:\n",
    "    print(\"+ve number\")\n",
    "if n<0:\n",
    "    print(\"-ve number\")\n",
    "if n==0:\n",
    "    print(\"number is zero\")\n"
   ]
  },
  {
   "cell_type": "code",
   "execution_count": 1,
   "id": "f222c4f1-e486-44c6-a646-91b5f4a05a1a",
   "metadata": {},
   "outputs": [
    {
     "name": "stdin",
     "output_type": "stream",
     "text": [
      "enter the value 69\n"
     ]
    },
    {
     "name": "stdout",
     "output_type": "stream",
     "text": [
      "odd number\n"
     ]
    }
   ],
   "source": [
    "#check even/odd number\n",
    "n=int(input(\"enter the value\"))\n",
    "if n%2==0:\n",
    "    print(\"even number\")\n",
    "else:\n",
    "    print(\"odd number\")"
   ]
  },
  {
   "cell_type": "code",
   "execution_count": 10,
   "id": "ed93c7a1-23ec-44d1-a4fd-46b6ad90c8d9",
   "metadata": {},
   "outputs": [
    {
     "name": "stdin",
     "output_type": "stream",
     "text": [
      "enter the year 2023\n"
     ]
    },
    {
     "name": "stdout",
     "output_type": "stream",
     "text": [
      "non  leap year\n"
     ]
    }
   ],
   "source": [
    "#check leap year\n",
    "year=int(input(\"enter the year\"))\n",
    "if year%4==0:\n",
    "    print(\"leap year\")\n",
    "else:\n",
    "    print(\"non  leap year\")"
   ]
  },
  {
   "cell_type": "code",
   "execution_count": 3,
   "id": "d146d055-a10e-4ad5-b4ee-4828db99449c",
   "metadata": {},
   "outputs": [
    {
     "name": "stdin",
     "output_type": "stream",
     "text": [
      "enter the age 5\n"
     ]
    },
    {
     "name": "stdout",
     "output_type": "stream",
     "text": [
      "not eligible to vote\n"
     ]
    }
   ],
   "source": [
    "#check eliligibility for vote\n",
    "age=int(input(\"enter the age\"))\n",
    "if age>=18:\n",
    "    print(\"eligible to vote\")\n",
    "else:\n",
    "    print(\"not eligible to vote\")"
   ]
  },
  {
   "cell_type": "code",
   "execution_count": 4,
   "id": "dc51046d-b103-4a30-9352-9c63378caf0d",
   "metadata": {},
   "outputs": [
    {
     "name": "stdin",
     "output_type": "stream",
     "text": [
      "enter the number from 1--7 6\n"
     ]
    },
    {
     "name": "stdout",
     "output_type": "stream",
     "text": [
      "fri\n"
     ]
    }
   ],
   "source": [
    "#print week\n",
    "day=int(input(\"enter the number from 1--7\"))\n",
    "if day==1:\n",
    "    print(\"sun\")\n",
    "elif day==2:\n",
    "    print(\"mon\")\n",
    "elif day==3:\n",
    "    print(\"tue\")\n",
    "elif day==4:\n",
    "    print(\"wed\")\n",
    "elif day==5:\n",
    "    print(\"thu\")\n",
    "elif day==6:\n",
    "    print(\"fri\")\n",
    "elif day==7:\n",
    "    print(\"sat\")\n",
    "else:\n",
    "    print(\"invalid choice\")"
   ]
  },
  {
   "cell_type": "code",
   "execution_count": 18,
   "id": "c964f613-adb4-471e-9b5e-6d9d714bf4b8",
   "metadata": {},
   "outputs": [
    {
     "name": "stdin",
     "output_type": "stream",
     "text": [
      "enter the marks 57\n",
      "enter the marks 74\n",
      "enter the marks 65\n",
      "enter the marks 89\n",
      "enter the marks 34\n"
     ]
    },
    {
     "name": "stdout",
     "output_type": "stream",
     "text": [
      "first\n"
     ]
    }
   ],
   "source": [
    "# check marks in division\n",
    "p=float(input(\"enter the marks\"))\n",
    "c=float(input(\"enter the marks\"))\n",
    "m=float(input(\"enter the marks\"))\n",
    "e=float(input(\"enter the marks\"))\n",
    "h=float(input(\"enter the marks\"))\n",
    "s=p+c+m+e+h\n",
    "per=s*100/500\n",
    "if per>=60:\n",
    "    print(\"first\")\n",
    "elif per>=45:\n",
    "    print(\"second\")\n",
    "elif per>=33:\n",
    "    print(\"third\")\n",
    "else:\n",
    "    print(\"fail\")\n"
   ]
  },
  {
   "cell_type": "code",
   "execution_count": 3,
   "id": "cafed7b0-4d43-4ab0-9543-af215f8192bd",
   "metadata": {},
   "outputs": [
    {
     "name": "stdin",
     "output_type": "stream",
     "text": [
      "enter the number 87\n",
      "enter the number 75\n",
      "enter the number 76\n"
     ]
    },
    {
     "name": "stdout",
     "output_type": "stream",
     "text": [
      "A is greatest\n"
     ]
    }
   ],
   "source": [
    "#nested if\n",
    "a=int(input(\"enter the number\"))\n",
    "b=int(input(\"enter the number\"))\n",
    "c=int(input(\"enter the number\"))\n",
    "if a>b:\n",
    "    if a>c:\n",
    "       print(\"A is greatest\")\n",
    "    else:\n",
    "        print(\"C is greatest\")\n",
    "\n",
    "else:\n",
    "    if b>c:\n",
    "        print(\"B is greatest\")\n",
    "    else: \n",
    "        print(\"C is greatest\")"
   ]
  },
  {
   "cell_type": "code",
   "execution_count": null,
   "id": "9e5cae30-f4dc-4d2f-a170-97f14fa6679c",
   "metadata": {},
   "outputs": [],
   "source": []
  }
 ],
 "metadata": {
  "kernelspec": {
   "display_name": "Python 3 (ipykernel)",
   "language": "python",
   "name": "python3"
  },
  "language_info": {
   "codemirror_mode": {
    "name": "ipython",
    "version": 3
   },
   "file_extension": ".py",
   "mimetype": "text/x-python",
   "name": "python",
   "nbconvert_exporter": "python",
   "pygments_lexer": "ipython3",
   "version": "3.11.7"
  }
 },
 "nbformat": 4,
 "nbformat_minor": 5
}
