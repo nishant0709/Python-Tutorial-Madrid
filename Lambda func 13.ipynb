{
 "cells": [
  {
   "cell_type": "code",
   "execution_count": 2,
   "id": "26fa5aa1-5234-4851-8f4a-f86cba5035fc",
   "metadata": {},
   "outputs": [],
   "source": [
    "def kelvin(a):\n",
    "    return(a+10)"
   ]
  },
  {
   "cell_type": "code",
   "execution_count": 3,
   "id": "f0fe9e28-4565-4c23-bd75-5bbae227f813",
   "metadata": {},
   "outputs": [
    {
     "data": {
      "text/plain": [
       "20"
      ]
     },
     "execution_count": 3,
     "metadata": {},
     "output_type": "execute_result"
    }
   ],
   "source": [
    "kelvin(10)"
   ]
  },
  {
   "cell_type": "code",
   "execution_count": 4,
   "id": "f044d60a-3a15-414a-aaca-402fe7cf3aa1",
   "metadata": {},
   "outputs": [
    {
     "data": {
      "text/plain": [
       "1010"
      ]
     },
     "execution_count": 4,
     "metadata": {},
     "output_type": "execute_result"
    }
   ],
   "source": [
    "x=lambda a:a+10  #lambda var: expression(annonymous)\n",
    "x(1000)"
   ]
  },
  {
   "cell_type": "code",
   "execution_count": 5,
   "id": "5535a2e7-9504-495a-8ae7-bad2127288ad",
   "metadata": {},
   "outputs": [
    {
     "data": {
      "text/plain": [
       "230"
      ]
     },
     "execution_count": 5,
     "metadata": {},
     "output_type": "execute_result"
    }
   ],
   "source": [
    "def sum(a,b,c):\n",
    "    return a+b+c\n",
    "sum(56,76,98)\n"
   ]
  },
  {
   "cell_type": "code",
   "execution_count": 6,
   "id": "b359fb90-37a6-4465-8178-039bf9a00f57",
   "metadata": {},
   "outputs": [
    {
     "data": {
      "text/plain": [
       "250"
      ]
     },
     "execution_count": 6,
     "metadata": {},
     "output_type": "execute_result"
    }
   ],
   "source": [
    "x=lambda a,b,c: a+b+c\n",
    "x(65,87,98)"
   ]
  },
  {
   "cell_type": "code",
   "execution_count": 7,
   "id": "6ece61f2-cd8e-44de-9be6-103536b58b6b",
   "metadata": {},
   "outputs": [
    {
     "name": "stdout",
     "output_type": "stream",
     "text": [
      "10\n"
     ]
    }
   ],
   "source": [
    "a=10\n",
    "if a%2==0:\n",
    "    print(a)"
   ]
  },
  {
   "cell_type": "code",
   "execution_count": 2,
   "id": "19096730-47e5-4003-aac8-4228960df518",
   "metadata": {},
   "outputs": [],
   "source": [
    "#if & else condition with lambda\n",
    "a=lambda x:x*2 if x%2==0 else x #true if false"
   ]
  },
  {
   "cell_type": "code",
   "execution_count": 3,
   "id": "c346c48d-7130-41c9-a041-3fa3a495f41d",
   "metadata": {},
   "outputs": [
    {
     "data": {
      "text/plain": [
       "60"
      ]
     },
     "execution_count": 3,
     "metadata": {},
     "output_type": "execute_result"
    }
   ],
   "source": [
    "a(30)"
   ]
  },
  {
   "cell_type": "code",
   "execution_count": 13,
   "id": "7b77ce9a-af08-44fa-9b4b-7deb88dcec86",
   "metadata": {},
   "outputs": [],
   "source": [
    "#map function\n",
    "number=[1,2,3,4]"
   ]
  },
  {
   "cell_type": "code",
   "execution_count": 14,
   "id": "d41d0eac-6bd0-44f0-b927-d8c52f271faf",
   "metadata": {},
   "outputs": [
    {
     "data": {
      "text/plain": [
       "[2, 4, 6, 8]"
      ]
     },
     "execution_count": 14,
     "metadata": {},
     "output_type": "execute_result"
    }
   ],
   "source": [
    "list(map(lambda x:x+x,number))"
   ]
  },
  {
   "cell_type": "code",
   "execution_count": 1,
   "id": "d8b47722-a375-4a96-8a50-f9aead48d9d5",
   "metadata": {},
   "outputs": [
    {
     "name": "stdout",
     "output_type": "stream",
     "text": [
      "[2, 6, 12]\n",
      "[5, 7, 97, 35, 97, 57]\n"
     ]
    }
   ],
   "source": [
    "#filter function\n",
    "my_list=[1,2,3,6,7,11,12]\n",
    "new_list=list(filter(lambda x:(x%2==0),my_list))\n",
    "print(new_list)\n",
    "\n",
    "li=[5,7,22,97,35,12,97,57]\n",
    "final_list=list(filter(lambda x:(x%2!=0),li))\n",
    "print(final_list)"
   ]
  },
  {
   "cell_type": "code",
   "execution_count": 5,
   "id": "d568b721-bda6-4fdd-9628-6b81f39ce7fd",
   "metadata": {},
   "outputs": [
    {
     "data": {
      "text/plain": [
       "['madam', 'anutforajaroftuna']"
      ]
     },
     "execution_count": 5,
     "metadata": {},
     "output_type": "execute_result"
    }
   ],
   "source": [
    "#filter with lambda\n",
    "drome=(\"demigod\",\"rewire\",\"madam\",\"freer\",\"anutforajaroftuna\",\"kiosk\")\n",
    "palindromes=list(filter(lambda a:a==a[::-1],drome))\n",
    "palindromes"
   ]
  },
  {
   "cell_type": "code",
   "execution_count": 4,
   "id": "97dc19f0-fede-4c90-928f-73e47400f102",
   "metadata": {},
   "outputs": [
    {
     "name": "stdout",
     "output_type": "stream",
     "text": [
      "NN ii ss hh aa nn tt "
     ]
    }
   ],
   "source": [
    "#list comprehension\n",
    "name=\"Nishant\"\n",
    "for i in name:\n",
    "    print(i+i,end=\" \")"
   ]
  },
  {
   "cell_type": "code",
   "execution_count": 5,
   "id": "f4cf2dba-4a97-4e63-8e69-3059d6cc3aca",
   "metadata": {},
   "outputs": [],
   "source": [
    "w=[i+i for i in \"Nishant\"]"
   ]
  },
  {
   "cell_type": "code",
   "execution_count": 6,
   "id": "a19d6370-d7fd-4946-acd9-94e412ee4f10",
   "metadata": {},
   "outputs": [
    {
     "data": {
      "text/plain": [
       "['NN', 'ii', 'ss', 'hh', 'aa', 'nn', 'tt']"
      ]
     },
     "execution_count": 6,
     "metadata": {},
     "output_type": "execute_result"
    }
   ],
   "source": [
    "w"
   ]
  },
  {
   "cell_type": "code",
   "execution_count": 7,
   "id": "ab19cbc3-1f14-47cd-973a-5ada3c3088f0",
   "metadata": {},
   "outputs": [
    {
     "data": {
      "text/plain": [
       "[1, 4, 9, 16, 25, 36]"
      ]
     },
     "execution_count": 7,
     "metadata": {},
     "output_type": "execute_result"
    }
   ],
   "source": [
    "A=[i*i for i in [1,2,3,4,5,6]]\n",
    "A"
   ]
  },
  {
   "cell_type": "code",
   "execution_count": 8,
   "id": "74336b4d-aaf0-44d2-bbd4-a7662c6a0918",
   "metadata": {},
   "outputs": [
    {
     "data": {
      "text/plain": [
       "[1, 16, 81, 256, 625, 1296]"
      ]
     },
     "execution_count": 8,
     "metadata": {},
     "output_type": "execute_result"
    }
   ],
   "source": [
    "list(map(lambda x:x*x,A))"
   ]
  },
  {
   "cell_type": "code",
   "execution_count": 9,
   "id": "edb5a81f-f44f-4007-94dd-aaa01f19c0bd",
   "metadata": {},
   "outputs": [
    {
     "data": {
      "text/plain": [
       "[3, 6, 9, 12, 15, 18]"
      ]
     },
     "execution_count": 9,
     "metadata": {},
     "output_type": "execute_result"
    }
   ],
   "source": [
    "x=[i*3 for i in [1,2,3,4,5,6]]\n",
    "x"
   ]
  },
  {
   "cell_type": "code",
   "execution_count": 11,
   "id": "90844460-900e-4fa3-8682-47f05d70e561",
   "metadata": {},
   "outputs": [
    {
     "data": {
      "text/plain": [
       "[3, 6, 9, 12, 15, 18]"
      ]
     },
     "execution_count": 11,
     "metadata": {},
     "output_type": "execute_result"
    }
   ],
   "source": [
    "y=list(map(lambda x:x*3,[1,2,3,4,5,6]))\n",
    "y"
   ]
  },
  {
   "cell_type": "code",
   "execution_count": 12,
   "id": "6a208d62-6bb9-400f-b8ad-d1ae11471921",
   "metadata": {},
   "outputs": [
    {
     "data": {
      "text/plain": [
       "[8, 16, 24, 32, 40]"
      ]
     },
     "execution_count": 12,
     "metadata": {},
     "output_type": "execute_result"
    }
   ],
   "source": [
    "even_mul=[i*4 for i in [2,3,4,5,6,7,8,10] if i%2==0]\n",
    "even_mul"
   ]
  },
  {
   "cell_type": "code",
   "execution_count": 13,
   "id": "4f7315d4-b83f-42a8-86a8-6380a60155df",
   "metadata": {},
   "outputs": [
    {
     "data": {
      "text/plain": [
       "[0, 14, 28, 42, 56, 70, 84, 98]"
      ]
     },
     "execution_count": 13,
     "metadata": {},
     "output_type": "execute_result"
    }
   ],
   "source": [
    "num_list=[y for y in range(100) if y%2==0 and y%7==0]\n",
    "num_list"
   ]
  },
  {
   "cell_type": "code",
   "execution_count": 14,
   "id": "79ccbabd-8a77-4324-b6e0-566b6a2a6621",
   "metadata": {},
   "outputs": [
    {
     "data": {
      "text/plain": [
       "[0, 'good', 2, 'good', 4, 'good', 6, 'good', 8, 'good']"
      ]
     },
     "execution_count": 14,
     "metadata": {},
     "output_type": "execute_result"
    }
   ],
   "source": [
    "#if...else with list comprehension\n",
    "obj=[i if i%2==0 else\"good\" for i in range(10)]\n",
    "obj\n"
   ]
  },
  {
   "cell_type": "code",
   "execution_count": 7,
   "id": "c10f33a9-3f12-4105-b835-aff98e82a480",
   "metadata": {},
   "outputs": [
    {
     "name": "stdout",
     "output_type": "stream",
     "text": [
      "0 0 0 0 0 \n",
      "0 1 2 3 4 \n",
      "0 2 4 6 8 \n",
      "0 3 6 9 12 \n",
      "0 4 8 12 16 \n"
     ]
    }
   ],
   "source": [
    "#Nested for loop\n",
    "for i in range(5):#outer loop\n",
    "    for j in range(5): #0 1 2 3 4 #inner loop\n",
    "        print(i*j,end=\" \")\n",
    "    print()"
   ]
  },
  {
   "cell_type": "code",
   "execution_count": 8,
   "id": "b4091da1-5424-48ac-89fc-459316244957",
   "metadata": {},
   "outputs": [
    {
     "name": "stdout",
     "output_type": "stream",
     "text": [
      "* 0 * 0 * 0 * 0 * 0 \n",
      "* 0 * 1 * 2 * 3 * 4 \n",
      "* 0 * 2 * 4 * 6 * 8 \n",
      "* 0 * 3 * 6 * 9 * 12 \n",
      "* 0 * 4 * 8 * 12 * 16 \n"
     ]
    }
   ],
   "source": [
    "for i in range(5):#outer loop\n",
    "    for j in range(5): #0 1 2 3 4 #inner loop\n",
    "        print(\"*\",i*j,end=\" \")\n",
    "    print()"
   ]
  },
  {
   "cell_type": "code",
   "execution_count": 11,
   "id": "db7172a0-298c-4c4f-b80b-8961a3cc8204",
   "metadata": {},
   "outputs": [
    {
     "data": {
      "text/plain": [
       "[[0, 0, 0, 0, 0],\n",
       " [0, 1, 2, 3, 4],\n",
       " [0, 2, 4, 6, 8],\n",
       " [0, 3, 6, 9, 12],\n",
       " [0, 4, 8, 12, 16],\n",
       " [0, 5, 10, 15, 20],\n",
       " [0, 6, 12, 18, 24],\n",
       " [0, 7, 14, 21, 28],\n",
       " [0, 8, 16, 24, 32],\n",
       " [0, 9, 18, 27, 36]]"
      ]
     },
     "execution_count": 11,
     "metadata": {},
     "output_type": "execute_result"
    }
   ],
   "source": [
    "#nested for loop in list comprehension\n",
    "[[j*i for j in range(5)] for i in range(10)]"
   ]
  },
  {
   "cell_type": "code",
   "execution_count": 1,
   "id": "79611a23-6e47-4582-b0d1-863c9a05e091",
   "metadata": {},
   "outputs": [],
   "source": [
    "doubles=[2,6,10,14,18]"
   ]
  },
  {
   "cell_type": "code",
   "execution_count": 2,
   "id": "75460386-aa4b-428e-b67a-935645cc73eb",
   "metadata": {},
   "outputs": [
    {
     "data": {
      "text/plain": [
       "50"
      ]
     },
     "execution_count": 2,
     "metadata": {},
     "output_type": "execute_result"
    }
   ],
   "source": [
    "from functools import reduce\n",
    "\n",
    "def add (a,b):\n",
    "    return a+b\n",
    "sum_all =reduce(add,doubles)\n",
    "sum_all"
   ]
  },
  {
   "cell_type": "code",
   "execution_count": 4,
   "id": "8bdf2d2b-c377-4d62-8442-8b462433456a",
   "metadata": {},
   "outputs": [
    {
     "data": {
      "text/plain": [
       "24"
      ]
     },
     "execution_count": 4,
     "metadata": {},
     "output_type": "execute_result"
    }
   ],
   "source": [
    "import operator\n",
    "list2=[1,2,3,4]\n",
    "product=reduce(operator.mul,list2)\n",
    "product"
   ]
  },
  {
   "cell_type": "code",
   "execution_count": 5,
   "id": "105f2c85-bbb2-4ae9-acff-0ab3eaddfde2",
   "metadata": {},
   "outputs": [
    {
     "data": {
      "text/plain": [
       "10"
      ]
     },
     "execution_count": 5,
     "metadata": {},
     "output_type": "execute_result"
    }
   ],
   "source": [
    "add=reduce(operator.add,list2)\n",
    "add"
   ]
  },
  {
   "cell_type": "code",
   "execution_count": 6,
   "id": "4b3f3f11-20af-4a14-bc95-562ef7ed3302",
   "metadata": {},
   "outputs": [
    {
     "data": {
      "text/plain": [
       "'PythonRocks'"
      ]
     },
     "execution_count": 6,
     "metadata": {},
     "output_type": "execute_result"
    }
   ],
   "source": [
    "concat_str=reduce(operator.add,['Python','','Rocks'])\n",
    "concat_str"
   ]
  },
  {
   "cell_type": "code",
   "execution_count": 7,
   "id": "51977856-2090-4556-a8d6-aadd97b9232e",
   "metadata": {},
   "outputs": [
    {
     "data": {
      "text/plain": [
       "'HelloHelloHello'"
      ]
     },
     "execution_count": 7,
     "metadata": {},
     "output_type": "execute_result"
    }
   ],
   "source": [
    "prod=reduce(operator.mul,['Hello',3])\n",
    "prod"
   ]
  },
  {
   "cell_type": "code",
   "execution_count": 8,
   "id": "e01f4062-2b62-45b5-986b-9475b9d5c5ba",
   "metadata": {},
   "outputs": [
    {
     "data": {
      "text/plain": [
       "1"
      ]
     },
     "execution_count": 8,
     "metadata": {},
     "output_type": "execute_result"
    }
   ],
   "source": [
    "min_num=reduce(lambda a,b:a if a <b else b,list2)\n",
    "min_num"
   ]
  },
  {
   "cell_type": "code",
   "execution_count": 9,
   "id": "883948ff-ab7a-4739-8870-7b3638811c74",
   "metadata": {},
   "outputs": [
    {
     "data": {
      "text/plain": [
       "4"
      ]
     },
     "execution_count": 9,
     "metadata": {},
     "output_type": "execute_result"
    }
   ],
   "source": [
    "max_num=reduce(lambda a,b:a if a >b else b,list2)\n",
    "max_num"
   ]
  },
  {
   "cell_type": "code",
   "execution_count": null,
   "id": "98c79682-221b-4af8-afcd-383996f05c4e",
   "metadata": {},
   "outputs": [],
   "source": []
  }
 ],
 "metadata": {
  "kernelspec": {
   "display_name": "Python 3 (ipykernel)",
   "language": "python",
   "name": "python3"
  },
  "language_info": {
   "codemirror_mode": {
    "name": "ipython",
    "version": 3
   },
   "file_extension": ".py",
   "mimetype": "text/x-python",
   "name": "python",
   "nbconvert_exporter": "python",
   "pygments_lexer": "ipython3",
   "version": "3.11.7"
  }
 },
 "nbformat": 4,
 "nbformat_minor": 5
}
